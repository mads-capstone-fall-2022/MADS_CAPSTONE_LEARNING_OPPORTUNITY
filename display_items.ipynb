{
 "cells": [
  {
   "cell_type": "code",
   "execution_count": 1,
   "id": "076f1a51-e9dd-407a-9a3c-1afd7ce37d3a",
   "metadata": {},
   "outputs": [],
   "source": [
    "import numpy as np\n",
    "import pandas as pd\n",
    "\n",
    "import plotly.express as px\n",
    "import plotly.graph_objects as go\n",
    "import plotly.io as pio\n",
    "\n",
    "pio.renderers.default='iframe'"
   ]
  },
  {
   "cell_type": "code",
   "execution_count": 2,
   "id": "37cfff0c-a395-4f85-98bf-b6b758c24154",
   "metadata": {},
   "outputs": [],
   "source": [
    "path = ''"
   ]
  },
  {
   "cell_type": "code",
   "execution_count": 10,
   "id": "93357554-c3c9-46af-bd18-1940945c2fb2",
   "metadata": {},
   "outputs": [],
   "source": [
    "# Import data\n",
    "plot_clust_df = pd.read_csv(path+'data_display/train_clusters.csv')\n",
    "feature_imp_df = pd.read_csv(path+'data_display/feature_imp.csv')"
   ]
  },
  {
   "cell_type": "code",
   "execution_count": 8,
   "id": "aeb75e95-9fc3-4f22-849f-75139c1eeeca",
   "metadata": {},
   "outputs": [
    {
     "data": {
      "text/html": [
       "<iframe\n",
       "    scrolling=\"no\"\n",
       "    width=\"820px\"\n",
       "    height=\"620\"\n",
       "    src=\"iframe_figures/figure_8.html\"\n",
       "    frameborder=\"0\"\n",
       "    allowfullscreen\n",
       "></iframe>\n"
      ]
     },
     "metadata": {},
     "output_type": "display_data"
    }
   ],
   "source": [
    "plot_clust_df['cluster'] = plot_clust_df['cluster'].astype(str)\n",
    "\n",
    "fig_sp_clusters = px.scatter(plot_clust_df, \n",
    "                             x='Component 1', \n",
    "                             y='Component 2', \n",
    "                             color='cluster', \n",
    "                             category_orders={'cluster': ['0', '1', '2', '3']}, \n",
    "                             log_x=True,\n",
    "                             log_y=True,\n",
    "                             width=800, \n",
    "                             height=600)\n",
    "\n",
    "fig_sp_clusters.show()"
   ]
  },
  {
   "cell_type": "code",
   "execution_count": 11,
   "id": "19efc7fc-4d60-4f15-b000-9b08ac14667c",
   "metadata": {},
   "outputs": [
    {
     "data": {
      "text/html": [
       "<iframe\n",
       "    scrolling=\"no\"\n",
       "    width=\"1220px\"\n",
       "    height=\"620\"\n",
       "    src=\"iframe_figures/figure_11.html\"\n",
       "    frameborder=\"0\"\n",
       "    allowfullscreen\n",
       "></iframe>\n"
      ]
     },
     "metadata": {},
     "output_type": "display_data"
    }
   ],
   "source": [
    "fig_bp_feat_imp = px.box(feature_imp_df, x='Variable', y='Importance', color='Cluster Name', height=600, width=1200)\n",
    "fig_bp_feat_imp.show()"
   ]
  },
  {
   "cell_type": "code",
   "execution_count": null,
   "id": "1d003645-8b5f-4361-b5bc-0ac6b939de4d",
   "metadata": {},
   "outputs": [],
   "source": []
  }
 ],
 "metadata": {
  "kernelspec": {
   "display_name": "Python 3 (ipykernel)",
   "language": "python",
   "name": "python3"
  },
  "language_info": {
   "codemirror_mode": {
    "name": "ipython",
    "version": 3
   },
   "file_extension": ".py",
   "mimetype": "text/x-python",
   "name": "python",
   "nbconvert_exporter": "python",
   "pygments_lexer": "ipython3",
   "version": "3.9.7"
  }
 },
 "nbformat": 4,
 "nbformat_minor": 5
}
