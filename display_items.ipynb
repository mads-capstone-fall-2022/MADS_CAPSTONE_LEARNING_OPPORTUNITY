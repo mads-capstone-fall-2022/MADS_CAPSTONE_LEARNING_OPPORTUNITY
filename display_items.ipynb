{
 "cells": [
  {
   "cell_type": "code",
   "execution_count": 1,
   "id": "076f1a51-e9dd-407a-9a3c-1afd7ce37d3a",
   "metadata": {
    "id": "076f1a51-e9dd-407a-9a3c-1afd7ce37d3a"
   },
   "outputs": [],
   "source": [
    "import numpy as np\n",
    "import pandas as pd\n",
    "\n",
    "import plotly.express as px\n",
    "import plotly.graph_objects as go\n",
    "from plotly.subplots import make_subplots\n",
    "import plotly.io as pio\n",
    "import plotly.figure_factory as ff\n",
    "\n",
    "import pickle\n",
    "\n",
    "pio.renderers.default='iframe'"
   ]
  },
  {
   "cell_type": "code",
   "execution_count": 2,
   "id": "37cfff0c-a395-4f85-98bf-b6b758c24154",
   "metadata": {
    "id": "37cfff0c-a395-4f85-98bf-b6b758c24154"
   },
   "outputs": [],
   "source": [
    "path = ''"
   ]
  },
  {
   "cell_type": "markdown",
   "id": "O26J_W9ev1Gk",
   "metadata": {
    "id": "O26J_W9ev1Gk"
   },
   "source": [
    "# Data Imports"
   ]
  },
  {
   "cell_type": "code",
   "execution_count": 29,
   "id": "xLvKeJYvvwbx",
   "metadata": {
    "id": "xLvKeJYvvwbx"
   },
   "outputs": [],
   "source": [
    "with open(path+'data_display/seda_display.pkl', 'rb') as f:\n",
    "    seda_df = pickle.load(f)\n",
    "\n",
    "with open(path+'data_display/coi_display.pkl', 'rb') as f:\n",
    "    coi_df = pickle.load(f)\n",
    "\n",
    "with open(path+'data_display/feature_imp.pkl', 'rb') as f:\n",
    "    feature_imp_df = pickle.load(f)\n",
    "\n",
    "with open(path+'data_display/clusters.pkl', 'rb') as f:\n",
    "    cluster_df = pickle.load(f)\n",
    "    \n",
    "cross_val_results_df = pd.read_csv(path+'data_display/cross_val_results.csv')\n",
    "\n",
    "model_results_df = pd.read_csv(path+'data_display/model_results.csv')"
   ]
  },
  {
   "cell_type": "markdown",
   "id": "WAvvUFp-xiJc",
   "metadata": {
    "id": "WAvvUFp-xiJc"
   },
   "source": [
    "# Data Preparation"
   ]
  },
  {
   "cell_type": "code",
   "execution_count": 27,
   "id": "egXk1EEqxfyg",
   "metadata": {
    "colab": {
     "base_uri": "https://localhost:8080/",
     "height": 675
    },
    "id": "egXk1EEqxfyg",
    "outputId": "6a290f2c-c59b-43fe-87a9-d07efd06ffe0"
   },
   "outputs": [],
   "source": [
    "# # Create df for cluster plot\n",
    "# cluster_df = coi_df.iloc[:, :]\n",
    "\n",
    "#rename the sedalean name column\n",
    "seda_df = seda_df.rename(columns={\"NAME_LEA15\": \"sedalea_name\"})\n",
    "#convert the data types for the field year(year)\n",
    "seda_df.loc[:, 'seda_year'] = pd.to_datetime(seda_df.loc[:,'seda_year'], format='%Y')\n",
    "\n",
    "\n",
    "# Set up positive and negative score flags\n",
    "seda_disp_df = seda_df.iloc[:, :]\n",
    "seda_disp_df['sign'] =  np.where(seda_disp_df['cs_mn_all'] >= 0, 'Positive', 'Negative')\n",
    "seda_disp_df['cs_mn_all_abs'] = np.abs(seda_disp_df['cs_mn_all'])\n",
    "\n",
    "\n",
    "# Add histogram data\n",
    "# # For Streamlit, make the histogram selection dynamic\n",
    "# x1 = np.array(seda_df[(seda_df['Cluster Name']=='Cluster 1')&(seda_df['seda_year']==v_year_choice)&(seda_df['subject']==v_subject)]['cs_mn_all'], dtype='float')\n",
    "# x2 = np.array(seda_df[(seda_df['Cluster Name']=='Cluster 2')&(seda_df['seda_year']==v_year_choice)&(seda_df['subject']==v_subject)]['cs_mn_all'], dtype='float')\n",
    "# x3 = np.array(seda_df[(seda_df['Cluster Name']=='Cluster 3')&(seda_df['seda_year']==v_year_choice)&(seda_df['subject']==v_subject)]['cs_mn_all'], dtype='float')\n",
    "# x4 = np.array(seda_df[(seda_df['Cluster Name']=='Cluster 4')&(seda_df['seda_year']==v_year_choice)&(seda_df['subject']==v_subject)]['cs_mn_all'], dtype='float')\n",
    "x1 = np.array(seda_df[seda_df['Cluster Name']=='Cluster 1']['cs_mn_all'], dtype='float')\n",
    "x2 = np.array(seda_df[seda_df['Cluster Name']=='Cluster 2']['cs_mn_all'], dtype='float')\n",
    "x3 = np.array(seda_df[seda_df['Cluster Name']=='Cluster 3']['cs_mn_all'], dtype='float')\n",
    "x4 = np.array(seda_df[seda_df['Cluster Name']=='Cluster 4']['cs_mn_all'], dtype='float')\n",
    "\n",
    "\n",
    "# Group data together\n",
    "hist_data = [x1, x2, x3, x4]\n",
    "group_labels = ['Cluster 1', 'Cluster 2', 'Cluster 3', 'Cluster 4']\n",
    "\n",
    "\n",
    "# Prep for COI histograms\n",
    "hist_coi_cols = ['ED_SCHPOV', 'ED_ATTAIN', 'ED_MATH', 'ED_READING', 'SE_SINGLE', 'HE_HLTHINS', 'HE_PM25', 'HE_RSEI']\n",
    "hist_coi_names = ['School Poverty', 'Adult Ed Attainment', '3rd Grade Math Proficiency', '3rd Grade Reading Proficiency', \n",
    "                  'Single-Headed Households', 'Health Insurance Coverage', 'Airborne Microparticles', 'Industrial Pollutants']\n",
    "hist_coi_labels = {hist_coi_cols[i]: hist_coi_names[i] for i in range(len(hist_coi_names))}\n",
    "\n",
    "hist_coi = coi_df.melt(id_vars=['LEAID', 'NAME_LEA15', 'Cluster Name'], value_vars=hist_coi_cols, \n",
    "                       var_name='COI Variable', value_name='Value').reset_index()\n",
    "hist_coi['COI Variable'] = hist_coi['COI Variable'].replace(hist_coi_labels)\n",
    "\n",
    "coi_hist_1 = hist_coi[hist_coi['COI Variable'].isin(hist_coi_names[:4])]\n",
    "coi_hist_2 = hist_coi[hist_coi['COI Variable'].isin(hist_coi_names[4:])]\n",
    "\n",
    "\n",
    "# Residuals\n",
    "seda_df['residuals'] = seda_df['cs_mn_all'] - seda_df['predictions']"
   ]
  },
  {
   "cell_type": "markdown",
   "id": "FG97AqZlyIpm",
   "metadata": {
    "id": "FG97AqZlyIpm"
   },
   "source": [
    "# Figures"
   ]
  },
  {
   "cell_type": "code",
   "execution_count": 5,
   "id": "gzJGfpC2yHsW",
   "metadata": {
    "id": "gzJGfpC2yHsW"
   },
   "outputs": [
    {
     "data": {
      "text/html": [
       "<iframe\n",
       "    scrolling=\"no\"\n",
       "    width=\"100%\"\n",
       "    height=\"545px\"\n",
       "    src=\"iframe_figures/figure_5.html\"\n",
       "    frameborder=\"0\"\n",
       "    allowfullscreen\n",
       "></iframe>\n"
      ]
     },
     "metadata": {},
     "output_type": "display_data"
    }
   ],
   "source": [
    "# Create mapbox plot\n",
    "fig_map = px.scatter_mapbox(data_frame=seda_disp_df,lat='latitude', lon='longitude', color='sign',color_discrete_sequence=px.colors.qualitative.G10,\n",
    "                        zoom = 2,size='cs_mn_all_abs' ,text='sedalea_name', color_discrete_map = {'Negative': '#AB63FA', 'Positive':'#FECB52'},hover_data = ['sedalea_name','stateabb'], hover_name='sedalea_name')\n",
    "fig_map.update_layout(margin={\"r\":0,\"t\":0,\"l\":0,\"b\":0})\n",
    "fig_map.update_layout(mapbox_style=\"open-street-map\", autosize=True)\n",
    "fig_map.show()"
   ]
  },
  {
   "cell_type": "code",
   "execution_count": 6,
   "id": "d5M67o_yyPON",
   "metadata": {
    "id": "d5M67o_yyPON"
   },
   "outputs": [
    {
     "data": {
      "text/html": [
       "<iframe\n",
       "    scrolling=\"no\"\n",
       "    width=\"100%\"\n",
       "    height=\"545px\"\n",
       "    src=\"iframe_figures/figure_6.html\"\n",
       "    frameborder=\"0\"\n",
       "    allowfullscreen\n",
       "></iframe>\n"
      ]
     },
     "metadata": {},
     "output_type": "display_data"
    }
   ],
   "source": [
    "# Create distplot with custom bin_size\n",
    "fig_dist = ff.create_distplot(\n",
    "        hist_data, group_labels)\n",
    "fig_dist.update_layout(autosize=True,legend={'traceorder':'normal'})\n",
    "fig_dist.show()"
   ]
  },
  {
   "cell_type": "code",
   "execution_count": 7,
   "id": "aeb75e95-9fc3-4f22-849f-75139c1eeeca",
   "metadata": {
    "colab": {
     "base_uri": "https://localhost:8080/",
     "height": 617
    },
    "id": "aeb75e95-9fc3-4f22-849f-75139c1eeeca",
    "outputId": "b7244fed-de4a-4c1b-8ba0-2ebb7526c1ef"
   },
   "outputs": [
    {
     "data": {
      "text/html": [
       "<iframe\n",
       "    scrolling=\"no\"\n",
       "    width=\"820px\"\n",
       "    height=\"620\"\n",
       "    src=\"iframe_figures/figure_7.html\"\n",
       "    frameborder=\"0\"\n",
       "    allowfullscreen\n",
       "></iframe>\n"
      ]
     },
     "metadata": {},
     "output_type": "display_data"
    }
   ],
   "source": [
    "fig_sp_clusters = px.scatter(cluster_df, \n",
    "                             x='Component 1', \n",
    "                             y='Component 2', \n",
    "                             color='Cluster Name', \n",
    "                             category_orders={'Cluster Name': ['Cluster 1', 'Cluster 2', 'Cluster 3', 'Cluster  4']}, \n",
    "                             hover_name='NAME_LEA15',\n",
    "                             log_x=True,\n",
    "                             log_y=True,\n",
    "                             width=800, \n",
    "                             height=600,\n",
    "                             title='School District Clusters from COI Indicators'\n",
    "                             )\n",
    "fig_sp_clusters.update_xaxes(showgrid=False)\n",
    "fig_sp_clusters.update_yaxes(showgrid=False)\n",
    "\n",
    "fig_sp_clusters.show()"
   ]
  },
  {
   "cell_type": "code",
   "execution_count": 56,
   "id": "ySFF1cejzhIA",
   "metadata": {
    "id": "ySFF1cejzhIA"
   },
   "outputs": [
    {
     "data": {
      "text/html": [
       "<iframe\n",
       "    scrolling=\"no\"\n",
       "    width=\"1220px\"\n",
       "    height=\"520\"\n",
       "    src=\"iframe_figures/figure_56.html\"\n",
       "    frameborder=\"0\"\n",
       "    allowfullscreen\n",
       "></iframe>\n"
      ]
     },
     "metadata": {},
     "output_type": "display_data"
    }
   ],
   "source": [
    "sp_coi_hist_1 = px.histogram(coi_hist_1, \n",
    "                             x='Value', \n",
    "                             color='Cluster Name', \n",
    "                             category_orders={'Cluster Name': ['Cluster 1', 'Cluster 2', 'Cluster 3', 'Cluster  4']}, \n",
    "                             facet_col='COI Variable', \n",
    "                             marginal='violin',\n",
    "                             nbins=100,\n",
    "                             width=1200,\n",
    "                             height=500,\n",
    "                             title='Important COI Feature Distributions')\n",
    "\n",
    "sp_coi_hist_1.show()"
   ]
  },
  {
   "cell_type": "code",
   "execution_count": 55,
   "id": "SbVww8s3zhQY",
   "metadata": {
    "id": "SbVww8s3zhQY"
   },
   "outputs": [
    {
     "data": {
      "text/html": [
       "<iframe\n",
       "    scrolling=\"no\"\n",
       "    width=\"1220px\"\n",
       "    height=\"520\"\n",
       "    src=\"iframe_figures/figure_55.html\"\n",
       "    frameborder=\"0\"\n",
       "    allowfullscreen\n",
       "></iframe>\n"
      ]
     },
     "metadata": {},
     "output_type": "display_data"
    }
   ],
   "source": [
    "sp_coi_hist_2 = px.histogram(coi_hist_2, \n",
    "                             x='Value', \n",
    "                             color='Cluster Name', \n",
    "                             category_orders={'Cluster Name': ['Cluster 1', 'Cluster 2', 'Cluster 3', 'Cluster  4']}, \n",
    "                             facet_col='COI Variable', \n",
    "                             marginal='violin',\n",
    "                             nbins=100,\n",
    "                             width=1200,\n",
    "                             height=500)\n",
    "\n",
    "sp_coi_hist_2.show()"
   ]
  },
  {
   "cell_type": "code",
   "execution_count": 10,
   "id": "IISx1bB83NdR",
   "metadata": {
    "id": "IISx1bB83NdR"
   },
   "outputs": [],
   "source": [
    "# feature_imp_all_df = feature_imp_df.groupby(['Cluster Name', 'Variable']).mean().reset_index()\n",
    "\n",
    "# fig = px.bar(feature_imp_all_df, x='Variable', y='Importance', color='Cluster Name', barmode='group', log_y=True, height=800, width=1200)\n",
    "# fig.show()"
   ]
  },
  {
   "cell_type": "code",
   "execution_count": 11,
   "id": "6f6ZQWdz_Jc-",
   "metadata": {
    "colab": {
     "base_uri": "https://localhost:8080/",
     "height": 542
    },
    "id": "6f6ZQWdz_Jc-",
    "outputId": "8c152c99-e488-4160-93b2-6d13f314f1f0"
   },
   "outputs": [
    {
     "data": {
      "text/html": [
       "<iframe\n",
       "    scrolling=\"no\"\n",
       "    width=\"820px\"\n",
       "    height=\"820\"\n",
       "    src=\"iframe_figures/figure_11.html\"\n",
       "    frameborder=\"0\"\n",
       "    allowfullscreen\n",
       "></iframe>\n"
      ]
     },
     "metadata": {},
     "output_type": "display_data"
    }
   ],
   "source": [
    "fig_resid = px.scatter(seda_df, \n",
    "                       x='predictions', \n",
    "                       y='residuals', \n",
    "                       opacity=0.25, \n",
    "                       labels=dict(predictions='Predicted Values', residuals='Residuals'),\n",
    "                       title='Residuals for All-Cluster Model',\n",
    "                       height=800,\n",
    "                       width=800\n",
    "                       )\n",
    "fig_resid.show()"
   ]
  },
  {
   "cell_type": "code",
   "execution_count": 12,
   "id": "19efc7fc-4d60-4f15-b000-9b08ac14667c",
   "metadata": {
    "colab": {
     "base_uri": "https://localhost:8080/",
     "height": 635
    },
    "id": "19efc7fc-4d60-4f15-b000-9b08ac14667c",
    "outputId": "96038ca6-1f11-4ae4-da78-5804868c9888"
   },
   "outputs": [
    {
     "data": {
      "text/html": [
       "<iframe\n",
       "    scrolling=\"no\"\n",
       "    width=\"1220px\"\n",
       "    height=\"620\"\n",
       "    src=\"iframe_figures/figure_12.html\"\n",
       "    frameborder=\"0\"\n",
       "    allowfullscreen\n",
       "></iframe>\n"
      ]
     },
     "metadata": {},
     "output_type": "display_data"
    }
   ],
   "source": [
    "fig_bp_feat_imp = px.box(feature_imp_df, x='Variable', y='Importance', color='Cluster Name', height=600, width=1200)\n",
    "fig_bp_feat_imp.show()"
   ]
  },
  {
   "cell_type": "code",
   "execution_count": 53,
   "id": "Z-H8pgpTIUMc",
   "metadata": {
    "id": "Z-H8pgpTIUMc"
   },
   "outputs": [
    {
     "data": {
      "text/html": [
       "<iframe\n",
       "    scrolling=\"no\"\n",
       "    width=\"1020px\"\n",
       "    height=\"920\"\n",
       "    src=\"iframe_figures/figure_53.html\"\n",
       "    frameborder=\"0\"\n",
       "    allowfullscreen\n",
       "></iframe>\n"
      ]
     },
     "metadata": {},
     "output_type": "display_data"
    }
   ],
   "source": [
    "fig_model_results = go.Figure(data=[go.Table(columnwidth = [300, 300, 100, 100, 100],\n",
    "                                             header=dict(values=list(model_results_df.columns),\n",
    "                                                         fill_color='black', \n",
    "                                                         font=dict(color='white', size=16)), \n",
    "                                             cells=dict(values=[model_results_df['Model'], model_results_df['Hyperparameters'], \n",
    "                                                                model_results_df['Cluster'], model_results_df['Training Set Score'], \n",
    "                                                                model_results_df['Test Set Score']], \n",
    "                                                        align=['left', 'left', 'left', 'right', 'right'],\n",
    "                                                        fill_color='grey', \n",
    "                                                        line_color='white',\n",
    "                                                        font=dict(color='white', size=14),\n",
    "                                                        format=[None, None, None, '.4f', '.4f']))])\n",
    "fig_model_results.update_layout(\n",
    "    height=900,\n",
    "    width=1000,\n",
    "    showlegend=False,\n",
    "    title_text='Predictive Model Results',\n",
    ")\n",
    "\n",
    "fig_model_results.show()"
   ]
  },
  {
   "cell_type": "code",
   "execution_count": 54,
   "id": "89011395-5e48-48ea-a4b8-63516d173819",
   "metadata": {},
   "outputs": [
    {
     "data": {
      "text/html": [
       "<iframe\n",
       "    scrolling=\"no\"\n",
       "    width=\"920px\"\n",
       "    height=\"920\"\n",
       "    src=\"iframe_figures/figure_54.html\"\n",
       "    frameborder=\"0\"\n",
       "    allowfullscreen\n",
       "></iframe>\n"
      ]
     },
     "metadata": {},
     "output_type": "display_data"
    }
   ],
   "source": [
    "fig_cross_val = go.Figure(data=[go.Table(columnwidth = [100, 100, 200, 100],\n",
    "                                             header=dict(values=list(cross_val_results_df.columns), \n",
    "                                                         fill_color='black', \n",
    "                                                         font=dict(color='white', size=16)), \n",
    "                                             cells=dict(values=[cross_val_results_df['Cluster'], cross_val_results_df['Cross-Val Iteration'], \n",
    "                                                                cross_val_results_df['Best Parameters'], cross_val_results_df['Best Score']], \n",
    "                                                        align=['left', 'left', 'left', 'right'], \n",
    "                                                        fill_color='grey', \n",
    "                                                        line_color='white',\n",
    "                                                        font=dict(color='white', size=14),\n",
    "                                                        format=[None, None, None, '.4f']))])\n",
    "fig_cross_val.update_layout(\n",
    "    height=900,\n",
    "    width=900,\n",
    "    showlegend=False,\n",
    "    title_text='Cross-Validation Grid Search Results',\n",
    ")\n",
    "\n",
    "fig_cross_val.show()"
   ]
  },
  {
   "cell_type": "code",
   "execution_count": null,
   "id": "7cae8ff7-3b33-4e74-b575-2f572de996e5",
   "metadata": {},
   "outputs": [],
   "source": []
  }
 ],
 "metadata": {
  "colab": {
   "provenance": [],
   "toc_visible": true
  },
  "kernelspec": {
   "display_name": "Python 3 (ipykernel)",
   "language": "python",
   "name": "python3"
  },
  "language_info": {
   "codemirror_mode": {
    "name": "ipython",
    "version": 3
   },
   "file_extension": ".py",
   "mimetype": "text/x-python",
   "name": "python",
   "nbconvert_exporter": "python",
   "pygments_lexer": "ipython3",
   "version": "3.9.7"
  }
 },
 "nbformat": 4,
 "nbformat_minor": 5
}
