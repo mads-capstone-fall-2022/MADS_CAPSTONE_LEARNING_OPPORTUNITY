{
 "cells": [
  {
   "cell_type": "code",
   "execution_count": 1,
   "id": "943c8adf-40bb-47d3-ae3b-1ef2cd529439",
   "metadata": {},
   "outputs": [],
   "source": [
    "import numpy as np\n",
    "import pandas as pd\n",
    "\n",
    "random_state = 42"
   ]
  },
  {
   "cell_type": "code",
   "execution_count": 2,
   "id": "3f7f98d3-bac5-4b66-9627-7cf23dd13d88",
   "metadata": {},
   "outputs": [],
   "source": [
    "path = ''"
   ]
  },
  {
   "cell_type": "code",
   "execution_count": 3,
   "id": "70ae3dd2-a2a1-485e-aff5-f2c91437a23c",
   "metadata": {},
   "outputs": [],
   "source": [
    "leaids_train_2010 = pd.read_csv(path+'data_inprocess/leaids_train_2010.csv', index_col=0).squeeze('columns')\n",
    "leaids_train_2015 = pd.read_csv(path+'data_inprocess/leaids_train_2015.csv', index_col=0).squeeze('columns')\n",
    "leaids_test_2010 = pd.read_csv(path+'data_inprocess/leaids_test_2010.csv', index_col=0).squeeze('columns')\n",
    "leaids_test_2015 = pd.read_csv(path+'data_inprocess/leaids_test_2015.csv', index_col=0).squeeze('columns')"
   ]
  },
  {
   "cell_type": "code",
   "execution_count": 4,
   "id": "04ae55b6-1df1-4415-8d59-c0a33295e667",
   "metadata": {},
   "outputs": [
    {
     "data": {
      "text/plain": [
       "0    3904737\n",
       "1    4823310\n",
       "2    4807890\n",
       "3     804860\n",
       "4    4838900\n",
       "Name: 0, dtype: int64"
      ]
     },
     "execution_count": 4,
     "metadata": {},
     "output_type": "execute_result"
    }
   ],
   "source": [
    "leaids_train_2010.head()"
   ]
  },
  {
   "cell_type": "code",
   "execution_count": 5,
   "id": "9d5a9e63-5acb-4789-9d20-e8e90c23d936",
   "metadata": {},
   "outputs": [],
   "source": [
    "seda = pd.read_csv('data_raw/seda_geodist_long_cs_4.1.csv')"
   ]
  },
  {
   "cell_type": "code",
   "execution_count": 6,
   "id": "dc5f9cae-123e-41bc-97a9-caad72568e7c",
   "metadata": {},
   "outputs": [
    {
     "data": {
      "text/plain": [
       "Index(['fips', 'stateabb', 'sedalea', 'sedaleaname', 'subject', 'grade',\n",
       "       'year', 'cs_mn_all', 'cs_mnse_all', 'totgyb_all', 'cs_mn_asn',\n",
       "       'cs_mnse_asn', 'totgyb_asn', 'cs_mn_blk', 'cs_mnse_blk', 'totgyb_blk',\n",
       "       'cs_mn_ecd', 'cs_mnse_ecd', 'totgyb_ecd', 'cs_mn_fem', 'cs_mnse_fem',\n",
       "       'totgyb_fem', 'cs_mn_hsp', 'cs_mnse_hsp', 'totgyb_hsp', 'cs_mn_mal',\n",
       "       'cs_mnse_mal', 'totgyb_mal', 'cs_mn_mfg', 'cs_mnse_mfg', 'totgyb_mfg',\n",
       "       'cs_mn_mtr', 'cs_mnse_mtr', 'totgyb_mtr', 'cs_mn_nam', 'cs_mnse_nam',\n",
       "       'totgyb_nam', 'cs_mn_nec', 'cs_mnse_nec', 'totgyb_nec', 'cs_mn_neg',\n",
       "       'cs_mnse_neg', 'totgyb_neg', 'cs_mn_wag', 'cs_mnse_wag', 'totgyb_wag',\n",
       "       'cs_mn_wbg', 'cs_mnse_wbg', 'totgyb_wbg', 'cs_mn_whg', 'cs_mnse_whg',\n",
       "       'totgyb_whg', 'cs_mn_wht', 'cs_mnse_wht', 'totgyb_wht', 'cs_mn_wmg',\n",
       "       'cs_mnse_wmg', 'totgyb_wmg', 'cs_mn_wng', 'cs_mnse_wng', 'totgyb_wng'],\n",
       "      dtype='object')"
      ]
     },
     "execution_count": 6,
     "metadata": {},
     "output_type": "execute_result"
    }
   ],
   "source": [
    "seda.columns"
   ]
  },
  {
   "cell_type": "code",
   "execution_count": 6,
   "id": "ab2b2e8b-de90-4e54-9c10-c058ab13d7e2",
   "metadata": {},
   "outputs": [
    {
     "data": {
      "text/plain": [
       "(418786, 61)"
      ]
     },
     "execution_count": 6,
     "metadata": {},
     "output_type": "execute_result"
    }
   ],
   "source": [
    "seda_train_2010 = seda[seda['sedalea'].isin(leaids_train_2010)]\n",
    "seda_train_2010 = seda_train_2010[seda_train_2010['grade'] > 3]\n",
    "seda_train_2010 = seda_train_2010[(seda_train_2010['year'] >= 2011) & (seda_train_2010['year'] <= 2015)]\n",
    "\n",
    "seda_train_2010.shape"
   ]
  },
  {
   "cell_type": "code",
   "execution_count": 9,
   "id": "2d2e875a-4d31-47ee-ad00-8b3c68b645f4",
   "metadata": {},
   "outputs": [
    {
     "data": {
      "text/plain": [
       "(239837, 61)"
      ]
     },
     "execution_count": 9,
     "metadata": {},
     "output_type": "execute_result"
    }
   ],
   "source": [
    "seda_train_2015 = seda[seda['sedalea'].isin(leaids_train_2015)]\n",
    "seda_train_2015 = seda_train_2015[seda_train_2015['grade'] > 3]\n",
    "seda_train_2015 = seda_train_2015[seda_train_2015['year'] >= 2016]\n",
    "\n",
    "seda_train_2015.shape"
   ]
  },
  {
   "cell_type": "code",
   "execution_count": 8,
   "id": "d84c34ed-3bdf-41c5-a663-6a54b1823ca8",
   "metadata": {},
   "outputs": [
    {
     "data": {
      "text/plain": [
       "(104359, 61)"
      ]
     },
     "execution_count": 8,
     "metadata": {},
     "output_type": "execute_result"
    }
   ],
   "source": [
    "seda_test_2010 = seda[seda['sedalea'].isin(leaids_test_2010)]\n",
    "seda_test_2010 = seda_test_2010[seda_test_2010['grade'] > 3]\n",
    "seda_test_2010 = seda_test_2010[(seda_test_2010['year'] >= 2011) & (seda_test_2010['year'] <= 2015)]\n",
    "\n",
    "seda_test_2010.shape"
   ]
  },
  {
   "cell_type": "code",
   "execution_count": 11,
   "id": "0003a9dc-ce42-45ca-aee3-9731775ce241",
   "metadata": {},
   "outputs": [
    {
     "data": {
      "text/plain": [
       "(59992, 61)"
      ]
     },
     "execution_count": 11,
     "metadata": {},
     "output_type": "execute_result"
    }
   ],
   "source": [
    "seda_test_2015 = seda[seda['sedalea'].isin(leaids_test_2010)]\n",
    "seda_test_2015 = seda_test_2015[seda_test_2015['grade'] > 3]\n",
    "seda_test_2015 = seda_test_2015[seda_test_2015['year'] >= 2016]\n",
    "\n",
    "seda_test_2015.shape"
   ]
  },
  {
   "cell_type": "code",
   "execution_count": 10,
   "id": "636296d8-e968-4fb1-8469-6e37b8fe1932",
   "metadata": {},
   "outputs": [],
   "source": [
    "# Write SEDA train/test to csv\n",
    "seda_train_2010.to_csv('data_cleaned/seda_train_2010.csv')\n",
    "seda_train_2015.to_csv('data_cleaned/seda_train_2015.csv')\n",
    "seda_test_2010.to_csv('data_cleaned/seda_test_2010.csv')\n",
    "seda_test_2015.to_csv('data_cleaned/seda_test_2015.csv')"
   ]
  },
  {
   "cell_type": "code",
   "execution_count": null,
   "id": "396d1faa-1dfc-4c52-a5f4-45797d1e7659",
   "metadata": {},
   "outputs": [],
   "source": []
  }
 ],
 "metadata": {
  "kernelspec": {
   "display_name": "Python 3 (ipykernel)",
   "language": "python",
   "name": "python3"
  },
  "language_info": {
   "codemirror_mode": {
    "name": "ipython",
    "version": 3
   },
   "file_extension": ".py",
   "mimetype": "text/x-python",
   "name": "python",
   "nbconvert_exporter": "python",
   "pygments_lexer": "ipython3",
   "version": "3.9.7"
  }
 },
 "nbformat": 4,
 "nbformat_minor": 5
}
