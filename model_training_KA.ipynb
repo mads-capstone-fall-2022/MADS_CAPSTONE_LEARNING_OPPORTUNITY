{
 "cells": [
  {
   "cell_type": "code",
   "execution_count": 1,
   "id": "57c0ebfe-4d6a-4ec3-962a-879814e5f169",
   "metadata": {
    "id": "57c0ebfe-4d6a-4ec3-962a-879814e5f169"
   },
   "outputs": [],
   "source": [
    "import numpy as np\n",
    "import pandas as pd\n",
    "\n",
    "from sklearn.preprocessing import StandardScaler\n",
    "from sklearn.decomposition import PCA\n",
    "from sklearn.cluster import KMeans\n",
    "from sklearn.linear_model import LinearRegression, Lasso, Ridge\n",
    "from sklearn.ensemble import GradientBoostingRegressor, RandomForestRegressor, HistGradientBoostingRegressor\n",
    "from sklearn.model_selection import GridSearchCV, KFold\n",
    "from sklearn.inspection import permutation_importance\n",
    "\n",
    "import plotly.express as px\n",
    "import plotly.graph_objects as go\n",
    "import plotly.io as pio\n",
    "\n",
    "pio.renderers.default='iframe'\n",
    "\n",
    "random_state = 42\n",
    "n_jobs = 8"
   ]
  },
  {
   "cell_type": "code",
   "execution_count": 2,
   "id": "198f1a57-fad4-418b-939c-4d0d67435fc0",
   "metadata": {
    "id": "198f1a57-fad4-418b-939c-4d0d67435fc0",
    "outputId": "ee0dd561-99ed-40c9-ccf0-2ab5bedde084"
   },
   "outputs": [],
   "source": [
    "#sklearn.__version__"
   ]
  },
  {
   "cell_type": "markdown",
   "id": "2f0ff28f-8da0-4eb7-b922-ceff881dca0f",
   "metadata": {},
   "source": [
    "# Data Loading"
   ]
  },
  {
   "cell_type": "code",
   "execution_count": 3,
   "id": "55052303-4900-47d6-80ce-96151b168423",
   "metadata": {
    "id": "55052303-4900-47d6-80ce-96151b168423"
   },
   "outputs": [],
   "source": [
    "path = ''"
   ]
  },
  {
   "cell_type": "code",
   "execution_count": 4,
   "id": "cc177bb2-a727-44dc-ab6e-72e760a88ea2",
   "metadata": {
    "id": "cc177bb2-a727-44dc-ab6e-72e760a88ea2"
   },
   "outputs": [],
   "source": [
    "coi_train_2010 = pd.read_csv(path+'data_cleaned/coi_district_grouped_train_2010.csv', index_col=0)\n",
    "coi_train_2015 = pd.read_csv(path+'data_cleaned/coi_district_grouped_train_2015.csv', index_col=0)\n",
    "coi_test_2010 = pd.read_csv(path+'data_cleaned/coi_district_grouped_test_2010.csv', index_col=0)\n",
    "coi_test_2015 = pd.read_csv(path+'data_cleaned/coi_district_grouped_test_2015.csv', index_col=0)"
   ]
  },
  {
   "cell_type": "code",
   "execution_count": 5,
   "id": "16c4f688-664b-474a-9b48-63a3199292d1",
   "metadata": {
    "id": "16c4f688-664b-474a-9b48-63a3199292d1"
   },
   "outputs": [],
   "source": [
    "seda_train_2010 = pd.read_csv(path+'data_cleaned/seda_train_2010.csv', index_col=0)\n",
    "seda_train_2015 = pd.read_csv(path+'data_cleaned/seda_train_2015.csv', index_col=0)\n",
    "seda_test_2010 = pd.read_csv(path+'data_cleaned/seda_test_2010.csv', index_col=0)\n",
    "seda_test_2015 = pd.read_csv(path+'data_cleaned/seda_test_2015.csv', index_col=0)"
   ]
  },
  {
   "cell_type": "code",
   "execution_count": null,
   "id": "33e44887-478d-4e56-85b0-f9f9e675113b",
   "metadata": {
    "id": "33e44887-478d-4e56-85b0-f9f9e675113b"
   },
   "outputs": [],
   "source": [
    "#clusters_2010 = pd.read_csv(path+'data_cleaned/pca_with_coi_district_grouped_data_2010.csv')"
   ]
  },
  {
   "cell_type": "code",
   "execution_count": null,
   "id": "804d845f-c5c8-4f87-9607-5a569dac31f0",
   "metadata": {
    "id": "804d845f-c5c8-4f87-9607-5a569dac31f0",
    "outputId": "69548ae5-cd05-4679-c986-24b9725f8933"
   },
   "outputs": [
    {
     "data": {
      "text/plain": [
       "Index(['LEAID', 'NAME_LEA15', 'year', 'pop_child', 'pop_total', 'pop_scaled',\n",
       "       'ED_APENR', 'ED_ATTAIN', 'ED_COLLEGE', 'ED_ECENROL', 'ED_HSGRAD',\n",
       "       'ED_MATH', 'ED_READING', 'ED_SCHPOV', 'ED_TEACHXP', 'ED_PRXECE',\n",
       "       'ED_PRXHQECE', 'HE_FOOD', 'HE_GREEN', 'HE_HEAT', 'HE_HLTHINS',\n",
       "       'HE_OZONE', 'HE_PM25', 'HE_VACANCY', 'HE_WALK', 'HE_SUPRFND', 'HE_RSEI',\n",
       "       'SE_POVRATE', 'SE_PUBLIC', 'SE_HOME', 'SE_OCC', 'SE_MHE', 'SE_EMPRAT',\n",
       "       'SE_JOBPROX', 'SE_SINGLE'],\n",
       "      dtype='object')"
      ]
     },
     "execution_count": 7,
     "metadata": {},
     "output_type": "execute_result"
    }
   ],
   "source": [
    "coi_train_2010.columns"
   ]
  },
  {
   "cell_type": "code",
   "execution_count": null,
   "id": "5d349cb7-8316-490b-8419-652245fb252d",
   "metadata": {
    "id": "5d349cb7-8316-490b-8419-652245fb252d",
    "outputId": "cf9f9891-c4c4-4f5e-c45d-8e06c0f60ff6"
   },
   "outputs": [
    {
     "data": {
      "text/html": [
       "<div>\n",
       "<style scoped>\n",
       "    .dataframe tbody tr th:only-of-type {\n",
       "        vertical-align: middle;\n",
       "    }\n",
       "\n",
       "    .dataframe tbody tr th {\n",
       "        vertical-align: top;\n",
       "    }\n",
       "\n",
       "    .dataframe thead th {\n",
       "        text-align: right;\n",
       "    }\n",
       "</style>\n",
       "<table border=\"1\" class=\"dataframe\">\n",
       "  <thead>\n",
       "    <tr style=\"text-align: right;\">\n",
       "      <th></th>\n",
       "      <th>LEAID</th>\n",
       "      <th>NAME_LEA15</th>\n",
       "      <th>year</th>\n",
       "      <th>pop_child</th>\n",
       "      <th>pop_total</th>\n",
       "      <th>pop_scaled</th>\n",
       "      <th>ED_APENR</th>\n",
       "      <th>ED_ATTAIN</th>\n",
       "      <th>ED_COLLEGE</th>\n",
       "      <th>ED_ECENROL</th>\n",
       "      <th>...</th>\n",
       "      <th>HE_SUPRFND</th>\n",
       "      <th>HE_RSEI</th>\n",
       "      <th>SE_POVRATE</th>\n",
       "      <th>SE_PUBLIC</th>\n",
       "      <th>SE_HOME</th>\n",
       "      <th>SE_OCC</th>\n",
       "      <th>SE_MHE</th>\n",
       "      <th>SE_EMPRAT</th>\n",
       "      <th>SE_JOBPROX</th>\n",
       "      <th>SE_SINGLE</th>\n",
       "    </tr>\n",
       "  </thead>\n",
       "  <tbody>\n",
       "    <tr>\n",
       "      <th>6674</th>\n",
       "      <td>3616290</td>\n",
       "      <td>Kingston City School District</td>\n",
       "      <td>2015</td>\n",
       "      <td>12196</td>\n",
       "      <td>65182</td>\n",
       "      <td>48757.136514</td>\n",
       "      <td>-0.173540</td>\n",
       "      <td>-0.007099</td>\n",
       "      <td>0.785420</td>\n",
       "      <td>0.270751</td>\n",
       "      <td>...</td>\n",
       "      <td>-0.237684</td>\n",
       "      <td>-1.209251</td>\n",
       "      <td>-0.002945</td>\n",
       "      <td>0.442495</td>\n",
       "      <td>-0.249162</td>\n",
       "      <td>0.177414</td>\n",
       "      <td>-0.223367</td>\n",
       "      <td>0.140251</td>\n",
       "      <td>-0.167120</td>\n",
       "      <td>0.611811</td>\n",
       "    </tr>\n",
       "    <tr>\n",
       "      <th>7420</th>\n",
       "      <td>3904671</td>\n",
       "      <td>Central Local School District</td>\n",
       "      <td>2015</td>\n",
       "      <td>4141</td>\n",
       "      <td>16495</td>\n",
       "      <td>6480.493488</td>\n",
       "      <td>-1.064812</td>\n",
       "      <td>-0.695384</td>\n",
       "      <td>-0.776539</td>\n",
       "      <td>0.090538</td>\n",
       "      <td>...</td>\n",
       "      <td>-0.237684</td>\n",
       "      <td>0.608144</td>\n",
       "      <td>-0.561459</td>\n",
       "      <td>-0.594014</td>\n",
       "      <td>1.112889</td>\n",
       "      <td>-0.628138</td>\n",
       "      <td>-0.008395</td>\n",
       "      <td>0.534488</td>\n",
       "      <td>-0.535633</td>\n",
       "      <td>-0.363880</td>\n",
       "    </tr>\n",
       "    <tr>\n",
       "      <th>7648</th>\n",
       "      <td>3905059</td>\n",
       "      <td>Triway Local School District</td>\n",
       "      <td>2015</td>\n",
       "      <td>10132</td>\n",
       "      <td>38526</td>\n",
       "      <td>14988.878014</td>\n",
       "      <td>-0.399149</td>\n",
       "      <td>-0.545394</td>\n",
       "      <td>0.138146</td>\n",
       "      <td>-0.117212</td>\n",
       "      <td>...</td>\n",
       "      <td>-0.237684</td>\n",
       "      <td>0.694135</td>\n",
       "      <td>0.351504</td>\n",
       "      <td>0.336109</td>\n",
       "      <td>0.170317</td>\n",
       "      <td>-0.477178</td>\n",
       "      <td>-0.381820</td>\n",
       "      <td>0.128199</td>\n",
       "      <td>-0.494191</td>\n",
       "      <td>0.058290</td>\n",
       "    </tr>\n",
       "    <tr>\n",
       "      <th>10326</th>\n",
       "      <td>5306000</td>\n",
       "      <td>Oakville School District</td>\n",
       "      <td>2015</td>\n",
       "      <td>1683</td>\n",
       "      <td>7917</td>\n",
       "      <td>1444.199512</td>\n",
       "      <td>-1.330084</td>\n",
       "      <td>-0.790481</td>\n",
       "      <td>-1.595310</td>\n",
       "      <td>0.346525</td>\n",
       "      <td>...</td>\n",
       "      <td>-0.237684</td>\n",
       "      <td>-0.545599</td>\n",
       "      <td>0.160959</td>\n",
       "      <td>0.365842</td>\n",
       "      <td>0.627785</td>\n",
       "      <td>-0.409772</td>\n",
       "      <td>-0.333768</td>\n",
       "      <td>-1.181360</td>\n",
       "      <td>0.419152</td>\n",
       "      <td>0.164568</td>\n",
       "    </tr>\n",
       "    <tr>\n",
       "      <th>2138</th>\n",
       "      <td>1716140</td>\n",
       "      <td>Galva Community Unit School District 224</td>\n",
       "      <td>2015</td>\n",
       "      <td>2876</td>\n",
       "      <td>14893</td>\n",
       "      <td>4575.243744</td>\n",
       "      <td>-1.341426</td>\n",
       "      <td>-0.270366</td>\n",
       "      <td>-0.257704</td>\n",
       "      <td>0.313448</td>\n",
       "      <td>...</td>\n",
       "      <td>-0.237684</td>\n",
       "      <td>0.187220</td>\n",
       "      <td>-0.004550</td>\n",
       "      <td>-0.122365</td>\n",
       "      <td>0.524631</td>\n",
       "      <td>-0.165730</td>\n",
       "      <td>-0.559892</td>\n",
       "      <td>0.131282</td>\n",
       "      <td>-0.072121</td>\n",
       "      <td>-0.206358</td>\n",
       "    </tr>\n",
       "    <tr>\n",
       "      <th>8140</th>\n",
       "      <td>4103260</td>\n",
       "      <td>Clatskanie School District 6J</td>\n",
       "      <td>2015</td>\n",
       "      <td>2846</td>\n",
       "      <td>13446</td>\n",
       "      <td>3523.626870</td>\n",
       "      <td>-1.294695</td>\n",
       "      <td>-0.654012</td>\n",
       "      <td>-1.292824</td>\n",
       "      <td>0.094557</td>\n",
       "      <td>...</td>\n",
       "      <td>-0.237684</td>\n",
       "      <td>-0.050611</td>\n",
       "      <td>-0.005384</td>\n",
       "      <td>0.623843</td>\n",
       "      <td>0.563594</td>\n",
       "      <td>-0.775504</td>\n",
       "      <td>-0.351923</td>\n",
       "      <td>-1.376216</td>\n",
       "      <td>1.335394</td>\n",
       "      <td>0.059223</td>\n",
       "    </tr>\n",
       "    <tr>\n",
       "      <th>4604</th>\n",
       "      <td>2723490</td>\n",
       "      <td>New Ulm Public School District</td>\n",
       "      <td>2015</td>\n",
       "      <td>5316</td>\n",
       "      <td>25406</td>\n",
       "      <td>15824.771238</td>\n",
       "      <td>-0.653936</td>\n",
       "      <td>-0.290459</td>\n",
       "      <td>1.215927</td>\n",
       "      <td>-0.242363</td>\n",
       "      <td>...</td>\n",
       "      <td>-0.237684</td>\n",
       "      <td>-0.061580</td>\n",
       "      <td>-0.701515</td>\n",
       "      <td>-0.686865</td>\n",
       "      <td>0.679525</td>\n",
       "      <td>-0.314296</td>\n",
       "      <td>-0.030477</td>\n",
       "      <td>1.461601</td>\n",
       "      <td>-0.965952</td>\n",
       "      <td>-0.277805</td>\n",
       "    </tr>\n",
       "    <tr>\n",
       "      <th>8919</th>\n",
       "      <td>4701470</td>\n",
       "      <td>Greene County School District</td>\n",
       "      <td>2015</td>\n",
       "      <td>13575</td>\n",
       "      <td>68831</td>\n",
       "      <td>60301.362514</td>\n",
       "      <td>-0.693016</td>\n",
       "      <td>-0.762031</td>\n",
       "      <td>-0.631936</td>\n",
       "      <td>-0.549941</td>\n",
       "      <td>...</td>\n",
       "      <td>-0.237684</td>\n",
       "      <td>0.462934</td>\n",
       "      <td>0.210769</td>\n",
       "      <td>0.315382</td>\n",
       "      <td>0.340702</td>\n",
       "      <td>-0.587889</td>\n",
       "      <td>-0.795863</td>\n",
       "      <td>-0.527938</td>\n",
       "      <td>-0.466417</td>\n",
       "      <td>-0.052777</td>\n",
       "    </tr>\n",
       "    <tr>\n",
       "      <th>7730</th>\n",
       "      <td>4005160</td>\n",
       "      <td>Bowring Public School</td>\n",
       "      <td>2015</td>\n",
       "      <td>1570</td>\n",
       "      <td>7532</td>\n",
       "      <td>1551.993706</td>\n",
       "      <td>-0.409426</td>\n",
       "      <td>-0.200415</td>\n",
       "      <td>-0.981496</td>\n",
       "      <td>0.027058</td>\n",
       "      <td>...</td>\n",
       "      <td>-0.237684</td>\n",
       "      <td>-0.484947</td>\n",
       "      <td>-0.568997</td>\n",
       "      <td>-0.360644</td>\n",
       "      <td>0.707538</td>\n",
       "      <td>0.214413</td>\n",
       "      <td>-0.286428</td>\n",
       "      <td>-0.404447</td>\n",
       "      <td>-0.685404</td>\n",
       "      <td>-0.470139</td>\n",
       "    </tr>\n",
       "    <tr>\n",
       "      <th>2752</th>\n",
       "      <td>1810080</td>\n",
       "      <td>Seymour Community Schools</td>\n",
       "      <td>2015</td>\n",
       "      <td>8942</td>\n",
       "      <td>34750</td>\n",
       "      <td>27025.345392</td>\n",
       "      <td>0.182544</td>\n",
       "      <td>-0.577415</td>\n",
       "      <td>-1.713234</td>\n",
       "      <td>-0.028000</td>\n",
       "      <td>...</td>\n",
       "      <td>-0.237684</td>\n",
       "      <td>0.763568</td>\n",
       "      <td>0.124471</td>\n",
       "      <td>0.036148</td>\n",
       "      <td>0.136252</td>\n",
       "      <td>-0.568820</td>\n",
       "      <td>-0.389838</td>\n",
       "      <td>0.240357</td>\n",
       "      <td>-0.616196</td>\n",
       "      <td>-0.077520</td>\n",
       "    </tr>\n",
       "  </tbody>\n",
       "</table>\n",
       "<p>10 rows × 35 columns</p>\n",
       "</div>"
      ],
      "text/plain": [
       "         LEAID                                NAME_LEA15  year  pop_child  \\\n",
       "6674   3616290             Kingston City School District  2015      12196   \n",
       "7420   3904671             Central Local School District  2015       4141   \n",
       "7648   3905059              Triway Local School District  2015      10132   \n",
       "10326  5306000                  Oakville School District  2015       1683   \n",
       "2138   1716140  Galva Community Unit School District 224  2015       2876   \n",
       "8140   4103260             Clatskanie School District 6J  2015       2846   \n",
       "4604   2723490            New Ulm Public School District  2015       5316   \n",
       "8919   4701470             Greene County School District  2015      13575   \n",
       "7730   4005160                     Bowring Public School  2015       1570   \n",
       "2752   1810080                 Seymour Community Schools  2015       8942   \n",
       "\n",
       "       pop_total    pop_scaled  ED_APENR  ED_ATTAIN  ED_COLLEGE  ED_ECENROL  \\\n",
       "6674       65182  48757.136514 -0.173540  -0.007099    0.785420    0.270751   \n",
       "7420       16495   6480.493488 -1.064812  -0.695384   -0.776539    0.090538   \n",
       "7648       38526  14988.878014 -0.399149  -0.545394    0.138146   -0.117212   \n",
       "10326       7917   1444.199512 -1.330084  -0.790481   -1.595310    0.346525   \n",
       "2138       14893   4575.243744 -1.341426  -0.270366   -0.257704    0.313448   \n",
       "8140       13446   3523.626870 -1.294695  -0.654012   -1.292824    0.094557   \n",
       "4604       25406  15824.771238 -0.653936  -0.290459    1.215927   -0.242363   \n",
       "8919       68831  60301.362514 -0.693016  -0.762031   -0.631936   -0.549941   \n",
       "7730        7532   1551.993706 -0.409426  -0.200415   -0.981496    0.027058   \n",
       "2752       34750  27025.345392  0.182544  -0.577415   -1.713234   -0.028000   \n",
       "\n",
       "       ...  HE_SUPRFND   HE_RSEI  SE_POVRATE  SE_PUBLIC   SE_HOME    SE_OCC  \\\n",
       "6674   ...   -0.237684 -1.209251   -0.002945   0.442495 -0.249162  0.177414   \n",
       "7420   ...   -0.237684  0.608144   -0.561459  -0.594014  1.112889 -0.628138   \n",
       "7648   ...   -0.237684  0.694135    0.351504   0.336109  0.170317 -0.477178   \n",
       "10326  ...   -0.237684 -0.545599    0.160959   0.365842  0.627785 -0.409772   \n",
       "2138   ...   -0.237684  0.187220   -0.004550  -0.122365  0.524631 -0.165730   \n",
       "8140   ...   -0.237684 -0.050611   -0.005384   0.623843  0.563594 -0.775504   \n",
       "4604   ...   -0.237684 -0.061580   -0.701515  -0.686865  0.679525 -0.314296   \n",
       "8919   ...   -0.237684  0.462934    0.210769   0.315382  0.340702 -0.587889   \n",
       "7730   ...   -0.237684 -0.484947   -0.568997  -0.360644  0.707538  0.214413   \n",
       "2752   ...   -0.237684  0.763568    0.124471   0.036148  0.136252 -0.568820   \n",
       "\n",
       "         SE_MHE  SE_EMPRAT  SE_JOBPROX  SE_SINGLE  \n",
       "6674  -0.223367   0.140251   -0.167120   0.611811  \n",
       "7420  -0.008395   0.534488   -0.535633  -0.363880  \n",
       "7648  -0.381820   0.128199   -0.494191   0.058290  \n",
       "10326 -0.333768  -1.181360    0.419152   0.164568  \n",
       "2138  -0.559892   0.131282   -0.072121  -0.206358  \n",
       "8140  -0.351923  -1.376216    1.335394   0.059223  \n",
       "4604  -0.030477   1.461601   -0.965952  -0.277805  \n",
       "8919  -0.795863  -0.527938   -0.466417  -0.052777  \n",
       "7730  -0.286428  -0.404447   -0.685404  -0.470139  \n",
       "2752  -0.389838   0.240357   -0.616196  -0.077520  \n",
       "\n",
       "[10 rows x 35 columns]"
      ]
     },
     "execution_count": 51,
     "metadata": {},
     "output_type": "execute_result"
    }
   ],
   "source": [
    "coi_train_2015.sample(10)"
   ]
  },
  {
   "cell_type": "code",
   "execution_count": null,
   "id": "6e3c6d90-c8ad-429d-81a6-effc120a4da2",
   "metadata": {
    "id": "6e3c6d90-c8ad-429d-81a6-effc120a4da2",
    "outputId": "9e4e8522-3ce1-4b5f-dd07-22c79ada0c6a"
   },
   "outputs": [
    {
     "data": {
      "text/plain": [
       "Index(['fips', 'stateabb', 'sedalea', 'sedaleaname', 'subject', 'grade',\n",
       "       'year', 'cs_mn_all', 'cs_mnse_all', 'totgyb_all', 'cs_mn_asn',\n",
       "       'cs_mnse_asn', 'totgyb_asn', 'cs_mn_blk', 'cs_mnse_blk', 'totgyb_blk',\n",
       "       'cs_mn_ecd', 'cs_mnse_ecd', 'totgyb_ecd', 'cs_mn_fem', 'cs_mnse_fem',\n",
       "       'totgyb_fem', 'cs_mn_hsp', 'cs_mnse_hsp', 'totgyb_hsp', 'cs_mn_mal',\n",
       "       'cs_mnse_mal', 'totgyb_mal', 'cs_mn_mfg', 'cs_mnse_mfg', 'totgyb_mfg',\n",
       "       'cs_mn_mtr', 'cs_mnse_mtr', 'totgyb_mtr', 'cs_mn_nam', 'cs_mnse_nam',\n",
       "       'totgyb_nam', 'cs_mn_nec', 'cs_mnse_nec', 'totgyb_nec', 'cs_mn_neg',\n",
       "       'cs_mnse_neg', 'totgyb_neg', 'cs_mn_wag', 'cs_mnse_wag', 'totgyb_wag',\n",
       "       'cs_mn_wbg', 'cs_mnse_wbg', 'totgyb_wbg', 'cs_mn_whg', 'cs_mnse_whg',\n",
       "       'totgyb_whg', 'cs_mn_wht', 'cs_mnse_wht', 'totgyb_wht', 'cs_mn_wmg',\n",
       "       'cs_mnse_wmg', 'totgyb_wmg', 'cs_mn_wng', 'cs_mnse_wng', 'totgyb_wng'],\n",
       "      dtype='object')"
      ]
     },
     "execution_count": 8,
     "metadata": {},
     "output_type": "execute_result"
    }
   ],
   "source": [
    "seda_train_2010.columns"
   ]
  },
  {
   "cell_type": "code",
   "execution_count": null,
   "id": "6d818608-05b0-4f16-88c9-a96fbf33d8a7",
   "metadata": {
    "id": "6d818608-05b0-4f16-88c9-a96fbf33d8a7",
    "outputId": "44ebed0a-0e55-4395-c38a-9111c5f6ebc7"
   },
   "outputs": [
    {
     "data": {
      "text/plain": [
       "Index(['LEAID', 'NAME_LEA15', 'year', 'pop_total', 'pop_child', 'ED_APENR',\n",
       "       'ED_ATTAIN', 'ED_COLLEGE', 'ED_ECENROL', 'ED_HSGRAD', 'ED_MATH',\n",
       "       'ED_READING', 'ED_SCHPOV', 'ED_TEACHXP', 'ED_PRXECE', 'ED_PRXHQECE',\n",
       "       'HE_FOOD', 'HE_GREEN', 'HE_HEAT', 'HE_HLTHINS', 'HE_OZONE', 'HE_PM25',\n",
       "       'HE_VACANCY', 'HE_WALK', 'HE_SUPRFND', 'HE_RSEI', 'SE_POVRATE',\n",
       "       'SE_PUBLIC', 'SE_HOME', 'SE_OCC', 'SE_MHE', 'SE_EMPRAT', 'SE_JOBPROX',\n",
       "       'SE_SINGLE', 'Component 1', 'Component 2', 'Component 3', 'Component 4',\n",
       "       'Component 4.1', 'Component 6', 'Component 7', 'Component 8',\n",
       "       'Component 9', 'Component 10', 'Component 11',\n",
       "       'Segment from k-means PCA'],\n",
       "      dtype='object')"
      ]
     },
     "execution_count": 16,
     "metadata": {},
     "output_type": "execute_result"
    }
   ],
   "source": [
    "#clusters_2010.columns"
   ]
  },
  {
   "cell_type": "markdown",
   "id": "38267caf-a9d6-434a-bf90-1ab394639815",
   "metadata": {},
   "source": [
    "# Functions"
   ]
  },
  {
   "cell_type": "code",
   "execution_count": 7,
   "id": "f79788b7-9025-4cf0-b3db-ee0a237a336b",
   "metadata": {
    "id": "f79788b7-9025-4cf0-b3db-ee0a237a336b"
   },
   "outputs": [],
   "source": [
    "def make_clusters(coi, n_clusters, drop_outliers=False):\n",
    "\n",
    "    if drop_outliers:\n",
    "        coi = coi[coi['pop_child'] < 550000]\n",
    "    \n",
    "    km_cols = ['pop_child', 'pop_total', 'pop_scaled', \n",
    "               'ED_APENR', 'ED_ATTAIN', 'ED_COLLEGE', 'ED_ECENROL', 'ED_HSGRAD',\n",
    "               'ED_MATH', 'ED_READING', 'ED_SCHPOV', 'ED_TEACHXP', 'ED_PRXECE', \n",
    "               'ED_PRXHQECE', 'HE_FOOD', 'HE_GREEN', 'HE_HEAT', 'HE_HLTHINS',\n",
    "               'HE_OZONE', 'HE_PM25', 'HE_VACANCY', 'HE_WALK', 'HE_SUPRFND', 'HE_RSEI',\n",
    "               'SE_POVRATE', 'SE_PUBLIC', 'SE_HOME', 'SE_OCC', 'SE_MHE', 'SE_EMPRAT',\n",
    "               'SE_JOBPROX', 'SE_SINGLE']\n",
    "    \n",
    "    km_df = coi.loc[:, km_cols]\n",
    "    \n",
    "    scaler = StandardScaler().fit(km_df.iloc[:, :3])\n",
    "    km_df.iloc[:, :3] = scaler.transform(km_df.iloc[:, :3])\n",
    "\n",
    "    pca = PCA(n_components=11, random_state=random_state).fit(km_df)\n",
    "    pca_arr = pca.transform(km_df)\n",
    "        \n",
    "    pca_df = pd.concat([coi.reset_index(drop = True), pd.DataFrame(pca_arr)],axis = 1)\n",
    "    pca_df.columns.values[-11:] = ['Component 1','Component 2','Component 3','Component 4','Component 4','Component 6',\n",
    "                                   'Component 7','Component 8','Component 9','Component 10','Component 11']\n",
    "\n",
    "    kmeans = KMeans(n_clusters=n_clusters, n_init=20, algorithm='lloyd', max_iter=1000, random_state=random_state).fit(pca_arr)\n",
    "    \n",
    "    clusters = kmeans.predict(pca_arr)\n",
    "    \n",
    "    df = pd.concat([pca_df, pd.Series(clusters, name='cluster')], axis=1)\n",
    "    \n",
    "    return scaler, pca, kmeans, df\n"
   ]
  },
  {
   "cell_type": "code",
   "execution_count": 8,
   "id": "bdfe0b32-e4e7-4e92-99e6-b4cb01efe28f",
   "metadata": {
    "id": "bdfe0b32-e4e7-4e92-99e6-b4cb01efe28f"
   },
   "outputs": [],
   "source": [
    "def merge_data(coi, seda):\n",
    "    df = coi.merge(seda, left_on='LEAID', right_on='sedalea')\n",
    "    df = df.rename(columns={'year_x': 'coi_year', 'year_y': 'seda_year'})\n",
    "    df = df.replace({'rla': 0, 'mth': 1})\n",
    "    #print(train.shape)\n",
    "    #print(train.columns)\n",
    "    \n",
    "    return df"
   ]
  },
  {
   "cell_type": "code",
   "execution_count": 9,
   "id": "0a680ab8-9c02-450e-9e2c-fe264cdc21a2",
   "metadata": {
    "id": "0a680ab8-9c02-450e-9e2c-fe264cdc21a2"
   },
   "outputs": [],
   "source": [
    "def select_cols_X_y(df, cluster=False, col='cs_mn_all'):\n",
    "    description_cols = ['LEAID', 'NAME_LEA15', 'fips', 'stateabb', 'sedalea', 'sedaleaname']\n",
    "                        \n",
    "    all_cols = ['coi_year', 'pop_child', 'pop_total', 'pop_scaled',\n",
    "                'ED_APENR', 'ED_ATTAIN', 'ED_COLLEGE', 'ED_ECENROL', 'ED_HSGRAD',\n",
    "                'ED_MATH', 'ED_READING', 'ED_SCHPOV', 'ED_TEACHXP', 'ED_PRXECE',\n",
    "                'ED_PRXHQECE', 'HE_FOOD', 'HE_GREEN', 'HE_HEAT', 'HE_HLTHINS',\n",
    "                'HE_OZONE', 'HE_PM25', 'HE_VACANCY', 'HE_WALK', 'HE_SUPRFND', 'HE_RSEI',\n",
    "                'SE_POVRATE', 'SE_PUBLIC', 'SE_HOME', 'SE_OCC', 'SE_MHE', 'SE_EMPRAT',\n",
    "                'SE_JOBPROX', 'SE_SINGLE', 'subject', 'grade', 'seda_year']\n",
    "\n",
    "    if cluster:\n",
    "        all_cols.append('cluster')\n",
    "        \n",
    "    all_cols.append(col)\n",
    "    \n",
    "    y_col = col\n",
    "    \n",
    "    train = df[all_cols]\n",
    "    train = train.dropna()\n",
    "    X = train.iloc[:, :-1]\n",
    "    y = train[y_col]\n",
    "    \n",
    "    desc_df = df[description_cols]\n",
    "    \n",
    "    return X, y, desc_df"
   ]
  },
  {
   "cell_type": "code",
   "execution_count": 67,
   "id": "b53f7209-16b5-43d2-8b80-1d8a1efdbd9b",
   "metadata": {
    "id": "b53f7209-16b5-43d2-8b80-1d8a1efdbd9b"
   },
   "outputs": [],
   "source": [
    "def fit_hgbr(df, cluster_num):\n",
    "    # If cluster selected, filter dataframe.  Else, use all clusters\n",
    "    if cluster_num is None:\n",
    "        train_clust = df.copy()\n",
    "    else:\n",
    "        train_clust = df[df['cluster'] == cluster_num]\n",
    "\n",
    "    X_df, y, desc = select_cols_X_y(train_clust, cluster=True, col='cs_mn_all')\n",
    "\n",
    "    X = X_df.to_numpy()\n",
    "\n",
    "    hgbr = HistGradientBoostingRegressor(learning_rate=0.1, max_depth=4, random_state=random_state)\n",
    "    hgbr.fit(X, y)\n",
    "    \n",
    "    return hgbr, hgbr.score(X, y)"
   ]
  },
  {
   "cell_type": "markdown",
   "id": "8a43b76c-df94-4731-949b-52a842b76df3",
   "metadata": {
    "id": "8a43b76c-df94-4731-949b-52a842b76df3"
   },
   "source": [
    "# Models for 2010 Data"
   ]
  },
  {
   "cell_type": "code",
   "execution_count": null,
   "id": "57d69242-9557-47ce-9b06-e2e7ef044c7a",
   "metadata": {
    "id": "57d69242-9557-47ce-9b06-e2e7ef044c7a"
   },
   "outputs": [],
   "source": [
    "train_2010 = merge_data(coi_train_2010, seda_train_2010)\n",
    "\n",
    "X_df, y, desc = select_cols_X_y(train_2010, col='cs_mn_all')\n",
    "\n",
    "X = X_df.to_numpy()"
   ]
  },
  {
   "cell_type": "code",
   "execution_count": null,
   "id": "e9279ee5-0ffe-4822-8c2f-0a0c7872a613",
   "metadata": {
    "id": "e9279ee5-0ffe-4822-8c2f-0a0c7872a613",
    "outputId": "2c49ac6a-5ab4-47b0-fb21-5f47a7359980"
   },
   "outputs": [
    {
     "data": {
      "text/plain": [
       "Index(['LEAID', 'NAME_LEA15', 'coi_year', 'pop_child', 'pop_total',\n",
       "       'pop_scaled', 'ED_APENR', 'ED_ATTAIN', 'ED_COLLEGE', 'ED_ECENROL',\n",
       "       'ED_HSGRAD', 'ED_MATH', 'ED_READING', 'ED_SCHPOV', 'ED_TEACHXP',\n",
       "       'ED_PRXECE', 'ED_PRXHQECE', 'HE_FOOD', 'HE_GREEN', 'HE_HEAT',\n",
       "       'HE_HLTHINS', 'HE_OZONE', 'HE_PM25', 'HE_VACANCY', 'HE_WALK',\n",
       "       'HE_SUPRFND', 'HE_RSEI', 'SE_POVRATE', 'SE_PUBLIC', 'SE_HOME', 'SE_OCC',\n",
       "       'SE_MHE', 'SE_EMPRAT', 'SE_JOBPROX', 'SE_SINGLE', 'fips', 'stateabb',\n",
       "       'sedalea', 'sedaleaname', 'subject', 'grade', 'seda_year', 'cs_mn_all',\n",
       "       'cs_mnse_all', 'totgyb_all', 'cs_mn_asn', 'cs_mnse_asn', 'totgyb_asn',\n",
       "       'cs_mn_blk', 'cs_mnse_blk', 'totgyb_blk', 'cs_mn_ecd', 'cs_mnse_ecd',\n",
       "       'totgyb_ecd', 'cs_mn_fem', 'cs_mnse_fem', 'totgyb_fem', 'cs_mn_hsp',\n",
       "       'cs_mnse_hsp', 'totgyb_hsp', 'cs_mn_mal', 'cs_mnse_mal', 'totgyb_mal',\n",
       "       'cs_mn_mfg', 'cs_mnse_mfg', 'totgyb_mfg', 'cs_mn_mtr', 'cs_mnse_mtr',\n",
       "       'totgyb_mtr', 'cs_mn_nam', 'cs_mnse_nam', 'totgyb_nam', 'cs_mn_nec',\n",
       "       'cs_mnse_nec', 'totgyb_nec', 'cs_mn_neg', 'cs_mnse_neg', 'totgyb_neg',\n",
       "       'cs_mn_wag', 'cs_mnse_wag', 'totgyb_wag', 'cs_mn_wbg', 'cs_mnse_wbg',\n",
       "       'totgyb_wbg', 'cs_mn_whg', 'cs_mnse_whg', 'totgyb_whg', 'cs_mn_wht',\n",
       "       'cs_mnse_wht', 'totgyb_wht', 'cs_mn_wmg', 'cs_mnse_wmg', 'totgyb_wmg',\n",
       "       'cs_mn_wng', 'cs_mnse_wng', 'totgyb_wng'],\n",
       "      dtype='object')"
      ]
     },
     "execution_count": 85,
     "metadata": {},
     "output_type": "execute_result"
    }
   ],
   "source": [
    "train_2010.columns"
   ]
  },
  {
   "cell_type": "code",
   "execution_count": null,
   "id": "a7c3373d-d2fc-4d53-8842-d085c4c19f27",
   "metadata": {
    "id": "a7c3373d-d2fc-4d53-8842-d085c4c19f27",
    "outputId": "d1e4abe3-796f-4d59-b011-c3ccf66ce45b"
   },
   "outputs": [
    {
     "data": {
      "text/plain": [
       "LinearRegression()"
      ]
     },
     "execution_count": 23,
     "metadata": {},
     "output_type": "execute_result"
    }
   ],
   "source": [
    "lm = LinearRegression()\n",
    "lm.fit(X, y)"
   ]
  },
  {
   "cell_type": "code",
   "execution_count": null,
   "id": "b0477e75-b111-4b35-a98f-3c3b1882de29",
   "metadata": {
    "id": "b0477e75-b111-4b35-a98f-3c3b1882de29",
    "outputId": "69721986-e3f4-4299-fc89-5c588c057c80"
   },
   "outputs": [
    {
     "data": {
      "text/plain": [
       "0.5463261650119418"
      ]
     },
     "execution_count": 24,
     "metadata": {},
     "output_type": "execute_result"
    }
   ],
   "source": [
    "lm.score(X, y)"
   ]
  },
  {
   "cell_type": "code",
   "execution_count": null,
   "id": "ff7e90e5-ac63-4fc5-9eb6-be9a97b48378",
   "metadata": {
    "id": "ff7e90e5-ac63-4fc5-9eb6-be9a97b48378",
    "outputId": "af2a554f-0178-4562-ac5a-ee5990cd0f36"
   },
   "outputs": [
    {
     "data": {
      "text/plain": [
       "Lasso(alpha=0.5, random_state=42)"
      ]
     },
     "execution_count": 29,
     "metadata": {},
     "output_type": "execute_result"
    }
   ],
   "source": [
    "lasso = Lasso(alpha=0.5, random_state=random_state)\n",
    "lasso.fit(X, y)"
   ]
  },
  {
   "cell_type": "code",
   "execution_count": null,
   "id": "84c26421-ecb7-4d44-b43e-12278b906729",
   "metadata": {
    "id": "84c26421-ecb7-4d44-b43e-12278b906729",
    "outputId": "d29bd94f-a624-439f-e5b2-e250c623fe0c"
   },
   "outputs": [
    {
     "data": {
      "text/plain": [
       "0.0030928077588240344"
      ]
     },
     "execution_count": 30,
     "metadata": {},
     "output_type": "execute_result"
    }
   ],
   "source": [
    "lasso.score(X, y)"
   ]
  },
  {
   "cell_type": "code",
   "execution_count": null,
   "id": "80b73012-39f1-4154-b04e-6f1e2b2db49c",
   "metadata": {
    "id": "80b73012-39f1-4154-b04e-6f1e2b2db49c",
    "outputId": "4647688a-75e7-4533-ae92-49e8d85eca91"
   },
   "outputs": [
    {
     "data": {
      "text/plain": [
       "Ridge(alpha=1, random_state=42)"
      ]
     },
     "execution_count": 39,
     "metadata": {},
     "output_type": "execute_result"
    }
   ],
   "source": [
    "ridge = Ridge(alpha=1, random_state=random_state)\n",
    "ridge.fit(X, y)"
   ]
  },
  {
   "cell_type": "code",
   "execution_count": null,
   "id": "831924fa-3934-459b-9895-a8bbf37c1f09",
   "metadata": {
    "id": "831924fa-3934-459b-9895-a8bbf37c1f09",
    "outputId": "c62001e2-527b-4762-916f-02a47f37f532"
   },
   "outputs": [
    {
     "data": {
      "text/plain": [
       "0.5463261649812814"
      ]
     },
     "execution_count": 40,
     "metadata": {},
     "output_type": "execute_result"
    }
   ],
   "source": [
    "ridge.score(X, y)"
   ]
  },
  {
   "cell_type": "code",
   "execution_count": null,
   "id": "ebbfcc42-d82b-42d3-af61-3c3570f0fee9",
   "metadata": {
    "id": "ebbfcc42-d82b-42d3-af61-3c3570f0fee9",
    "outputId": "dae0847a-c7bf-42fc-fe76-85a21ece6f9e"
   },
   "outputs": [
    {
     "name": "stderr",
     "output_type": "stream",
     "text": [
      "/sw/pkgs/arc/python3.9-anaconda/2021.11/lib/python3.9/site-packages/sklearn/linear_model/_ridge.py:147: LinAlgWarning: Ill-conditioned matrix (rcond=1.10516e-16): result may not be accurate.\n",
      "  return linalg.solve(A, Xy, sym_pos=True,\n"
     ]
    },
    {
     "data": {
      "text/plain": [
       "Ridge(alpha=0.8, random_state=42)"
      ]
     },
     "execution_count": 41,
     "metadata": {},
     "output_type": "execute_result"
    }
   ],
   "source": [
    "ridge = Ridge(alpha=0.8, random_state=random_state)\n",
    "ridge.fit(X, y)"
   ]
  },
  {
   "cell_type": "code",
   "execution_count": null,
   "id": "a4e3a1bc-ffff-46bb-b666-e6aa0542ad06",
   "metadata": {
    "id": "a4e3a1bc-ffff-46bb-b666-e6aa0542ad06",
    "outputId": "f041b1d8-cebc-45f6-ce96-d43779657ddb"
   },
   "outputs": [
    {
     "data": {
      "text/plain": [
       "0.5463261649923186"
      ]
     },
     "execution_count": 42,
     "metadata": {},
     "output_type": "execute_result"
    }
   ],
   "source": [
    "ridge.score(X, y)"
   ]
  },
  {
   "cell_type": "code",
   "execution_count": null,
   "id": "ef327550-9c6f-44b4-adaf-3cc92b1624e2",
   "metadata": {
    "id": "ef327550-9c6f-44b4-adaf-3cc92b1624e2",
    "outputId": "55ba25c5-67aa-4aa2-ced0-8e6a98c2cbff"
   },
   "outputs": [
    {
     "name": "stderr",
     "output_type": "stream",
     "text": [
      "/sw/pkgs/arc/python3.9-anaconda/2021.11/lib/python3.9/site-packages/sklearn/linear_model/_ridge.py:147: LinAlgWarning: Ill-conditioned matrix (rcond=6.90723e-17): result may not be accurate.\n",
      "  return linalg.solve(A, Xy, sym_pos=True,\n"
     ]
    },
    {
     "data": {
      "text/plain": [
       "Ridge(alpha=0.5, random_state=42)"
      ]
     },
     "execution_count": 43,
     "metadata": {},
     "output_type": "execute_result"
    }
   ],
   "source": [
    "ridge = Ridge(alpha=0.5, random_state=random_state)\n",
    "ridge.fit(X, y)"
   ]
  },
  {
   "cell_type": "code",
   "execution_count": null,
   "id": "b4ef3d6a-91d1-42c7-b12a-5d32efedcd6d",
   "metadata": {
    "id": "b4ef3d6a-91d1-42c7-b12a-5d32efedcd6d",
    "outputId": "bc485d9d-3a90-41a0-c482-fd01a49c2303"
   },
   "outputs": [
    {
     "data": {
      "text/plain": [
       "0.5463261650042761"
      ]
     },
     "execution_count": 44,
     "metadata": {},
     "output_type": "execute_result"
    }
   ],
   "source": [
    "ridge.score(X, y)"
   ]
  },
  {
   "cell_type": "code",
   "execution_count": null,
   "id": "51f3024c-e1e8-4d8c-bd76-9c8ecd3fd3dd",
   "metadata": {
    "id": "51f3024c-e1e8-4d8c-bd76-9c8ecd3fd3dd",
    "outputId": "0d9b393b-3fee-43ca-9940-f25fc3b8a0c9"
   },
   "outputs": [
    {
     "data": {
      "text/plain": [
       "RandomForestRegressor(max_depth=4, n_jobs=8, random_state=42)"
      ]
     },
     "execution_count": 46,
     "metadata": {},
     "output_type": "execute_result"
    }
   ],
   "source": [
    "rfr = RandomForestRegressor(n_estimators=100, max_depth=4, n_jobs=n_jobs, random_state=random_state)\n",
    "rfr.fit(X, y)"
   ]
  },
  {
   "cell_type": "code",
   "execution_count": null,
   "id": "dcb2660c-fe7d-47fe-b609-6e125b8112e4",
   "metadata": {
    "id": "dcb2660c-fe7d-47fe-b609-6e125b8112e4",
    "outputId": "19c7a065-6bcc-4f5f-f31b-0f0ae9ec6c1b"
   },
   "outputs": [
    {
     "data": {
      "text/plain": [
       "0.5165457019823114"
      ]
     },
     "execution_count": 47,
     "metadata": {},
     "output_type": "execute_result"
    }
   ],
   "source": [
    "rfr.score(X, y)"
   ]
  },
  {
   "cell_type": "code",
   "execution_count": null,
   "id": "d3311026-461d-4e43-80ea-6a28a54d6bb9",
   "metadata": {
    "id": "d3311026-461d-4e43-80ea-6a28a54d6bb9",
    "outputId": "9b6da1db-7ce4-4894-df16-bbbcc559fc4e"
   },
   "outputs": [
    {
     "data": {
      "text/plain": [
       "RandomForestRegressor(max_depth=6, n_jobs=8, random_state=42)"
      ]
     },
     "execution_count": 48,
     "metadata": {},
     "output_type": "execute_result"
    }
   ],
   "source": [
    "rfr6 = RandomForestRegressor(n_estimators=100, max_depth=6, n_jobs=n_jobs, random_state=random_state)\n",
    "rfr6.fit(X, y)"
   ]
  },
  {
   "cell_type": "code",
   "execution_count": null,
   "id": "f33984a0-380a-4b72-b9a1-7e08e27d2ab9",
   "metadata": {
    "id": "f33984a0-380a-4b72-b9a1-7e08e27d2ab9",
    "outputId": "5c1735c4-0f3d-47ff-8a3c-9b48a779bb3f"
   },
   "outputs": [
    {
     "data": {
      "text/plain": [
       "0.5640143131932283"
      ]
     },
     "execution_count": 49,
     "metadata": {},
     "output_type": "execute_result"
    }
   ],
   "source": [
    "rfr6.score(X, y)"
   ]
  },
  {
   "cell_type": "code",
   "execution_count": null,
   "id": "8b7a13c4-9fc2-45b8-9103-ffa1ffc043f3",
   "metadata": {
    "id": "8b7a13c4-9fc2-45b8-9103-ffa1ffc043f3",
    "outputId": "2f68d423-1dd8-4cf4-f4b4-be7341699ac7"
   },
   "outputs": [
    {
     "data": {
      "text/plain": [
       "RandomForestRegressor(max_depth=5, n_jobs=8, random_state=42)"
      ]
     },
     "execution_count": 50,
     "metadata": {},
     "output_type": "execute_result"
    }
   ],
   "source": [
    "rfr5 = RandomForestRegressor(n_estimators=100, max_depth=5, n_jobs=n_jobs, random_state=random_state)\n",
    "rfr5.fit(X, y)"
   ]
  },
  {
   "cell_type": "code",
   "execution_count": null,
   "id": "8d2470c0-4cc7-44ea-a691-c7f6f9ab67b2",
   "metadata": {
    "id": "8d2470c0-4cc7-44ea-a691-c7f6f9ab67b2",
    "outputId": "a665ba6b-a61a-4e2e-c786-0d5a0289ac80"
   },
   "outputs": [
    {
     "data": {
      "text/plain": [
       "0.5415417329270719"
      ]
     },
     "execution_count": 51,
     "metadata": {},
     "output_type": "execute_result"
    }
   ],
   "source": [
    "rfr5.score(X, y)"
   ]
  },
  {
   "cell_type": "code",
   "execution_count": null,
   "id": "991c46f9-1a6f-466b-ba80-6a8d63babe16",
   "metadata": {
    "id": "991c46f9-1a6f-466b-ba80-6a8d63babe16",
    "outputId": "0ab54163-e286-43f9-b56b-e2a8cf569598"
   },
   "outputs": [
    {
     "data": {
      "text/plain": [
       "RandomForestRegressor(max_depth=7, n_jobs=8, random_state=42)"
      ]
     },
     "execution_count": 52,
     "metadata": {},
     "output_type": "execute_result"
    }
   ],
   "source": [
    "rfr7 = RandomForestRegressor(n_estimators=100, max_depth=7, n_jobs=n_jobs, random_state=random_state)\n",
    "rfr7.fit(X, y)"
   ]
  },
  {
   "cell_type": "code",
   "execution_count": null,
   "id": "d28a3f06-8dd9-43be-bff5-d46c74c16046",
   "metadata": {
    "id": "d28a3f06-8dd9-43be-bff5-d46c74c16046",
    "outputId": "72f581a6-4325-436b-c0e8-16bd929a8734"
   },
   "outputs": [
    {
     "data": {
      "text/plain": [
       "0.5860410672035221"
      ]
     },
     "execution_count": 53,
     "metadata": {},
     "output_type": "execute_result"
    }
   ],
   "source": [
    "rfr7.score(X, y)"
   ]
  },
  {
   "cell_type": "code",
   "execution_count": null,
   "id": "c9942d93-9782-49ce-84f1-141c8033b94f",
   "metadata": {
    "id": "c9942d93-9782-49ce-84f1-141c8033b94f",
    "outputId": "e726f6ff-707f-46b7-80cb-3865354fbe32",
    "tags": []
   },
   "outputs": [
    {
     "data": {
      "text/plain": [
       "GradientBoostingRegressor(random_state=42)"
      ]
     },
     "execution_count": 54,
     "metadata": {},
     "output_type": "execute_result"
    }
   ],
   "source": [
    "gbr = GradientBoostingRegressor(learning_rate=0.1, n_estimators=100, max_depth=3, random_state=random_state)\n",
    "gbr.fit(X, y)"
   ]
  },
  {
   "cell_type": "code",
   "execution_count": null,
   "id": "286730da-1128-45ec-8a37-2e71ef103d5a",
   "metadata": {
    "id": "286730da-1128-45ec-8a37-2e71ef103d5a",
    "outputId": "6ef98489-79e6-40e9-c343-7c7fbd7448fa"
   },
   "outputs": [
    {
     "data": {
      "text/plain": [
       "0.5961881094409593"
      ]
     },
     "execution_count": 55,
     "metadata": {},
     "output_type": "execute_result"
    }
   ],
   "source": [
    "gbr.score(X, y)"
   ]
  },
  {
   "cell_type": "code",
   "execution_count": null,
   "id": "390239fd-4ff4-4ac3-b672-cca5da0373d8",
   "metadata": {
    "id": "390239fd-4ff4-4ac3-b672-cca5da0373d8",
    "outputId": "9f70b766-404d-42a7-8b03-52950ec13c9b"
   },
   "outputs": [
    {
     "data": {
      "text/plain": [
       "GradientBoostingRegressor(max_depth=2, random_state=42)"
      ]
     },
     "execution_count": 56,
     "metadata": {},
     "output_type": "execute_result"
    }
   ],
   "source": [
    "gbr2 = GradientBoostingRegressor(learning_rate=0.1, n_estimators=100, max_depth=2, random_state=random_state)\n",
    "gbr2.fit(X, y)"
   ]
  },
  {
   "cell_type": "code",
   "execution_count": null,
   "id": "f3205444-77d5-455c-95d8-df6eb1e60466",
   "metadata": {
    "id": "f3205444-77d5-455c-95d8-df6eb1e60466",
    "outputId": "41442cb9-b7b9-4abf-caa0-91e8b2624a7b"
   },
   "outputs": [
    {
     "data": {
      "text/plain": [
       "0.572966581094313"
      ]
     },
     "execution_count": 57,
     "metadata": {},
     "output_type": "execute_result"
    }
   ],
   "source": [
    "gbr2.score(X, y)"
   ]
  },
  {
   "cell_type": "code",
   "execution_count": null,
   "id": "201dd226-81aa-4b67-b39e-5044e50ab4f5",
   "metadata": {
    "id": "201dd226-81aa-4b67-b39e-5044e50ab4f5",
    "outputId": "c9c33b44-36a4-4c9c-c7fc-ebc55d2e3d20"
   },
   "outputs": [
    {
     "data": {
      "text/plain": [
       "GradientBoostingRegressor(learning_rate=0.5, max_depth=2, random_state=42)"
      ]
     },
     "execution_count": 58,
     "metadata": {},
     "output_type": "execute_result"
    }
   ],
   "source": [
    "gbr2_5 = GradientBoostingRegressor(learning_rate=0.5, n_estimators=100, max_depth=2, random_state=random_state)\n",
    "gbr2_5.fit(X, y)"
   ]
  },
  {
   "cell_type": "code",
   "execution_count": null,
   "id": "3fb486b7-f60e-4f39-9282-a871ec69769f",
   "metadata": {
    "id": "3fb486b7-f60e-4f39-9282-a871ec69769f",
    "outputId": "54df9aca-dfe8-4b2d-a394-80a1eed8f48a"
   },
   "outputs": [
    {
     "data": {
      "text/plain": [
       "0.6035561223708383"
      ]
     },
     "execution_count": 59,
     "metadata": {},
     "output_type": "execute_result"
    }
   ],
   "source": [
    "gbr2_5.score(X, y)"
   ]
  },
  {
   "cell_type": "code",
   "execution_count": null,
   "id": "a8bd7367-6ea6-4e73-9167-b4808d79a0c0",
   "metadata": {
    "id": "a8bd7367-6ea6-4e73-9167-b4808d79a0c0",
    "outputId": "b6401071-75da-49a6-9759-0181e7561a87"
   },
   "outputs": [
    {
     "data": {
      "text/plain": [
       "GradientBoostingRegressor(learning_rate=1, max_depth=2, random_state=42)"
      ]
     },
     "execution_count": 60,
     "metadata": {},
     "output_type": "execute_result"
    }
   ],
   "source": [
    "gbr2_1 = GradientBoostingRegressor(learning_rate=1, n_estimators=100, max_depth=2, random_state=random_state)\n",
    "gbr2_1.fit(X, y)"
   ]
  },
  {
   "cell_type": "code",
   "execution_count": null,
   "id": "c51e005c-d91b-4f01-b72d-1710d544cea2",
   "metadata": {
    "id": "c51e005c-d91b-4f01-b72d-1710d544cea2",
    "outputId": "b4b2fbde-2c50-4183-8b56-d017b9e957c0"
   },
   "outputs": [
    {
     "data": {
      "text/plain": [
       "0.6122038153360474"
      ]
     },
     "execution_count": 61,
     "metadata": {},
     "output_type": "execute_result"
    }
   ],
   "source": [
    "gbr2_1.score(X, y)"
   ]
  },
  {
   "cell_type": "code",
   "execution_count": null,
   "id": "701a2674-61de-431e-b589-dfbed81d17c0",
   "metadata": {
    "id": "701a2674-61de-431e-b589-dfbed81d17c0",
    "outputId": "fdfbe3b1-8220-4894-f786-17c62a14be4c"
   },
   "outputs": [
    {
     "data": {
      "text/plain": [
       "GradientBoostingRegressor(learning_rate=2, max_depth=2, random_state=42)"
      ]
     },
     "execution_count": 62,
     "metadata": {},
     "output_type": "execute_result"
    }
   ],
   "source": [
    "gbr2_2 = GradientBoostingRegressor(learning_rate=2, n_estimators=100, max_depth=2, random_state=random_state)\n",
    "gbr2_2.fit(X, y)"
   ]
  },
  {
   "cell_type": "code",
   "execution_count": null,
   "id": "1a70ac56-7a1d-4a43-a870-b44e25acda42",
   "metadata": {
    "id": "1a70ac56-7a1d-4a43-a870-b44e25acda42",
    "outputId": "0e1f48a0-77c4-4c6a-ecc4-8de4929637b9"
   },
   "outputs": [
    {
     "data": {
      "text/plain": [
       "3.3861802251067274e-14"
      ]
     },
     "execution_count": 63,
     "metadata": {},
     "output_type": "execute_result"
    }
   ],
   "source": [
    "gbr2_2.score(X, y)"
   ]
  },
  {
   "cell_type": "code",
   "execution_count": null,
   "id": "85ec079c-499a-4167-9477-247bbf9e807b",
   "metadata": {
    "id": "85ec079c-499a-4167-9477-247bbf9e807b",
    "outputId": "8befcaf6-5825-41ef-e99e-38d204418f85"
   },
   "outputs": [
    {
     "data": {
      "text/plain": [
       "GradientBoostingRegressor(learning_rate=1.5, max_depth=2, random_state=42)"
      ]
     },
     "execution_count": 64,
     "metadata": {},
     "output_type": "execute_result"
    }
   ],
   "source": [
    "gbr2_15 = GradientBoostingRegressor(learning_rate=1.5, n_estimators=100, max_depth=2, random_state=random_state)\n",
    "gbr2_15.fit(X, y)"
   ]
  },
  {
   "cell_type": "code",
   "execution_count": null,
   "id": "7a407001-a68a-4b02-9e70-7f37d379be44",
   "metadata": {
    "id": "7a407001-a68a-4b02-9e70-7f37d379be44",
    "outputId": "da01f6ae-a8c4-4d80-d4d8-e1942945e691"
   },
   "outputs": [
    {
     "data": {
      "text/plain": [
       "0.6068914014580025"
      ]
     },
     "execution_count": 65,
     "metadata": {},
     "output_type": "execute_result"
    }
   ],
   "source": [
    "gbr2_15.score(X, y)"
   ]
  },
  {
   "cell_type": "markdown",
   "id": "ecd5ecc8-e540-422b-b486-218abe177a1f",
   "metadata": {
    "id": "ecd5ecc8-e540-422b-b486-218abe177a1f"
   },
   "source": [
    "# Models for 2015 Data"
   ]
  },
  {
   "cell_type": "code",
   "execution_count": 10,
   "id": "39dc8b67-9fe7-4d0a-a5df-ea0d3e05ceef",
   "metadata": {
    "id": "39dc8b67-9fe7-4d0a-a5df-ea0d3e05ceef"
   },
   "outputs": [],
   "source": [
    "train_2015 = merge_data(coi_train_2015, seda_train_2015)\n",
    "\n",
    "X_df, y, desc = select_cols_X_y(train_2015, col='cs_mn_all')\n",
    "\n",
    "X = X_df.to_numpy()"
   ]
  },
  {
   "cell_type": "code",
   "execution_count": null,
   "id": "5a99093f-9bef-4f70-b598-b36d7b7436f8",
   "metadata": {
    "id": "5a99093f-9bef-4f70-b598-b36d7b7436f8",
    "outputId": "cc75c886-a33b-4bde-8fa4-12130ddd5029"
   },
   "outputs": [
    {
     "data": {
      "text/plain": [
       "LinearRegression()"
      ]
     },
     "execution_count": 67,
     "metadata": {},
     "output_type": "execute_result"
    }
   ],
   "source": [
    "lm = LinearRegression()\n",
    "lm.fit(X, y)"
   ]
  },
  {
   "cell_type": "code",
   "execution_count": null,
   "id": "03cd2346-4e17-448c-9740-6edd32cb32d5",
   "metadata": {
    "id": "03cd2346-4e17-448c-9740-6edd32cb32d5",
    "outputId": "7ef30f98-613b-44d0-9399-b36d01584b3c"
   },
   "outputs": [
    {
     "data": {
      "text/plain": [
       "0.5513093996810483"
      ]
     },
     "execution_count": 68,
     "metadata": {},
     "output_type": "execute_result"
    }
   ],
   "source": [
    "lm.score(X, y)"
   ]
  },
  {
   "cell_type": "code",
   "execution_count": null,
   "id": "38694ffb-5f74-4ffe-884b-9c76fa6b4de5",
   "metadata": {
    "id": "38694ffb-5f74-4ffe-884b-9c76fa6b4de5",
    "outputId": "661b3fd3-2d9b-4ad1-edb5-9119a0ec7794"
   },
   "outputs": [
    {
     "data": {
      "text/plain": [
       "Lasso(alpha=0.5, random_state=42)"
      ]
     },
     "execution_count": 69,
     "metadata": {},
     "output_type": "execute_result"
    }
   ],
   "source": [
    "lasso = Lasso(alpha=0.5, random_state=random_state)\n",
    "lasso.fit(X, y)"
   ]
  },
  {
   "cell_type": "code",
   "execution_count": null,
   "id": "582024d2-d9cd-4350-9082-cd2f13566648",
   "metadata": {
    "id": "582024d2-d9cd-4350-9082-cd2f13566648",
    "outputId": "c67693c4-f480-4f44-fe63-bfbef6ee78f3"
   },
   "outputs": [
    {
     "data": {
      "text/plain": [
       "0.0025269158801806135"
      ]
     },
     "execution_count": 70,
     "metadata": {},
     "output_type": "execute_result"
    }
   ],
   "source": [
    "lasso.score(X, y)"
   ]
  },
  {
   "cell_type": "code",
   "execution_count": null,
   "id": "3af92c37-533d-4ec0-bacf-240a176d187e",
   "metadata": {
    "id": "3af92c37-533d-4ec0-bacf-240a176d187e",
    "outputId": "9c8a00b4-8c70-4b6c-ee3c-8b4263caa55e"
   },
   "outputs": [
    {
     "data": {
      "text/plain": [
       "Ridge(alpha=1, random_state=42)"
      ]
     },
     "execution_count": 75,
     "metadata": {},
     "output_type": "execute_result"
    }
   ],
   "source": [
    "ridge = Ridge(alpha=1, random_state=random_state)\n",
    "ridge.fit(X, y)"
   ]
  },
  {
   "cell_type": "code",
   "execution_count": null,
   "id": "1b11ddf9-00e1-4aee-82d0-43dde415ab25",
   "metadata": {
    "id": "1b11ddf9-00e1-4aee-82d0-43dde415ab25",
    "outputId": "9da532b7-cfee-4f6b-db3b-c404b838ba7b"
   },
   "outputs": [
    {
     "data": {
      "text/plain": [
       "0.5513093996509315"
      ]
     },
     "execution_count": 76,
     "metadata": {},
     "output_type": "execute_result"
    }
   ],
   "source": [
    "ridge.score(X, y)"
   ]
  },
  {
   "cell_type": "code",
   "execution_count": null,
   "id": "dce9bf40-2907-4581-a1ce-d5000941ea7e",
   "metadata": {
    "id": "dce9bf40-2907-4581-a1ce-d5000941ea7e",
    "outputId": "0d3adeb3-ff7e-4b27-e0e8-2958edf347d3"
   },
   "outputs": [
    {
     "data": {
      "text/plain": [
       "RandomForestRegressor(max_depth=7, n_jobs=8, random_state=42)"
      ]
     },
     "execution_count": 77,
     "metadata": {},
     "output_type": "execute_result"
    }
   ],
   "source": [
    "rfr7 = RandomForestRegressor(n_estimators=100, max_depth=7, n_jobs=n_jobs, random_state=random_state)\n",
    "rfr7.fit(X, y)"
   ]
  },
  {
   "cell_type": "code",
   "execution_count": null,
   "id": "cc727169-1f30-497f-b286-172f8d9836f8",
   "metadata": {
    "id": "cc727169-1f30-497f-b286-172f8d9836f8",
    "outputId": "5795b465-994f-4865-c5c9-0b4a3d8c78fa"
   },
   "outputs": [
    {
     "data": {
      "text/plain": [
       "0.6024387127866675"
      ]
     },
     "execution_count": 78,
     "metadata": {},
     "output_type": "execute_result"
    }
   ],
   "source": [
    "rfr7.score(X, y)"
   ]
  },
  {
   "cell_type": "code",
   "execution_count": null,
   "id": "5fa759e4-38de-4847-bbb1-8b35cd9ce9e4",
   "metadata": {
    "id": "5fa759e4-38de-4847-bbb1-8b35cd9ce9e4",
    "outputId": "ebf7c2e1-2ee6-4633-f759-677987cdb107"
   },
   "outputs": [
    {
     "data": {
      "text/html": [
       "<style>#sk-container-id-1 {color: black;background-color: white;}#sk-container-id-1 pre{padding: 0;}#sk-container-id-1 div.sk-toggleable {background-color: white;}#sk-container-id-1 label.sk-toggleable__label {cursor: pointer;display: block;width: 100%;margin-bottom: 0;padding: 0.3em;box-sizing: border-box;text-align: center;}#sk-container-id-1 label.sk-toggleable__label-arrow:before {content: \"▸\";float: left;margin-right: 0.25em;color: #696969;}#sk-container-id-1 label.sk-toggleable__label-arrow:hover:before {color: black;}#sk-container-id-1 div.sk-estimator:hover label.sk-toggleable__label-arrow:before {color: black;}#sk-container-id-1 div.sk-toggleable__content {max-height: 0;max-width: 0;overflow: hidden;text-align: left;background-color: #f0f8ff;}#sk-container-id-1 div.sk-toggleable__content pre {margin: 0.2em;color: black;border-radius: 0.25em;background-color: #f0f8ff;}#sk-container-id-1 input.sk-toggleable__control:checked~div.sk-toggleable__content {max-height: 200px;max-width: 100%;overflow: auto;}#sk-container-id-1 input.sk-toggleable__control:checked~label.sk-toggleable__label-arrow:before {content: \"▾\";}#sk-container-id-1 div.sk-estimator input.sk-toggleable__control:checked~label.sk-toggleable__label {background-color: #d4ebff;}#sk-container-id-1 div.sk-label input.sk-toggleable__control:checked~label.sk-toggleable__label {background-color: #d4ebff;}#sk-container-id-1 input.sk-hidden--visually {border: 0;clip: rect(1px 1px 1px 1px);clip: rect(1px, 1px, 1px, 1px);height: 1px;margin: -1px;overflow: hidden;padding: 0;position: absolute;width: 1px;}#sk-container-id-1 div.sk-estimator {font-family: monospace;background-color: #f0f8ff;border: 1px dotted black;border-radius: 0.25em;box-sizing: border-box;margin-bottom: 0.5em;}#sk-container-id-1 div.sk-estimator:hover {background-color: #d4ebff;}#sk-container-id-1 div.sk-parallel-item::after {content: \"\";width: 100%;border-bottom: 1px solid gray;flex-grow: 1;}#sk-container-id-1 div.sk-label:hover label.sk-toggleable__label {background-color: #d4ebff;}#sk-container-id-1 div.sk-serial::before {content: \"\";position: absolute;border-left: 1px solid gray;box-sizing: border-box;top: 0;bottom: 0;left: 50%;z-index: 0;}#sk-container-id-1 div.sk-serial {display: flex;flex-direction: column;align-items: center;background-color: white;padding-right: 0.2em;padding-left: 0.2em;position: relative;}#sk-container-id-1 div.sk-item {position: relative;z-index: 1;}#sk-container-id-1 div.sk-parallel {display: flex;align-items: stretch;justify-content: center;background-color: white;position: relative;}#sk-container-id-1 div.sk-item::before, #sk-container-id-1 div.sk-parallel-item::before {content: \"\";position: absolute;border-left: 1px solid gray;box-sizing: border-box;top: 0;bottom: 0;left: 50%;z-index: -1;}#sk-container-id-1 div.sk-parallel-item {display: flex;flex-direction: column;z-index: 1;position: relative;background-color: white;}#sk-container-id-1 div.sk-parallel-item:first-child::after {align-self: flex-end;width: 50%;}#sk-container-id-1 div.sk-parallel-item:last-child::after {align-self: flex-start;width: 50%;}#sk-container-id-1 div.sk-parallel-item:only-child::after {width: 0;}#sk-container-id-1 div.sk-dashed-wrapped {border: 1px dashed gray;margin: 0 0.4em 0.5em 0.4em;box-sizing: border-box;padding-bottom: 0.4em;background-color: white;}#sk-container-id-1 div.sk-label label {font-family: monospace;font-weight: bold;display: inline-block;line-height: 1.2em;}#sk-container-id-1 div.sk-label-container {text-align: center;}#sk-container-id-1 div.sk-container {/* jupyter's `normalize.less` sets `[hidden] { display: none; }` but bootstrap.min.css set `[hidden] { display: none !important; }` so we also need the `!important` here to be able to override the default hidden behavior on the sphinx rendered scikit-learn.org. See: https://github.com/scikit-learn/scikit-learn/issues/21755 */display: inline-block !important;position: relative;}#sk-container-id-1 div.sk-text-repr-fallback {display: none;}</style><div id=\"sk-container-id-1\" class=\"sk-top-container\"><div class=\"sk-text-repr-fallback\"><pre>GradientBoostingRegressor(learning_rate=1, max_depth=2, random_state=42)</pre><b>In a Jupyter environment, please rerun this cell to show the HTML representation or trust the notebook. <br />On GitHub, the HTML representation is unable to render, please try loading this page with nbviewer.org.</b></div><div class=\"sk-container\" hidden><div class=\"sk-item\"><div class=\"sk-estimator sk-toggleable\"><input class=\"sk-toggleable__control sk-hidden--visually\" id=\"sk-estimator-id-1\" type=\"checkbox\" checked><label for=\"sk-estimator-id-1\" class=\"sk-toggleable__label sk-toggleable__label-arrow\">GradientBoostingRegressor</label><div class=\"sk-toggleable__content\"><pre>GradientBoostingRegressor(learning_rate=1, max_depth=2, random_state=42)</pre></div></div></div></div></div>"
      ],
      "text/plain": [
       "GradientBoostingRegressor(learning_rate=1, max_depth=2, random_state=42)"
      ]
     },
     "execution_count": 13,
     "metadata": {},
     "output_type": "execute_result"
    }
   ],
   "source": [
    "gbr2_1 = GradientBoostingRegressor(learning_rate=1, n_estimators=100, max_depth=2, random_state=random_state)\n",
    "gbr2_1.fit(X, y)"
   ]
  },
  {
   "cell_type": "code",
   "execution_count": null,
   "id": "15582fff-ab04-442c-8a4a-9ca82b022337",
   "metadata": {
    "id": "15582fff-ab04-442c-8a4a-9ca82b022337",
    "outputId": "1a67d9b9-4203-4a1c-89bf-55b302cb10cd"
   },
   "outputs": [
    {
     "data": {
      "text/plain": [
       "0.6212151719113779"
      ]
     },
     "execution_count": 14,
     "metadata": {},
     "output_type": "execute_result"
    }
   ],
   "source": [
    "gbr2_1.score(X, y)"
   ]
  },
  {
   "cell_type": "markdown",
   "id": "dceaf2d2-0155-41aa-b1b0-faffd93923ca",
   "metadata": {
    "id": "dceaf2d2-0155-41aa-b1b0-faffd93923ca"
   },
   "source": [
    "# Multiple Models for 2010"
   ]
  },
  {
   "cell_type": "code",
   "execution_count": null,
   "id": "cf4e9507-0ec0-43f1-9168-24f53e38228c",
   "metadata": {
    "id": "cf4e9507-0ec0-43f1-9168-24f53e38228c"
   },
   "outputs": [],
   "source": [
    "train_clust = merge_cluster(train_2010, clusters_2010)\n",
    "\n",
    "X_df, y, desc = select_cols_X_y(train_clust, cluster=True, col='cs_mn_all')\n",
    "\n",
    "X = X_df.to_numpy()"
   ]
  },
  {
   "cell_type": "code",
   "execution_count": null,
   "id": "06c7bbe5-b46a-4431-bd70-672373b6175c",
   "metadata": {
    "id": "06c7bbe5-b46a-4431-bd70-672373b6175c",
    "outputId": "860239d1-64fd-4f45-9d05-bdbffd65371f"
   },
   "outputs": [
    {
     "data": {
      "text/html": [
       "<style>#sk-container-id-2 {color: black;background-color: white;}#sk-container-id-2 pre{padding: 0;}#sk-container-id-2 div.sk-toggleable {background-color: white;}#sk-container-id-2 label.sk-toggleable__label {cursor: pointer;display: block;width: 100%;margin-bottom: 0;padding: 0.3em;box-sizing: border-box;text-align: center;}#sk-container-id-2 label.sk-toggleable__label-arrow:before {content: \"▸\";float: left;margin-right: 0.25em;color: #696969;}#sk-container-id-2 label.sk-toggleable__label-arrow:hover:before {color: black;}#sk-container-id-2 div.sk-estimator:hover label.sk-toggleable__label-arrow:before {color: black;}#sk-container-id-2 div.sk-toggleable__content {max-height: 0;max-width: 0;overflow: hidden;text-align: left;background-color: #f0f8ff;}#sk-container-id-2 div.sk-toggleable__content pre {margin: 0.2em;color: black;border-radius: 0.25em;background-color: #f0f8ff;}#sk-container-id-2 input.sk-toggleable__control:checked~div.sk-toggleable__content {max-height: 200px;max-width: 100%;overflow: auto;}#sk-container-id-2 input.sk-toggleable__control:checked~label.sk-toggleable__label-arrow:before {content: \"▾\";}#sk-container-id-2 div.sk-estimator input.sk-toggleable__control:checked~label.sk-toggleable__label {background-color: #d4ebff;}#sk-container-id-2 div.sk-label input.sk-toggleable__control:checked~label.sk-toggleable__label {background-color: #d4ebff;}#sk-container-id-2 input.sk-hidden--visually {border: 0;clip: rect(1px 1px 1px 1px);clip: rect(1px, 1px, 1px, 1px);height: 1px;margin: -1px;overflow: hidden;padding: 0;position: absolute;width: 1px;}#sk-container-id-2 div.sk-estimator {font-family: monospace;background-color: #f0f8ff;border: 1px dotted black;border-radius: 0.25em;box-sizing: border-box;margin-bottom: 0.5em;}#sk-container-id-2 div.sk-estimator:hover {background-color: #d4ebff;}#sk-container-id-2 div.sk-parallel-item::after {content: \"\";width: 100%;border-bottom: 1px solid gray;flex-grow: 1;}#sk-container-id-2 div.sk-label:hover label.sk-toggleable__label {background-color: #d4ebff;}#sk-container-id-2 div.sk-serial::before {content: \"\";position: absolute;border-left: 1px solid gray;box-sizing: border-box;top: 0;bottom: 0;left: 50%;z-index: 0;}#sk-container-id-2 div.sk-serial {display: flex;flex-direction: column;align-items: center;background-color: white;padding-right: 0.2em;padding-left: 0.2em;position: relative;}#sk-container-id-2 div.sk-item {position: relative;z-index: 1;}#sk-container-id-2 div.sk-parallel {display: flex;align-items: stretch;justify-content: center;background-color: white;position: relative;}#sk-container-id-2 div.sk-item::before, #sk-container-id-2 div.sk-parallel-item::before {content: \"\";position: absolute;border-left: 1px solid gray;box-sizing: border-box;top: 0;bottom: 0;left: 50%;z-index: -1;}#sk-container-id-2 div.sk-parallel-item {display: flex;flex-direction: column;z-index: 1;position: relative;background-color: white;}#sk-container-id-2 div.sk-parallel-item:first-child::after {align-self: flex-end;width: 50%;}#sk-container-id-2 div.sk-parallel-item:last-child::after {align-self: flex-start;width: 50%;}#sk-container-id-2 div.sk-parallel-item:only-child::after {width: 0;}#sk-container-id-2 div.sk-dashed-wrapped {border: 1px dashed gray;margin: 0 0.4em 0.5em 0.4em;box-sizing: border-box;padding-bottom: 0.4em;background-color: white;}#sk-container-id-2 div.sk-label label {font-family: monospace;font-weight: bold;display: inline-block;line-height: 1.2em;}#sk-container-id-2 div.sk-label-container {text-align: center;}#sk-container-id-2 div.sk-container {/* jupyter's `normalize.less` sets `[hidden] { display: none; }` but bootstrap.min.css set `[hidden] { display: none !important; }` so we also need the `!important` here to be able to override the default hidden behavior on the sphinx rendered scikit-learn.org. See: https://github.com/scikit-learn/scikit-learn/issues/21755 */display: inline-block !important;position: relative;}#sk-container-id-2 div.sk-text-repr-fallback {display: none;}</style><div id=\"sk-container-id-2\" class=\"sk-top-container\"><div class=\"sk-text-repr-fallback\"><pre>LinearRegression()</pre><b>In a Jupyter environment, please rerun this cell to show the HTML representation or trust the notebook. <br />On GitHub, the HTML representation is unable to render, please try loading this page with nbviewer.org.</b></div><div class=\"sk-container\" hidden><div class=\"sk-item\"><div class=\"sk-estimator sk-toggleable\"><input class=\"sk-toggleable__control sk-hidden--visually\" id=\"sk-estimator-id-2\" type=\"checkbox\" checked><label for=\"sk-estimator-id-2\" class=\"sk-toggleable__label sk-toggleable__label-arrow\">LinearRegression</label><div class=\"sk-toggleable__content\"><pre>LinearRegression()</pre></div></div></div></div></div>"
      ],
      "text/plain": [
       "LinearRegression()"
      ]
     },
     "execution_count": 25,
     "metadata": {},
     "output_type": "execute_result"
    }
   ],
   "source": [
    "lm = LinearRegression()\n",
    "lm.fit(X, y)"
   ]
  },
  {
   "cell_type": "code",
   "execution_count": null,
   "id": "cf9c8111-64b1-40af-8b3d-ebed14f5ff29",
   "metadata": {
    "id": "cf9c8111-64b1-40af-8b3d-ebed14f5ff29",
    "outputId": "8fc01964-dada-4201-fa71-5ff9604c4a6e"
   },
   "outputs": [
    {
     "data": {
      "text/plain": [
       "0.5466432042492448"
      ]
     },
     "execution_count": 26,
     "metadata": {},
     "output_type": "execute_result"
    }
   ],
   "source": [
    "lm.score(X, y)"
   ]
  },
  {
   "cell_type": "code",
   "execution_count": null,
   "id": "17631c27-e10f-407b-b500-9a57235eb49e",
   "metadata": {
    "id": "17631c27-e10f-407b-b500-9a57235eb49e",
    "outputId": "e53e840e-3f3e-42e2-e397-834210172441"
   },
   "outputs": [
    {
     "data": {
      "text/plain": [
       "array([1, 2, 3, 0])"
      ]
     },
     "execution_count": 27,
     "metadata": {},
     "output_type": "execute_result"
    }
   ],
   "source": [
    "train_clust['cluster'].unique()"
   ]
  },
  {
   "cell_type": "code",
   "execution_count": null,
   "id": "54b79a9d-65d8-43f3-883d-4b687f3864cb",
   "metadata": {
    "id": "54b79a9d-65d8-43f3-883d-4b687f3864cb"
   },
   "outputs": [],
   "source": [
    "def fit_lm(df, cluster_num):\n",
    "    train_clust = df[df['cluster'] == cluster_num]\n",
    "\n",
    "    X_df, y, desc = select_cols_X_y(train_clust, cluster=True, col='cs_mn_all')\n",
    "\n",
    "    X = X_df.to_numpy()\n",
    "\n",
    "    lm = LinearRegression()\n",
    "    lm.fit(X, y)\n",
    "    \n",
    "    return lm.score(X, y)"
   ]
  },
  {
   "cell_type": "code",
   "execution_count": null,
   "id": "110496ed-bb1e-4fae-9451-69405d2a1f0b",
   "metadata": {
    "id": "110496ed-bb1e-4fae-9451-69405d2a1f0b",
    "outputId": "c60f219d-c842-4c95-a6c5-4ec7fd124b64"
   },
   "outputs": [
    {
     "data": {
      "text/plain": [
       "0.5406872337789974"
      ]
     },
     "execution_count": 37,
     "metadata": {},
     "output_type": "execute_result"
    }
   ],
   "source": [
    "fit_lm(train_clust, 0)"
   ]
  },
  {
   "cell_type": "code",
   "execution_count": null,
   "id": "48c879dc-fb3d-4889-bdb7-eb79f4a1855a",
   "metadata": {
    "id": "48c879dc-fb3d-4889-bdb7-eb79f4a1855a",
    "outputId": "60916a42-8e21-4028-d0da-297950a213c8"
   },
   "outputs": [
    {
     "data": {
      "text/plain": [
       "0.32420882070040213"
      ]
     },
     "execution_count": 38,
     "metadata": {},
     "output_type": "execute_result"
    }
   ],
   "source": [
    "fit_lm(train_clust, 1)"
   ]
  },
  {
   "cell_type": "code",
   "execution_count": null,
   "id": "f440cddf-b229-446e-b62d-45ff4432e458",
   "metadata": {
    "id": "f440cddf-b229-446e-b62d-45ff4432e458",
    "outputId": "736792ff-97ba-4cb5-d913-f51c04c3c7f6"
   },
   "outputs": [
    {
     "data": {
      "text/plain": [
       "0.5313396366968626"
      ]
     },
     "execution_count": 39,
     "metadata": {},
     "output_type": "execute_result"
    }
   ],
   "source": [
    "fit_lm(train_clust, 2)"
   ]
  },
  {
   "cell_type": "code",
   "execution_count": null,
   "id": "23582926-08eb-43af-a900-9eac87c4f14b",
   "metadata": {
    "id": "23582926-08eb-43af-a900-9eac87c4f14b",
    "outputId": "85a58e25-9006-451b-f7dc-72b01ede1b27"
   },
   "outputs": [
    {
     "data": {
      "text/plain": [
       "0.2137288284923078"
      ]
     },
     "execution_count": 40,
     "metadata": {},
     "output_type": "execute_result"
    }
   ],
   "source": [
    "fit_lm(train_clust, 3)"
   ]
  },
  {
   "cell_type": "code",
   "execution_count": null,
   "id": "1e5d63d4-31f2-46b2-a2f1-f7dcd2138243",
   "metadata": {
    "id": "1e5d63d4-31f2-46b2-a2f1-f7dcd2138243",
    "outputId": "b8cc4935-deaf-434b-f8e0-648af145761f"
   },
   "outputs": [
    {
     "data": {
      "text/plain": [
       "0.5558594044049829"
      ]
     },
     "execution_count": 69,
     "metadata": {},
     "output_type": "execute_result"
    }
   ],
   "source": [
    "fit_hgbr(train_clust, 3)"
   ]
  },
  {
   "cell_type": "code",
   "execution_count": null,
   "id": "f692a2f5-42df-410d-8748-8457b1f60d9c",
   "metadata": {
    "id": "f692a2f5-42df-410d-8748-8457b1f60d9c",
    "outputId": "59d4bbf0-6393-4498-bcb3-65e4b719f75e"
   },
   "outputs": [
    {
     "data": {
      "text/plain": [
       "0.8690016893043733"
      ]
     },
     "execution_count": 70,
     "metadata": {},
     "output_type": "execute_result"
    }
   ],
   "source": [
    "fit_hgbr(train_clust, 0)"
   ]
  },
  {
   "cell_type": "markdown",
   "id": "55417828-ef09-4e96-b5ac-1d396932c4b9",
   "metadata": {
    "id": "55417828-ef09-4e96-b5ac-1d396932c4b9"
   },
   "source": [
    "# Clustered 2015 Models"
   ]
  },
  {
   "cell_type": "code",
   "execution_count": 11,
   "id": "bd2056d5-e481-4cfe-bdbb-82dceccdb1f8",
   "metadata": {
    "id": "bd2056d5-e481-4cfe-bdbb-82dceccdb1f8",
    "outputId": "8c5effad-103e-4536-ba12-41b223951edb"
   },
   "outputs": [
    {
     "data": {
      "text/plain": [
       "cluster\n",
       "0    4710\n",
       "1    2539\n",
       "2       4\n",
       "3    3594\n",
       "Name: LEAID, dtype: int64"
      ]
     },
     "execution_count": 11,
     "metadata": {},
     "output_type": "execute_result"
    }
   ],
   "source": [
    "scaler, pca, kmeans, coi_train_clust_2015 = make_clusters(coi_train_2015, n_clusters=4, drop_outliers=False)\n",
    "coi_train_clust_2015.groupby('cluster')['LEAID'].count()"
   ]
  },
  {
   "cell_type": "code",
   "execution_count": 11,
   "id": "c8eab58f-6619-46b7-8e40-4d0905d82179",
   "metadata": {
    "id": "c8eab58f-6619-46b7-8e40-4d0905d82179",
    "outputId": "ac923171-60ea-443a-e354-2d0cf9ab0b5a"
   },
   "outputs": [
    {
     "data": {
      "text/html": [
       "<div>\n",
       "<style scoped>\n",
       "    .dataframe tbody tr th:only-of-type {\n",
       "        vertical-align: middle;\n",
       "    }\n",
       "\n",
       "    .dataframe tbody tr th {\n",
       "        vertical-align: top;\n",
       "    }\n",
       "\n",
       "    .dataframe thead th {\n",
       "        text-align: right;\n",
       "    }\n",
       "</style>\n",
       "<table border=\"1\" class=\"dataframe\">\n",
       "  <thead>\n",
       "    <tr style=\"text-align: right;\">\n",
       "      <th></th>\n",
       "      <th>LEAID</th>\n",
       "      <th>NAME_LEA15</th>\n",
       "      <th>year</th>\n",
       "      <th>pop_child</th>\n",
       "      <th>pop_total</th>\n",
       "      <th>pop_scaled</th>\n",
       "    </tr>\n",
       "  </thead>\n",
       "  <tbody>\n",
       "    <tr>\n",
       "      <th>936</th>\n",
       "      <td>622710</td>\n",
       "      <td>Los Angeles Unified School District</td>\n",
       "      <td>2015</td>\n",
       "      <td>1085808</td>\n",
       "      <td>4793985</td>\n",
       "      <td>4.541622e+06</td>\n",
       "    </tr>\n",
       "    <tr>\n",
       "      <th>1590</th>\n",
       "      <td>1200390</td>\n",
       "      <td>Dade County School District</td>\n",
       "      <td>2015</td>\n",
       "      <td>553299</td>\n",
       "      <td>2496435</td>\n",
       "      <td>2.496435e+06</td>\n",
       "    </tr>\n",
       "    <tr>\n",
       "      <th>2038</th>\n",
       "      <td>1709930</td>\n",
       "      <td>Chicago Public School District 299</td>\n",
       "      <td>2015</td>\n",
       "      <td>595956</td>\n",
       "      <td>2735079</td>\n",
       "      <td>2.697662e+06</td>\n",
       "    </tr>\n",
       "    <tr>\n",
       "      <th>6756</th>\n",
       "      <td>3620580</td>\n",
       "      <td>New York City Department Of Education</td>\n",
       "      <td>2015</td>\n",
       "      <td>1794644</td>\n",
       "      <td>8175133</td>\n",
       "      <td>8.175133e+06</td>\n",
       "    </tr>\n",
       "  </tbody>\n",
       "</table>\n",
       "</div>"
      ],
      "text/plain": [
       "        LEAID                             NAME_LEA15  year  pop_child  \\\n",
       "936    622710    Los Angeles Unified School District  2015    1085808   \n",
       "1590  1200390            Dade County School District  2015     553299   \n",
       "2038  1709930     Chicago Public School District 299  2015     595956   \n",
       "6756  3620580  New York City Department Of Education  2015    1794644   \n",
       "\n",
       "      pop_total    pop_scaled  \n",
       "936     4793985  4.541622e+06  \n",
       "1590    2496435  2.496435e+06  \n",
       "2038    2735079  2.697662e+06  \n",
       "6756    8175133  8.175133e+06  "
      ]
     },
     "execution_count": 11,
     "metadata": {},
     "output_type": "execute_result"
    }
   ],
   "source": [
    "coi_train_clust_2015[coi_train_clust_2015['cluster'] == 2].iloc[:, :6]"
   ]
  },
  {
   "cell_type": "code",
   "execution_count": 12,
   "id": "bda4bb14-c34f-49e7-97a6-44e35e3ce789",
   "metadata": {
    "id": "bda4bb14-c34f-49e7-97a6-44e35e3ce789",
    "outputId": "a2480657-e315-4509-a729-229351cf2e84"
   },
   "outputs": [
    {
     "data": {
      "text/html": [
       "<div>\n",
       "<style scoped>\n",
       "    .dataframe tbody tr th:only-of-type {\n",
       "        vertical-align: middle;\n",
       "    }\n",
       "\n",
       "    .dataframe tbody tr th {\n",
       "        vertical-align: top;\n",
       "    }\n",
       "\n",
       "    .dataframe thead th {\n",
       "        text-align: right;\n",
       "    }\n",
       "</style>\n",
       "<table border=\"1\" class=\"dataframe\">\n",
       "  <thead>\n",
       "    <tr style=\"text-align: right;\">\n",
       "      <th></th>\n",
       "      <th>LEAID</th>\n",
       "      <th>NAME_LEA15</th>\n",
       "      <th>year</th>\n",
       "      <th>pop_child</th>\n",
       "      <th>pop_total</th>\n",
       "      <th>pop_scaled</th>\n",
       "      <th>ED_APENR</th>\n",
       "      <th>ED_ATTAIN</th>\n",
       "      <th>ED_COLLEGE</th>\n",
       "      <th>ED_ECENROL</th>\n",
       "      <th>...</th>\n",
       "      <th>Component 3</th>\n",
       "      <th>Component 4</th>\n",
       "      <th>Component 4</th>\n",
       "      <th>Component 6</th>\n",
       "      <th>Component 7</th>\n",
       "      <th>Component 8</th>\n",
       "      <th>Component 9</th>\n",
       "      <th>Component 10</th>\n",
       "      <th>Component 11</th>\n",
       "      <th>cluster</th>\n",
       "    </tr>\n",
       "  </thead>\n",
       "  <tbody>\n",
       "    <tr>\n",
       "      <th>936</th>\n",
       "      <td>622710</td>\n",
       "      <td>Los Angeles Unified School District</td>\n",
       "      <td>2015</td>\n",
       "      <td>1085808</td>\n",
       "      <td>4793985</td>\n",
       "      <td>4.541622e+06</td>\n",
       "      <td>0.588839</td>\n",
       "      <td>0.019934</td>\n",
       "      <td>0.779780</td>\n",
       "      <td>0.351197</td>\n",
       "      <td>...</td>\n",
       "      <td>32.231910</td>\n",
       "      <td>13.209863</td>\n",
       "      <td>5.719041</td>\n",
       "      <td>1.276153</td>\n",
       "      <td>1.338784</td>\n",
       "      <td>1.573777</td>\n",
       "      <td>2.304350</td>\n",
       "      <td>-1.689796</td>\n",
       "      <td>0.615895</td>\n",
       "      <td>2</td>\n",
       "    </tr>\n",
       "    <tr>\n",
       "      <th>1590</th>\n",
       "      <td>1200390</td>\n",
       "      <td>Dade County School District</td>\n",
       "      <td>2015</td>\n",
       "      <td>553299</td>\n",
       "      <td>2496435</td>\n",
       "      <td>2.496435e+06</td>\n",
       "      <td>0.900277</td>\n",
       "      <td>-0.036666</td>\n",
       "      <td>0.673132</td>\n",
       "      <td>0.463831</td>\n",
       "      <td>...</td>\n",
       "      <td>17.532011</td>\n",
       "      <td>4.734290</td>\n",
       "      <td>3.384863</td>\n",
       "      <td>0.375378</td>\n",
       "      <td>2.036824</td>\n",
       "      <td>0.380711</td>\n",
       "      <td>1.134571</td>\n",
       "      <td>-0.534759</td>\n",
       "      <td>-0.263910</td>\n",
       "      <td>2</td>\n",
       "    </tr>\n",
       "    <tr>\n",
       "      <th>2038</th>\n",
       "      <td>1709930</td>\n",
       "      <td>Chicago Public School District 299</td>\n",
       "      <td>2015</td>\n",
       "      <td>595956</td>\n",
       "      <td>2735079</td>\n",
       "      <td>2.697662e+06</td>\n",
       "      <td>0.391746</td>\n",
       "      <td>0.334433</td>\n",
       "      <td>0.280761</td>\n",
       "      <td>0.398951</td>\n",
       "      <td>...</td>\n",
       "      <td>16.468996</td>\n",
       "      <td>6.542650</td>\n",
       "      <td>3.820423</td>\n",
       "      <td>-0.544915</td>\n",
       "      <td>1.456135</td>\n",
       "      <td>0.831286</td>\n",
       "      <td>1.553625</td>\n",
       "      <td>-0.165353</td>\n",
       "      <td>0.833204</td>\n",
       "      <td>2</td>\n",
       "    </tr>\n",
       "    <tr>\n",
       "      <th>6756</th>\n",
       "      <td>3620580</td>\n",
       "      <td>New York City Department Of Education</td>\n",
       "      <td>2015</td>\n",
       "      <td>1794644</td>\n",
       "      <td>8175133</td>\n",
       "      <td>8.175133e+06</td>\n",
       "      <td>0.017234</td>\n",
       "      <td>0.376310</td>\n",
       "      <td>0.022077</td>\n",
       "      <td>0.560500</td>\n",
       "      <td>...</td>\n",
       "      <td>58.549179</td>\n",
       "      <td>23.878781</td>\n",
       "      <td>11.163949</td>\n",
       "      <td>0.244454</td>\n",
       "      <td>3.621252</td>\n",
       "      <td>2.887660</td>\n",
       "      <td>5.075274</td>\n",
       "      <td>0.507846</td>\n",
       "      <td>-0.206234</td>\n",
       "      <td>2</td>\n",
       "    </tr>\n",
       "  </tbody>\n",
       "</table>\n",
       "<p>4 rows × 47 columns</p>\n",
       "</div>"
      ],
      "text/plain": [
       "        LEAID                             NAME_LEA15  year  pop_child  \\\n",
       "936    622710    Los Angeles Unified School District  2015    1085808   \n",
       "1590  1200390            Dade County School District  2015     553299   \n",
       "2038  1709930     Chicago Public School District 299  2015     595956   \n",
       "6756  3620580  New York City Department Of Education  2015    1794644   \n",
       "\n",
       "      pop_total    pop_scaled  ED_APENR  ED_ATTAIN  ED_COLLEGE  ED_ECENROL  \\\n",
       "936     4793985  4.541622e+06  0.588839   0.019934    0.779780    0.351197   \n",
       "1590    2496435  2.496435e+06  0.900277  -0.036666    0.673132    0.463831   \n",
       "2038    2735079  2.697662e+06  0.391746   0.334433    0.280761    0.398951   \n",
       "6756    8175133  8.175133e+06  0.017234   0.376310    0.022077    0.560500   \n",
       "\n",
       "      ...  Component 3  Component 4  Component 4  Component 6  Component 7  \\\n",
       "936   ...    32.231910    13.209863     5.719041     1.276153     1.338784   \n",
       "1590  ...    17.532011     4.734290     3.384863     0.375378     2.036824   \n",
       "2038  ...    16.468996     6.542650     3.820423    -0.544915     1.456135   \n",
       "6756  ...    58.549179    23.878781    11.163949     0.244454     3.621252   \n",
       "\n",
       "      Component 8  Component 9  Component 10  Component 11  cluster  \n",
       "936      1.573777     2.304350     -1.689796      0.615895        2  \n",
       "1590     0.380711     1.134571     -0.534759     -0.263910        2  \n",
       "2038     0.831286     1.553625     -0.165353      0.833204        2  \n",
       "6756     2.887660     5.075274      0.507846     -0.206234        2  \n",
       "\n",
       "[4 rows x 47 columns]"
      ]
     },
     "execution_count": 12,
     "metadata": {},
     "output_type": "execute_result"
    }
   ],
   "source": [
    "coi_train_clust_2015[coi_train_clust_2015['pop_child'] > 550000]"
   ]
  },
  {
   "cell_type": "code",
   "execution_count": 69,
   "id": "57c6fc45-0e17-4df6-8de4-173f5f9ea190",
   "metadata": {},
   "outputs": [
    {
     "data": {
      "text/html": [
       "<iframe\n",
       "    scrolling=\"no\"\n",
       "    width=\"820px\"\n",
       "    height=\"620\"\n",
       "    src=\"iframe_figures/figure_69.html\"\n",
       "    frameborder=\"0\"\n",
       "    allowfullscreen\n",
       "></iframe>\n"
      ]
     },
     "metadata": {},
     "output_type": "display_data"
    }
   ],
   "source": [
    "#plot the clusters on the first two princial components\n",
    "plot_clust_df = coi_train_clust_2015.copy()\n",
    "plot_clust_df['cluster'] = plot_clust_df['cluster'].astype(str)\n",
    "\n",
    "fig = px.scatter(plot_clust_df, \n",
    "                 x='Component 1', \n",
    "                 y='Component 2', \n",
    "                 color='cluster', \n",
    "                 category_orders={'cluster': ['0', '1', '2', '3']}, \n",
    "                 log_x=True,\n",
    "                 log_y=True,\n",
    "                 width=800, \n",
    "                 height=600)\n",
    "\n",
    "fig.show()"
   ]
  },
  {
   "cell_type": "code",
   "execution_count": 70,
   "id": "453af6f2-d4cf-4171-be9a-11c96be87ca8",
   "metadata": {},
   "outputs": [],
   "source": [
    "# Save clusters to csv for display later\n",
    "plot_clust_df.to_csv(path+'data_display/train_clusters.csv')"
   ]
  },
  {
   "cell_type": "code",
   "execution_count": 12,
   "id": "d02268e3-c03e-4c11-b4b8-7509992d8b96",
   "metadata": {
    "id": "d02268e3-c03e-4c11-b4b8-7509992d8b96"
   },
   "outputs": [],
   "source": [
    "train_2015 = merge_data(coi_train_clust_2015, seda_train_2015)\n",
    "\n",
    "X_df, y, desc = select_cols_X_y(train_2015, cluster=True, col='cs_mn_all')\n",
    "\n",
    "X = X_df.to_numpy()"
   ]
  },
  {
   "cell_type": "code",
   "execution_count": 15,
   "id": "645370f1-f465-4667-bb96-47341fb4a973",
   "metadata": {
    "id": "645370f1-f465-4667-bb96-47341fb4a973",
    "outputId": "838a7070-59cf-4f3a-cdc5-17c47bcf55b3"
   },
   "outputs": [
    {
     "data": {
      "text/plain": [
       "Index(['LEAID', 'NAME_LEA15', 'coi_year', 'pop_child', 'pop_total',\n",
       "       'pop_scaled', 'ED_APENR', 'ED_ATTAIN', 'ED_COLLEGE', 'ED_ECENROL',\n",
       "       ...\n",
       "       'totgyb_whg', 'cs_mn_wht', 'cs_mnse_wht', 'totgyb_wht', 'cs_mn_wmg',\n",
       "       'cs_mnse_wmg', 'totgyb_wmg', 'cs_mn_wng', 'cs_mnse_wng', 'totgyb_wng'],\n",
       "      dtype='object', length=108)"
      ]
     },
     "execution_count": 15,
     "metadata": {},
     "output_type": "execute_result"
    }
   ],
   "source": [
    "train_2015.columns"
   ]
  },
  {
   "cell_type": "code",
   "execution_count": null,
   "id": "e3703e5d-c3ea-4456-8cd4-ae9b1fb19379",
   "metadata": {
    "id": "e3703e5d-c3ea-4456-8cd4-ae9b1fb19379",
    "outputId": "a780142f-e2ee-4de1-fe74-838205316218"
   },
   "outputs": [
    {
     "data": {
      "text/plain": [
       "{0: (0.520254316241726, {'learning_rate': 0.1, 'max_depth': 3}),\n",
       " 1: (0.5223414376364287, {'learning_rate': 0.1, 'max_depth': 4}),\n",
       " 2: (0.5220580282194127, {'learning_rate': 0.1, 'max_depth': 4}),\n",
       " 3: (0.5213955926977436, {'learning_rate': 0.1, 'max_depth': 5}),\n",
       " 4: (0.5222390559825708, {'learning_rate': 0.1, 'max_depth': 4})}"
      ]
     },
     "execution_count": 98,
     "metadata": {},
     "output_type": "execute_result"
    }
   ],
   "source": [
    "p_grid = {'learning_rate': [0.1, 0.5, 1, 1.5, 2], 'max_depth': [1, 2, 3, 4, 5]}\n",
    "hgrb = HistGradientBoostingRegressor()\n",
    "\n",
    "cv_best = {}\n",
    "\n",
    "# Loop for each trial\n",
    "for i in range(5):\n",
    "    clf = GridSearchCV(estimator=hgrb, param_grid=p_grid, scoring=['r2', 'mean_absolute_error'], cv=5, n_jobs=n_jobs)\n",
    "    clf.fit(X, y)\n",
    "    cv_best[i] = (clf.best_score_, clf.best_params_)\n",
    "\n",
    "cv_best"
   ]
  },
  {
   "cell_type": "code",
   "execution_count": 71,
   "id": "30c22eef-9b79-4fcc-befe-1e60bcab4bd3",
   "metadata": {
    "id": "30c22eef-9b79-4fcc-befe-1e60bcab4bd3",
    "outputId": "1faad9b7-0839-4ab2-8d7b-a7d7c016f58a"
   },
   "outputs": [
    {
     "data": {
      "text/plain": [
       "0.36637956022262863"
      ]
     },
     "execution_count": 71,
     "metadata": {},
     "output_type": "execute_result"
    }
   ],
   "source": [
    "hgbr_0, hgbr_0_train_score = fit_hgbr(train_2015, 0)\n",
    "hgbr_0_train_score"
   ]
  },
  {
   "cell_type": "code",
   "execution_count": 72,
   "id": "1a57ac48-2656-4f47-afbd-d01b5a17f752",
   "metadata": {
    "id": "1a57ac48-2656-4f47-afbd-d01b5a17f752",
    "outputId": "fb27cec7-e06b-40e1-b60e-66417b0eaf7b"
   },
   "outputs": [
    {
     "data": {
      "text/plain": [
       "0.7637803048526116"
      ]
     },
     "execution_count": 72,
     "metadata": {},
     "output_type": "execute_result"
    }
   ],
   "source": [
    "hgbr_1, hgbr_1_train_score = fit_hgbr(train_2015, 1)\n",
    "hgbr_1_train_score"
   ]
  },
  {
   "cell_type": "code",
   "execution_count": 73,
   "id": "d15de2e7-463e-43b0-b6c2-088946c8c3e7",
   "metadata": {
    "id": "d15de2e7-463e-43b0-b6c2-088946c8c3e7",
    "outputId": "ec8ec64e-8275-46c3-a59e-60e932c462c3"
   },
   "outputs": [
    {
     "data": {
      "text/plain": [
       "0.900445518260216"
      ]
     },
     "execution_count": 73,
     "metadata": {},
     "output_type": "execute_result"
    }
   ],
   "source": [
    "hgbr_2, hgbr_2_train_score = fit_hgbr(train_2015, 2)\n",
    "hgbr_2_train_score"
   ]
  },
  {
   "cell_type": "code",
   "execution_count": 74,
   "id": "929eeb72-ef7d-4aa5-9789-540fd62feba8",
   "metadata": {
    "id": "929eeb72-ef7d-4aa5-9789-540fd62feba8",
    "outputId": "65c2afaf-6b8e-4c9c-99d0-557750d9bdd6"
   },
   "outputs": [
    {
     "data": {
      "text/plain": [
       "0.5170779029092183"
      ]
     },
     "execution_count": 74,
     "metadata": {},
     "output_type": "execute_result"
    }
   ],
   "source": [
    "hgbr_3, hgbr_3_train_score = fit_hgbr(train_2015, 3)\n",
    "hgbr_3_train_score"
   ]
  },
  {
   "cell_type": "code",
   "execution_count": 75,
   "id": "26156575-20b5-4913-a1d9-a2acbd18666c",
   "metadata": {
    "id": "26156575-20b5-4913-a1d9-a2acbd18666c",
    "outputId": "1d0d36a4-7bc5-4793-de60-037571351239"
   },
   "outputs": [
    {
     "data": {
      "text/plain": [
       "0.628602871091348"
      ]
     },
     "execution_count": 75,
     "metadata": {},
     "output_type": "execute_result"
    }
   ],
   "source": [
    "hgbr_all, hgbr_all_train_score = fit_hgbr(train_2015, None)\n",
    "hgbr_all_train_score"
   ]
  },
  {
   "cell_type": "markdown",
   "id": "152ba367-d11d-45d9-8c4c-6ac530d92b63",
   "metadata": {
    "id": "96658c1e-023d-4b2e-bde5-ea4f6e497af9"
   },
   "source": [
    "# Test Set"
   ]
  },
  {
   "cell_type": "code",
   "execution_count": 18,
   "id": "f47aa5d5-7651-464f-bdd5-b645bd8b0b25",
   "metadata": {
    "id": "f47aa5d5-7651-464f-bdd5-b645bd8b0b25",
    "outputId": "d4e8d2d0-d598-439d-82ab-a2cf1b7b58b4"
   },
   "outputs": [],
   "source": [
    "km_cols = ['pop_child', 'pop_total', 'pop_scaled', \n",
    "           'ED_APENR', 'ED_ATTAIN', 'ED_COLLEGE', 'ED_ECENROL', 'ED_HSGRAD',\n",
    "           'ED_MATH', 'ED_READING', 'ED_SCHPOV', 'ED_TEACHXP', 'ED_PRXECE', \n",
    "           'ED_PRXHQECE', 'HE_FOOD', 'HE_GREEN', 'HE_HEAT', 'HE_HLTHINS',\n",
    "           'HE_OZONE', 'HE_PM25', 'HE_VACANCY', 'HE_WALK', 'HE_SUPRFND', 'HE_RSEI',\n",
    "           'SE_POVRATE', 'SE_PUBLIC', 'SE_HOME', 'SE_OCC', 'SE_MHE', 'SE_EMPRAT',\n",
    "           'SE_JOBPROX', 'SE_SINGLE']\n",
    "\n",
    "km_df = coi_test_2015.loc[:, km_cols]\n",
    "\n",
    "km_df.iloc[:, :3] = scaler.transform(km_df.iloc[:, :3])\n",
    "\n",
    "pca_arr = pca.transform(km_df)\n",
    "\n",
    "pca_df = pd.concat([coi_test_2015.reset_index(drop = True), pd.DataFrame(pca_arr)],axis = 1)\n",
    "pca_df.columns.values[-11:] = ['Component 1','Component 2','Component 3','Component 4','Component 4','Component 6',\n",
    "                               'Component 7','Component 8','Component 9','Component 10','Component 11']\n",
    "\n",
    "clusters = kmeans.predict(pca_arr)\n",
    "\n",
    "coi_test_clust_2015 = pd.concat([pca_df, pd.Series(clusters, name='cluster')], axis=1)\n",
    "\n",
    "test_2015 = merge_data(coi_test_clust_2015, seda_test_2015)\n",
    "\n",
    "# X_test_df, y_test, desc_test = select_cols_X_y(test_2015, cluster=True, col='cs_mn_all')\n",
    "\n",
    "# X_test = X_test_df.to_numpy()"
   ]
  },
  {
   "cell_type": "code",
   "execution_count": 19,
   "id": "8033b1b5-bc76-4056-965b-827a356ec2f7",
   "metadata": {
    "id": "8033b1b5-bc76-4056-965b-827a356ec2f7",
    "outputId": "8d1b69de-2427-4fd5-d556-97003c2181c9"
   },
   "outputs": [
    {
     "data": {
      "text/plain": [
       "0.5442006131285942"
      ]
     },
     "execution_count": 19,
     "metadata": {},
     "output_type": "execute_result"
    }
   ],
   "source": [
    "# hgbr_all.score(X_test, y_test)"
   ]
  },
  {
   "cell_type": "code",
   "execution_count": 20,
   "id": "dc6643ee-5e8d-43cc-a4de-424ea051a77c",
   "metadata": {},
   "outputs": [],
   "source": [
    "all_cols = ['coi_year', 'pop_child', 'pop_total', 'pop_scaled',\n",
    "            'ED_APENR', 'ED_ATTAIN', 'ED_COLLEGE', 'ED_ECENROL', 'ED_HSGRAD',\n",
    "            'ED_MATH', 'ED_READING', 'ED_SCHPOV', 'ED_TEACHXP', 'ED_PRXECE',\n",
    "            'ED_PRXHQECE', 'HE_FOOD', 'HE_GREEN', 'HE_HEAT', 'HE_HLTHINS',\n",
    "            'HE_OZONE', 'HE_PM25', 'HE_VACANCY', 'HE_WALK', 'HE_SUPRFND', 'HE_RSEI',\n",
    "            'SE_POVRATE', 'SE_PUBLIC', 'SE_HOME', 'SE_OCC', 'SE_MHE', 'SE_EMPRAT',\n",
    "            'SE_JOBPROX', 'SE_SINGLE', 'subject', 'grade', 'seda_year', 'cluster']\n",
    "\n",
    "labels = ['COI Year', 'Pop - Child', 'Pop - Total', 'Pop - Scaled to District',\n",
    "          'AP Enroll', 'Adult Ed Attainment', 'College Enroll', 'Early Child Ed Enroll', 'High School Grad Rate', \n",
    "          '3rd Grade Math Proficiency', '3rd Grade Reading Proficiency', 'School Poverty', 'Teacher Experience', 'Early Child Ed Centers',\n",
    "          'High-Quality Early Child Ed', 'Healthy Food Access', 'Green Space Access', 'Extreme Heat Exposure', 'Health Insurance Coverage', \n",
    "          'Ozone Concentration', 'Airborne Microparticles', 'Housing Vacancy Rate', 'Walkablity', 'Hazardous Waste', 'Industrial Pollutants',\n",
    "          'Poverty Rate', 'Public Assistance Rate', 'Homeownership Rate', 'High-Skill Employment', 'Median Household Income', 'Employment Rate',\n",
    "          'Commute Duration', 'Single-Headed Households', 'Subject (Read/Math)', 'Grade', 'School Year', 'Cluster ID']"
   ]
  },
  {
   "cell_type": "code",
   "execution_count": 76,
   "id": "47ebb4f8-b8d7-4ce1-ad2d-c88d21bd9d7a",
   "metadata": {},
   "outputs": [],
   "source": [
    "def perm_importance(model, df_test, cluster_num=None, n_repeats=20):\n",
    "    \n",
    "    # If cluster selected, filter dataframe.  Else, use all clusters\n",
    "    if cluster_num is None:\n",
    "        test_clust = df_test.copy()\n",
    "        cluster_name = 'All Clusters'\n",
    "    else:\n",
    "        test_clust = df_test[df_test['cluster'] == cluster_num]\n",
    "        cluster_name = 'Cluster ' + str(cluster_num)\n",
    "\n",
    "    # Split into X and y\n",
    "    X_test_df, y_test, desc = select_cols_X_y(test_clust, cluster=True, col='cs_mn_all')\n",
    "\n",
    "    X_test = X_test_df.to_numpy()\n",
    "    \n",
    "    # Score the trained model on X_test and y_test\n",
    "    score = model.score(X_test, y_test)\n",
    "    \n",
    "    # Use the trained model and X_test and y_test to calculate feature importance\n",
    "    perm_imp = permutation_importance(model, X_test, y_test, n_repeats=n_repeats, random_state=random_state, n_jobs=n_jobs)\n",
    "    sorted_idx = perm_imp.importances_mean.argsort()[::-1]\n",
    "    sorted_idx_5 = sorted_idx[:5]\n",
    "    \n",
    "    # Human-readable feature labels\n",
    "    labels = ['COI Year', 'Pop - Child', 'Pop - Total', 'Pop - Scaled to District',\n",
    "              'AP Enroll', 'Adult Ed Attainment', 'College Enroll', 'Early Child Ed Enroll', 'High School Grad Rate', \n",
    "              '3rd Grade Math Proficiency', '3rd Grade Reading Proficiency', 'School Poverty', 'Teacher Experience', 'Early Child Ed Centers',\n",
    "              'High-Quality Early Child Ed', 'Healthy Food Access', 'Green Space Access', 'Extreme Heat Exposure', 'Health Insurance Coverage', \n",
    "              'Ozone Concentration', 'Airborne Microparticles', 'Housing Vacancy Rate', 'Walkablity', 'Hazardous Waste', 'Industrial Pollutants',\n",
    "              'Poverty Rate', 'Public Assistance Rate', 'Homeownership Rate', 'High-Skill Employment', 'Median Household Income', 'Employment Rate',\n",
    "              'Commute Duration', 'Single-Headed Households', 'Subject (Read/Math)', 'Grade', 'School Year', 'Cluster ID']\n",
    "    \n",
    "    # Long-form dataframe of feature importances for later plotting\n",
    "    df = pd.DataFrame(perm_imp.importances[sorted_idx].T, columns=np.array(labels)[sorted_idx])\n",
    "    df_melt = df.melt(var_name='Variable', value_name='Importance')\n",
    "    df_melt['Cluster Name'] = cluster_name\n",
    "\n",
    "    return score, perm_imp, sorted_idx, df_melt"
   ]
  },
  {
   "cell_type": "code",
   "execution_count": 26,
   "id": "b657cc46-ac61-465a-b40d-81e30fe411be",
   "metadata": {},
   "outputs": [],
   "source": [
    "def table_feat_imp(perm_imp, sorted_idx, top=5):\n",
    "    # Human-readable feature labels\n",
    "    labels = ['COI Year', 'Pop - Child', 'Pop - Total', 'Pop - Scaled to District',\n",
    "              'AP Enroll', 'Adult Ed Attainment', 'College Enroll', 'Early Child Ed Enroll', 'High School Grad Rate', \n",
    "              '3rd Grade Math Proficiency', '3rd Grade Reading Proficiency', 'School Poverty', 'Teacher Experience', 'Early Child Ed Centers',\n",
    "              'High-Quality Early Child Ed', 'Healthy Food Access', 'Green Space Access', 'Extreme Heat Exposure', 'Health Insurance Coverage', \n",
    "              'Ozone Concentration', 'Airborne Microparticles', 'Housing Vacancy Rate', 'Walkablity', 'Hazardous Waste', 'Industrial Pollutants',\n",
    "              'Poverty Rate', 'Public Assistance Rate', 'Homeownership Rate', 'High-Skill Employment', 'Median Household Income', 'Employment Rate',\n",
    "              'Commute Duration', 'Single-Headed Households', 'Subject (Read/Math)', 'Grade', 'School Year', 'Cluster ID']\n",
    "    \n",
    "    # Limit to top <selected> features\n",
    "    sorted_idx_top = sorted_idx[:top]\n",
    "    \n",
    "    # Table of top <selected> features\n",
    "    imp_labels = np.array(labels)[sorted_idx_top]\n",
    "    imp_means = [f'{x:.3f}' for x in perm_imp.importances_mean[sorted_idx_top]]\n",
    "    imp_std = [f'+/- {x:.3f}' for x in perm_imp.importances_std[sorted_idx_top]]\n",
    "\n",
    "    fig = go.Figure(data=[go.Table(columnwidth = [300, 100, 100],\n",
    "                                   header=dict(values=['Variable', 'Importance - Mean', 'Importance - STD'], align='left'), \n",
    "                                   cells=dict(values=[imp_labels, imp_means, imp_std], align='left'))])\n",
    "    fig.update_layout(\n",
    "        height=300,\n",
    "        width=500,\n",
    "        showlegend=False,\n",
    "        title_text='Feature Importance for All-Cluster Model',\n",
    "    )\n",
    "    \n",
    "    return fig"
   ]
  },
  {
   "cell_type": "code",
   "execution_count": 77,
   "id": "cf862ddb-6faa-4281-b3d4-ba5b2d19f802",
   "metadata": {},
   "outputs": [],
   "source": [
    "# Feature importance, all clusters together\n",
    "score_all, perm_imp_all, sorted_idx_all, df_melt_all = perm_importance(hgbr_all, test_2015)"
   ]
  },
  {
   "cell_type": "code",
   "execution_count": 78,
   "id": "eb356e04-82f4-4d29-8a19-ecc4a80fa75b",
   "metadata": {},
   "outputs": [],
   "source": [
    "# Feature importance, clusters 0\n",
    "score_0, perm_imp_0, sorted_idx_0, df_melt_0 = perm_importance(hgbr_0, test_2015, cluster_num=0)"
   ]
  },
  {
   "cell_type": "code",
   "execution_count": 79,
   "id": "afbccdc6-cc13-48b8-ae1f-ac3f3eb3cf71",
   "metadata": {},
   "outputs": [],
   "source": [
    "# Feature importance, clusters 1\n",
    "score_1, perm_imp_1, sorted_idx_1, df_melt_1 = perm_importance(hgbr_1, test_2015, cluster_num=1)"
   ]
  },
  {
   "cell_type": "code",
   "execution_count": 85,
   "id": "bcf6eb6b-f51c-4a16-bc42-1aadae16decd",
   "metadata": {},
   "outputs": [],
   "source": [
    "# No test samples in cluster 2, so use training feature importance\n",
    "#score_2, perm_imp_2, sorted_idx_2, df_melt_2 = perm_importance(hgbr_all, test_2015, cluster_num=2)\n",
    "\n",
    "#score_2, perm_imp_2, sorted_idx_2, df_melt_2 = perm_importance(hgbr_2, train_2015, cluster_num=2)"
   ]
  },
  {
   "cell_type": "code",
   "execution_count": 81,
   "id": "f2771056-20e1-4974-98b9-b061166f3141",
   "metadata": {},
   "outputs": [],
   "source": [
    "# Feature importance, clusters 3\n",
    "score_3, perm_imp_3, sorted_idx_3, df_melt_3 = perm_importance(hgbr_3, test_2015, cluster_num=3)"
   ]
  },
  {
   "cell_type": "code",
   "execution_count": 86,
   "id": "75570135-186b-4827-8bd5-6168f9d39c9c",
   "metadata": {},
   "outputs": [],
   "source": [
    "# Concatenate feature importance dataframes from each cluster and write to csv\n",
    "feature_imp_df = pd.concat([df_melt_all, df_melt_0, df_melt_1, df_melt_3])\n",
    "feature_imp_df.to_csv(path+'data_display/feature_imp.csv')"
   ]
  },
  {
   "cell_type": "code",
   "execution_count": 21,
   "id": "c7436890-fb34-4c6c-878f-c07060fecf20",
   "metadata": {},
   "outputs": [],
   "source": [
    "# for i in sorted_idx:\n",
    "#     if result.importances_mean[i] - 2 * result.importances_std[i] > 0:\n",
    "#         print(f\"{labels[i]:<8}\"\n",
    "#               f\"    {result.importances_mean[i]:.3f}\"\n",
    "#               f\" +/- {result.importances_std[i]:.3f}\")"
   ]
  },
  {
   "cell_type": "code",
   "execution_count": 27,
   "id": "47ff5934-7acc-4d08-a37f-216c0c5df9d7",
   "metadata": {},
   "outputs": [],
   "source": [
    "# imp_labels = np.array(labels)[sorted_idx]\n",
    "# imp_means = [f'{x:.3f}' for x in result.importances_mean[sorted_idx]]\n",
    "# imp_std = [f'+/- {x:.3f}' for x in result.importances_std[sorted_idx]]\n",
    "\n",
    "# fig = go.Figure(data=[go.Table(header=dict(values=['Variable', 'Importance - Mean', 'Importance - STD'], align='left'), \n",
    "#                                cells=dict(values=[imp_labels, imp_means, imp_std], align='left'))])\n",
    "# fig.update_layout(\n",
    "#     height=400,\n",
    "#     width=800,\n",
    "#     showlegend=False,\n",
    "#     title_text='Feature Importance for All-Cluster Model',\n",
    "# )\n",
    "# fig.show()"
   ]
  },
  {
   "cell_type": "code",
   "execution_count": 83,
   "id": "9dbf09ce-1119-4cdf-8625-ba427a962b89",
   "metadata": {},
   "outputs": [
    {
     "data": {
      "text/html": [
       "<div>\n",
       "<style scoped>\n",
       "    .dataframe tbody tr th:only-of-type {\n",
       "        vertical-align: middle;\n",
       "    }\n",
       "\n",
       "    .dataframe tbody tr th {\n",
       "        vertical-align: top;\n",
       "    }\n",
       "\n",
       "    .dataframe thead th {\n",
       "        text-align: right;\n",
       "    }\n",
       "</style>\n",
       "<table border=\"1\" class=\"dataframe\">\n",
       "  <thead>\n",
       "    <tr style=\"text-align: right;\">\n",
       "      <th></th>\n",
       "      <th>Variable</th>\n",
       "      <th>Importance</th>\n",
       "      <th>Cluster Name</th>\n",
       "    </tr>\n",
       "  </thead>\n",
       "  <tbody>\n",
       "  </tbody>\n",
       "</table>\n",
       "</div>"
      ],
      "text/plain": [
       "Empty DataFrame\n",
       "Columns: [Variable, Importance, Cluster Name]\n",
       "Index: []"
      ]
     },
     "execution_count": 83,
     "metadata": {},
     "output_type": "execute_result"
    }
   ],
   "source": [
    "feature_imp_df[feature_imp_df['Cluster Name'] == 'Cluster 0']\n"
   ]
  },
  {
   "cell_type": "code",
   "execution_count": 47,
   "id": "cee19198-b783-448c-9bc7-dd04370a7179",
   "metadata": {},
   "outputs": [
    {
     "data": {
      "text/html": [
       "<iframe\n",
       "    scrolling=\"no\"\n",
       "    width=\"1220px\"\n",
       "    height=\"620\"\n",
       "    src=\"iframe_figures/figure_47.html\"\n",
       "    frameborder=\"0\"\n",
       "    allowfullscreen\n",
       "></iframe>\n"
      ]
     },
     "metadata": {},
     "output_type": "display_data"
    }
   ],
   "source": [
    "fig = px.box(feature_imp_df, x='Variable', y='Importance', color='Cluster Name', height=600, width=1200)\n",
    "fig.show()"
   ]
  },
  {
   "cell_type": "code",
   "execution_count": null,
   "id": "913a3fb5-26ea-44a6-89d1-a006789f70e3",
   "metadata": {},
   "outputs": [],
   "source": []
  },
  {
   "cell_type": "code",
   "execution_count": null,
   "id": "8748e73d-614f-454d-a406-c55f789cb376",
   "metadata": {},
   "outputs": [],
   "source": []
  },
  {
   "cell_type": "code",
   "execution_count": null,
   "id": "0b93174e-f897-420f-99f0-3237274cbf6a",
   "metadata": {},
   "outputs": [],
   "source": []
  }
 ],
 "metadata": {
  "colab": {
   "collapsed_sections": [
    "8a43b76c-df94-4731-949b-52a842b76df3",
    "ecd5ecc8-e540-422b-b486-218abe177a1f",
    "dceaf2d2-0155-41aa-b1b0-faffd93923ca"
   ],
   "provenance": []
  },
  "kernelspec": {
   "display_name": "Python 3 (ipykernel)",
   "language": "python",
   "name": "python3"
  },
  "language_info": {
   "codemirror_mode": {
    "name": "ipython",
    "version": 3
   },
   "file_extension": ".py",
   "mimetype": "text/x-python",
   "name": "python",
   "nbconvert_exporter": "python",
   "pygments_lexer": "ipython3",
   "version": "3.9.7"
  }
 },
 "nbformat": 4,
 "nbformat_minor": 5
}
