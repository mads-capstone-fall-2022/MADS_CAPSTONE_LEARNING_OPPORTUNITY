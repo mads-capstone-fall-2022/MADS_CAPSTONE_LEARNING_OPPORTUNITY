{
 "cells": [
  {
   "cell_type": "code",
   "execution_count": 1,
   "id": "57c0ebfe-4d6a-4ec3-962a-879814e5f169",
   "metadata": {
    "id": "57c0ebfe-4d6a-4ec3-962a-879814e5f169"
   },
   "outputs": [],
   "source": [
    "import numpy as np\n",
    "import pandas as pd\n",
    "import pickle\n",
    "\n",
    "from sklearn.preprocessing import StandardScaler\n",
    "from sklearn.decomposition import PCA\n",
    "from sklearn.cluster import KMeans\n",
    "from sklearn.linear_model import LinearRegression, Lasso, Ridge\n",
    "from sklearn.ensemble import GradientBoostingRegressor, RandomForestRegressor, HistGradientBoostingRegressor\n",
    "from sklearn.model_selection import GridSearchCV, KFold\n",
    "from sklearn.inspection import permutation_importance\n",
    "\n",
    "import plotly.express as px\n",
    "import plotly.graph_objects as go\n",
    "import plotly.io as pio\n",
    "\n",
    "pio.renderers.default='iframe'\n",
    "\n",
    "random_state = 42\n",
    "n_jobs = 8"
   ]
  },
  {
   "cell_type": "code",
   "execution_count": 2,
   "id": "198f1a57-fad4-418b-939c-4d0d67435fc0",
   "metadata": {
    "id": "198f1a57-fad4-418b-939c-4d0d67435fc0"
   },
   "outputs": [],
   "source": [
    "#sklearn.__version__"
   ]
  },
  {
   "cell_type": "markdown",
   "id": "2f0ff28f-8da0-4eb7-b922-ceff881dca0f",
   "metadata": {
    "id": "2f0ff28f-8da0-4eb7-b922-ceff881dca0f"
   },
   "source": [
    "# Data Loading"
   ]
  },
  {
   "cell_type": "code",
   "execution_count": 3,
   "id": "55052303-4900-47d6-80ce-96151b168423",
   "metadata": {
    "id": "55052303-4900-47d6-80ce-96151b168423"
   },
   "outputs": [],
   "source": [
    "path = ''"
   ]
  },
  {
   "cell_type": "code",
   "execution_count": 4,
   "id": "cc177bb2-a727-44dc-ab6e-72e760a88ea2",
   "metadata": {
    "id": "cc177bb2-a727-44dc-ab6e-72e760a88ea2"
   },
   "outputs": [],
   "source": [
    "coi_train_2010 = pd.read_csv(path+'data_cleaned/coi_district_grouped_train_2010.csv', index_col=0)\n",
    "coi_train_2015 = pd.read_csv(path+'data_cleaned/coi_district_grouped_train_2015.csv', index_col=0)\n",
    "coi_test_2010 = pd.read_csv(path+'data_cleaned/coi_district_grouped_test_2010.csv', index_col=0)\n",
    "coi_test_2015 = pd.read_csv(path+'data_cleaned/coi_district_grouped_test_2015.csv', index_col=0)"
   ]
  },
  {
   "cell_type": "code",
   "execution_count": 5,
   "id": "16c4f688-664b-474a-9b48-63a3199292d1",
   "metadata": {
    "id": "16c4f688-664b-474a-9b48-63a3199292d1"
   },
   "outputs": [],
   "source": [
    "seda_train_2010 = pd.read_csv(path+'data_cleaned/seda_train_2010.csv', index_col=0)\n",
    "seda_train_2015 = pd.read_csv(path+'data_cleaned/seda_train_2015.csv', index_col=0)\n",
    "seda_test_2010 = pd.read_csv(path+'data_cleaned/seda_test_2010.csv', index_col=0)\n",
    "seda_test_2015 = pd.read_csv(path+'data_cleaned/seda_test_2015.csv', index_col=0)"
   ]
  },
  {
   "cell_type": "code",
   "execution_count": 10,
   "id": "e6777847-2a58-4711-bb44-02c21deca7e0",
   "metadata": {},
   "outputs": [],
   "source": [
    "with open(path+'data_cleaned/school_data_for_map.pkl', 'rb') as f:\n",
    "    seda_map = pickle.load(f)\n",
    "    \n",
    "seda_map['latitude'] = seda_map['latitude'].astype(float)\n",
    "seda_map['longitude'] = seda_map['longitude'].astype(float)"
   ]
  },
  {
   "cell_type": "code",
   "execution_count": null,
   "id": "804d845f-c5c8-4f87-9607-5a569dac31f0",
   "metadata": {
    "id": "804d845f-c5c8-4f87-9607-5a569dac31f0",
    "outputId": "69548ae5-cd05-4679-c986-24b9725f8933"
   },
   "outputs": [
    {
     "data": {
      "text/plain": [
       "Index(['LEAID', 'NAME_LEA15', 'year', 'pop_child', 'pop_total', 'pop_scaled',\n",
       "       'ED_APENR', 'ED_ATTAIN', 'ED_COLLEGE', 'ED_ECENROL', 'ED_HSGRAD',\n",
       "       'ED_MATH', 'ED_READING', 'ED_SCHPOV', 'ED_TEACHXP', 'ED_PRXECE',\n",
       "       'ED_PRXHQECE', 'HE_FOOD', 'HE_GREEN', 'HE_HEAT', 'HE_HLTHINS',\n",
       "       'HE_OZONE', 'HE_PM25', 'HE_VACANCY', 'HE_WALK', 'HE_SUPRFND', 'HE_RSEI',\n",
       "       'SE_POVRATE', 'SE_PUBLIC', 'SE_HOME', 'SE_OCC', 'SE_MHE', 'SE_EMPRAT',\n",
       "       'SE_JOBPROX', 'SE_SINGLE'],\n",
       "      dtype='object')"
      ]
     },
     "execution_count": 7,
     "metadata": {},
     "output_type": "execute_result"
    }
   ],
   "source": [
    "coi_train_2010.columns"
   ]
  },
  {
   "cell_type": "code",
   "execution_count": null,
   "id": "6e3c6d90-c8ad-429d-81a6-effc120a4da2",
   "metadata": {
    "id": "6e3c6d90-c8ad-429d-81a6-effc120a4da2",
    "outputId": "9e4e8522-3ce1-4b5f-dd07-22c79ada0c6a"
   },
   "outputs": [
    {
     "data": {
      "text/plain": [
       "Index(['fips', 'stateabb', 'sedalea', 'sedaleaname', 'subject', 'grade',\n",
       "       'year', 'cs_mn_all', 'cs_mnse_all', 'totgyb_all', 'cs_mn_asn',\n",
       "       'cs_mnse_asn', 'totgyb_asn', 'cs_mn_blk', 'cs_mnse_blk', 'totgyb_blk',\n",
       "       'cs_mn_ecd', 'cs_mnse_ecd', 'totgyb_ecd', 'cs_mn_fem', 'cs_mnse_fem',\n",
       "       'totgyb_fem', 'cs_mn_hsp', 'cs_mnse_hsp', 'totgyb_hsp', 'cs_mn_mal',\n",
       "       'cs_mnse_mal', 'totgyb_mal', 'cs_mn_mfg', 'cs_mnse_mfg', 'totgyb_mfg',\n",
       "       'cs_mn_mtr', 'cs_mnse_mtr', 'totgyb_mtr', 'cs_mn_nam', 'cs_mnse_nam',\n",
       "       'totgyb_nam', 'cs_mn_nec', 'cs_mnse_nec', 'totgyb_nec', 'cs_mn_neg',\n",
       "       'cs_mnse_neg', 'totgyb_neg', 'cs_mn_wag', 'cs_mnse_wag', 'totgyb_wag',\n",
       "       'cs_mn_wbg', 'cs_mnse_wbg', 'totgyb_wbg', 'cs_mn_whg', 'cs_mnse_whg',\n",
       "       'totgyb_whg', 'cs_mn_wht', 'cs_mnse_wht', 'totgyb_wht', 'cs_mn_wmg',\n",
       "       'cs_mnse_wmg', 'totgyb_wmg', 'cs_mn_wng', 'cs_mnse_wng', 'totgyb_wng'],\n",
       "      dtype='object')"
      ]
     },
     "execution_count": 8,
     "metadata": {},
     "output_type": "execute_result"
    }
   ],
   "source": [
    "seda_train_2010.columns"
   ]
  },
  {
   "cell_type": "markdown",
   "id": "38267caf-a9d6-434a-bf90-1ab394639815",
   "metadata": {
    "id": "38267caf-a9d6-434a-bf90-1ab394639815"
   },
   "source": [
    "# Functions"
   ]
  },
  {
   "cell_type": "code",
   "execution_count": 12,
   "id": "f79788b7-9025-4cf0-b3db-ee0a237a336b",
   "metadata": {
    "id": "f79788b7-9025-4cf0-b3db-ee0a237a336b"
   },
   "outputs": [],
   "source": [
    "def make_clusters(coi, n_clusters, drop_outliers=False):\n",
    "\n",
    "    if drop_outliers:\n",
    "        coi = coi[coi['pop_child'] < 550000]\n",
    "    \n",
    "    km_cols = ['pop_child', 'pop_total', 'pop_scaled', \n",
    "               'ED_APENR', 'ED_ATTAIN', 'ED_COLLEGE', 'ED_ECENROL', 'ED_HSGRAD',\n",
    "               'ED_MATH', 'ED_READING', 'ED_SCHPOV', 'ED_TEACHXP', 'ED_PRXECE', \n",
    "               'ED_PRXHQECE', 'HE_FOOD', 'HE_GREEN', 'HE_HEAT', 'HE_HLTHINS',\n",
    "               'HE_OZONE', 'HE_PM25', 'HE_VACANCY', 'HE_WALK', 'HE_SUPRFND', 'HE_RSEI',\n",
    "               'SE_POVRATE', 'SE_PUBLIC', 'SE_HOME', 'SE_OCC', 'SE_MHE', 'SE_EMPRAT',\n",
    "               'SE_JOBPROX', 'SE_SINGLE']\n",
    "    \n",
    "    km_df = coi.loc[:, km_cols]\n",
    "    \n",
    "    scaler = StandardScaler().fit(km_df.iloc[:, :3])\n",
    "    km_df.iloc[:, :3] = scaler.transform(km_df.iloc[:, :3])\n",
    "\n",
    "    pca = PCA(n_components=11, random_state=random_state).fit(km_df)\n",
    "    pca_arr = pca.transform(km_df)\n",
    "        \n",
    "    pca_df = pd.concat([coi.reset_index(drop = True), pd.DataFrame(pca_arr)],axis = 1)\n",
    "    pca_df.columns.values[-11:] = ['Component 1','Component 2','Component 3','Component 4','Component 5','Component 6',\n",
    "                                   'Component 7','Component 8','Component 9','Component 10','Component 11']\n",
    "\n",
    "    kmeans = KMeans(n_clusters=n_clusters, n_init=20, algorithm='lloyd', max_iter=1000, random_state=random_state).fit(pca_arr)\n",
    "    \n",
    "    clusters = kmeans.predict(pca_arr)\n",
    "    \n",
    "    df = pd.concat([pca_df, pd.Series(clusters, name='cluster')], axis=1)\n",
    "    \n",
    "    return scaler, pca, kmeans, df\n"
   ]
  },
  {
   "cell_type": "code",
   "execution_count": 13,
   "id": "bdfe0b32-e4e7-4e92-99e6-b4cb01efe28f",
   "metadata": {
    "id": "bdfe0b32-e4e7-4e92-99e6-b4cb01efe28f"
   },
   "outputs": [],
   "source": [
    "def merge_data(coi, seda):\n",
    "    df = coi.merge(seda, left_on='LEAID', right_on='sedalea')\n",
    "    df = df.rename(columns={'year_x': 'coi_year', 'year_y': 'seda_year'})\n",
    "    df = df.replace({'rla': 0, 'mth': 1})\n",
    "    \n",
    "    return df"
   ]
  },
  {
   "cell_type": "code",
   "execution_count": 14,
   "id": "0a680ab8-9c02-450e-9e2c-fe264cdc21a2",
   "metadata": {
    "id": "0a680ab8-9c02-450e-9e2c-fe264cdc21a2"
   },
   "outputs": [],
   "source": [
    "def select_cols_X_y(df, cluster=False, col='cs_mn_all'):\n",
    "    description_cols = ['LEAID', 'NAME_LEA15', 'fips', 'stateabb', 'sedalea', 'sedaleaname']\n",
    "                        \n",
    "    X_cols = ['coi_year', 'pop_child', 'pop_total', 'pop_scaled',\n",
    "              'ED_APENR', 'ED_ATTAIN', 'ED_COLLEGE', 'ED_ECENROL', 'ED_HSGRAD', \n",
    "              'ED_MATH', 'ED_READING', 'ED_SCHPOV', 'ED_TEACHXP', 'ED_PRXECE',\n",
    "              'ED_PRXHQECE', 'HE_FOOD', 'HE_GREEN', 'HE_HEAT', 'HE_HLTHINS',\n",
    "              'HE_OZONE', 'HE_PM25', 'HE_VACANCY', 'HE_WALK', 'HE_SUPRFND', 'HE_RSEI',\n",
    "              'SE_POVRATE', 'SE_PUBLIC', 'SE_HOME', 'SE_OCC', 'SE_MHE', 'SE_EMPRAT',\n",
    "              'SE_JOBPROX', 'SE_SINGLE', 'subject', 'grade', 'seda_year']\n",
    "\n",
    "    if cluster:\n",
    "        X_cols.append('cluster')\n",
    "        \n",
    "    y_col = col\n",
    "    \n",
    "    train = df[df[col].notna()]\n",
    "    \n",
    "    X = train[X_cols]\n",
    "    y = train[y_col]\n",
    "    desc_df = train[description_cols]\n",
    "    \n",
    "    return X, y, desc_df, train"
   ]
  },
  {
   "cell_type": "code",
   "execution_count": 15,
   "id": "b53f7209-16b5-43d2-8b80-1d8a1efdbd9b",
   "metadata": {
    "id": "b53f7209-16b5-43d2-8b80-1d8a1efdbd9b"
   },
   "outputs": [],
   "source": [
    "def fit_hgbr(df, cluster_num):\n",
    "    # If cluster selected, filter dataframe.  Else, use all clusters\n",
    "    if cluster_num is None:\n",
    "        train_clust = df.copy()\n",
    "    else:\n",
    "        train_clust = df[df['cluster'] == cluster_num]\n",
    "\n",
    "    X_df, y, desc, total_df = select_cols_X_y(train_clust, cluster=True, col='cs_mn_all')\n",
    "\n",
    "    X = X_df.to_numpy()\n",
    "\n",
    "    hgbr = HistGradientBoostingRegressor(learning_rate=0.1, max_depth=4, random_state=random_state)\n",
    "    hgbr.fit(X, y)\n",
    "    \n",
    "    return hgbr, hgbr.score(X, y)"
   ]
  },
  {
   "cell_type": "code",
   "execution_count": 16,
   "id": "47ebb4f8-b8d7-4ce1-ad2d-c88d21bd9d7a",
   "metadata": {
    "id": "47ebb4f8-b8d7-4ce1-ad2d-c88d21bd9d7a"
   },
   "outputs": [],
   "source": [
    "def perm_importance(model, df_test, cluster_num=None, n_repeats=20, top_n=None):\n",
    "    \n",
    "    # If cluster selected, filter dataframe.  Else, use all clusters\n",
    "    if cluster_num is None:\n",
    "        test_clust = df_test.copy()\n",
    "        cluster_name = 'All Clusters'\n",
    "    else:\n",
    "        test_clust = df_test[df_test['cluster'] == cluster_num]\n",
    "        cluster_name = 'Cluster ' + str(cluster_num + 1)\n",
    "\n",
    "    # Split into X and y\n",
    "    X_test_df, y_test, desc, total_df = select_cols_X_y(test_clust, cluster=True, col='cs_mn_all')\n",
    "\n",
    "    X_test = X_test_df.to_numpy()\n",
    "    \n",
    "    # Score the trained model on X_test and y_test\n",
    "    score = model.score(X_test, y_test)\n",
    "    \n",
    "    # Use the trained model and X_test and y_test to calculate feature importance\n",
    "    perm_imp = permutation_importance(model, X_test, y_test, n_repeats=n_repeats, random_state=random_state, n_jobs=n_jobs)\n",
    "    sorted_idx = perm_imp.importances_mean.argsort()[::-1]\n",
    "    \n",
    "    # If selected, limit to top n features\n",
    "    if top_n is not None:\n",
    "        sorted_idx = sorted_idx[:top_n]\n",
    "    \n",
    "    # Human-readable feature labels\n",
    "    labels = ['COI Year', 'Pop - Child', 'Pop - Total', 'Pop - Scaled to District',\n",
    "              'AP Enroll', 'Adult Ed Attainment', 'College Enroll', 'Early Child Ed Enroll', 'High School Grad Rate', \n",
    "              '3rd Grade Math Proficiency', '3rd Grade Reading Proficiency', 'School Poverty', 'Teacher Experience', 'Early Child Ed Centers',\n",
    "              'High-Quality Early Child Ed', 'Healthy Food Access', 'Green Space Access', 'Extreme Heat Exposure', 'Health Insurance Coverage', \n",
    "              'Ozone Concentration', 'Airborne Microparticles', 'Housing Vacancy Rate', 'Walkablity', 'Hazardous Waste', 'Industrial Pollutants',\n",
    "              'Poverty Rate', 'Public Assistance Rate', 'Homeownership Rate', 'High-Skill Employment', 'Median Household Income', 'Employment Rate',\n",
    "              'Commute Duration', 'Single-Headed Households', 'Subject (Read/Math)', 'Grade', 'School Year', 'Cluster ID']\n",
    "    \n",
    "    # Long-form dataframe of feature importances for later plotting\n",
    "    df = pd.DataFrame(perm_imp.importances[sorted_idx].T, columns=np.array(labels)[sorted_idx])\n",
    "    df_melt = df.melt(var_name='Variable', value_name='Importance')\n",
    "    df_melt['Cluster Name'] = cluster_name\n",
    "\n",
    "    return score, perm_imp, sorted_idx, df_melt"
   ]
  },
  {
   "cell_type": "code",
   "execution_count": 17,
   "id": "b657cc46-ac61-465a-b40d-81e30fe411be",
   "metadata": {
    "id": "b657cc46-ac61-465a-b40d-81e30fe411be"
   },
   "outputs": [],
   "source": [
    "def table_feat_imp(perm_imp, sorted_idx, top=5):\n",
    "    # Human-readable feature labels\n",
    "    labels = ['COI Year', 'Pop - Child', 'Pop - Total', 'Pop - Scaled to District',\n",
    "              'AP Enroll', 'Adult Ed Attainment', 'College Enroll', 'Early Child Ed Enroll', 'High School Grad Rate', \n",
    "              '3rd Grade Math Proficiency', '3rd Grade Reading Proficiency', 'School Poverty', 'Teacher Experience', 'Early Child Ed Centers',\n",
    "              'High-Quality Early Child Ed', 'Healthy Food Access', 'Green Space Access', 'Extreme Heat Exposure', 'Health Insurance Coverage', \n",
    "              'Ozone Concentration', 'Airborne Microparticles', 'Housing Vacancy Rate', 'Walkablity', 'Hazardous Waste', 'Industrial Pollutants',\n",
    "              'Poverty Rate', 'Public Assistance Rate', 'Homeownership Rate', 'High-Skill Employment', 'Median Household Income', 'Employment Rate',\n",
    "              'Commute Duration', 'Single-Headed Households', 'Subject (Read/Math)', 'Grade', 'School Year', 'Cluster ID']\n",
    "    \n",
    "    # Limit to top <selected> features\n",
    "    sorted_idx_top = sorted_idx[:top]\n",
    "    \n",
    "    # Table of top <selected> features\n",
    "    imp_labels = np.array(labels)[sorted_idx_top]\n",
    "    imp_means = [f'{x:.3f}' for x in perm_imp.importances_mean[sorted_idx_top]]\n",
    "    imp_std = [f'+/- {x:.3f}' for x in perm_imp.importances_std[sorted_idx_top]]\n",
    "\n",
    "    fig = go.Figure(data=[go.Table(columnwidth = [300, 100, 100],\n",
    "                                   header=dict(values=['Variable', 'Importance - Mean', 'Importance - STD'], align='left'), \n",
    "                                   cells=dict(values=[imp_labels, imp_means, imp_std], align='left'))])\n",
    "    fig.update_layout(\n",
    "        height=300,\n",
    "        width=500,\n",
    "        showlegend=False,\n",
    "        title_text='Feature Importance for All-Cluster Model',\n",
    "    )\n",
    "    \n",
    "    return fig"
   ]
  },
  {
   "cell_type": "markdown",
   "id": "55417828-ef09-4e96-b5ac-1d396932c4b9",
   "metadata": {
    "id": "55417828-ef09-4e96-b5ac-1d396932c4b9"
   },
   "source": [
    "# Clustered 2015 Models"
   ]
  },
  {
   "cell_type": "code",
   "execution_count": 18,
   "id": "bd2056d5-e481-4cfe-bdbb-82dceccdb1f8",
   "metadata": {
    "id": "bd2056d5-e481-4cfe-bdbb-82dceccdb1f8",
    "outputId": "8c5effad-103e-4536-ba12-41b223951edb"
   },
   "outputs": [
    {
     "data": {
      "text/plain": [
       "cluster\n",
       "0    4710\n",
       "1    2539\n",
       "2       4\n",
       "3    3594\n",
       "Name: LEAID, dtype: int64"
      ]
     },
     "execution_count": 18,
     "metadata": {},
     "output_type": "execute_result"
    }
   ],
   "source": [
    "scaler, pca, kmeans, coi_train_clust_2015 = make_clusters(coi_train_2015, n_clusters=4, drop_outliers=False)\n",
    "coi_train_clust_2015.groupby('cluster')['LEAID'].count()"
   ]
  },
  {
   "cell_type": "code",
   "execution_count": 19,
   "id": "c8eab58f-6619-46b7-8e40-4d0905d82179",
   "metadata": {
    "id": "c8eab58f-6619-46b7-8e40-4d0905d82179",
    "outputId": "ac923171-60ea-443a-e354-2d0cf9ab0b5a"
   },
   "outputs": [
    {
     "data": {
      "text/html": [
       "<div>\n",
       "<style scoped>\n",
       "    .dataframe tbody tr th:only-of-type {\n",
       "        vertical-align: middle;\n",
       "    }\n",
       "\n",
       "    .dataframe tbody tr th {\n",
       "        vertical-align: top;\n",
       "    }\n",
       "\n",
       "    .dataframe thead th {\n",
       "        text-align: right;\n",
       "    }\n",
       "</style>\n",
       "<table border=\"1\" class=\"dataframe\">\n",
       "  <thead>\n",
       "    <tr style=\"text-align: right;\">\n",
       "      <th></th>\n",
       "      <th>LEAID</th>\n",
       "      <th>NAME_LEA15</th>\n",
       "      <th>year</th>\n",
       "      <th>pop_child</th>\n",
       "      <th>pop_total</th>\n",
       "      <th>pop_scaled</th>\n",
       "    </tr>\n",
       "  </thead>\n",
       "  <tbody>\n",
       "    <tr>\n",
       "      <th>936</th>\n",
       "      <td>622710</td>\n",
       "      <td>Los Angeles Unified School District</td>\n",
       "      <td>2015</td>\n",
       "      <td>1085808</td>\n",
       "      <td>4793985</td>\n",
       "      <td>4.541622e+06</td>\n",
       "    </tr>\n",
       "    <tr>\n",
       "      <th>1590</th>\n",
       "      <td>1200390</td>\n",
       "      <td>Dade County School District</td>\n",
       "      <td>2015</td>\n",
       "      <td>553299</td>\n",
       "      <td>2496435</td>\n",
       "      <td>2.496435e+06</td>\n",
       "    </tr>\n",
       "    <tr>\n",
       "      <th>2038</th>\n",
       "      <td>1709930</td>\n",
       "      <td>Chicago Public School District 299</td>\n",
       "      <td>2015</td>\n",
       "      <td>595956</td>\n",
       "      <td>2735079</td>\n",
       "      <td>2.697662e+06</td>\n",
       "    </tr>\n",
       "    <tr>\n",
       "      <th>6756</th>\n",
       "      <td>3620580</td>\n",
       "      <td>New York City Department Of Education</td>\n",
       "      <td>2015</td>\n",
       "      <td>1794644</td>\n",
       "      <td>8175133</td>\n",
       "      <td>8.175133e+06</td>\n",
       "    </tr>\n",
       "  </tbody>\n",
       "</table>\n",
       "</div>"
      ],
      "text/plain": [
       "        LEAID                             NAME_LEA15  year  pop_child  \\\n",
       "936    622710    Los Angeles Unified School District  2015    1085808   \n",
       "1590  1200390            Dade County School District  2015     553299   \n",
       "2038  1709930     Chicago Public School District 299  2015     595956   \n",
       "6756  3620580  New York City Department Of Education  2015    1794644   \n",
       "\n",
       "      pop_total    pop_scaled  \n",
       "936     4793985  4.541622e+06  \n",
       "1590    2496435  2.496435e+06  \n",
       "2038    2735079  2.697662e+06  \n",
       "6756    8175133  8.175133e+06  "
      ]
     },
     "execution_count": 19,
     "metadata": {},
     "output_type": "execute_result"
    }
   ],
   "source": [
    "coi_train_clust_2015[coi_train_clust_2015['cluster'] == 2].iloc[:, :6]"
   ]
  },
  {
   "cell_type": "code",
   "execution_count": 20,
   "id": "d02268e3-c03e-4c11-b4b8-7509992d8b96",
   "metadata": {
    "id": "d02268e3-c03e-4c11-b4b8-7509992d8b96"
   },
   "outputs": [],
   "source": [
    "train_2015 = merge_data(coi_train_clust_2015, seda_train_2015)\n",
    "\n",
    "X_df, y, desc, train_2015_df = select_cols_X_y(train_2015, cluster=True, col='cs_mn_all')\n",
    "\n",
    "X = X_df.to_numpy()"
   ]
  },
  {
   "cell_type": "code",
   "execution_count": 21,
   "id": "9a55823c-827d-49a1-b611-361d0458b8cf",
   "metadata": {
    "id": "9a55823c-827d-49a1-b611-361d0458b8cf",
    "outputId": "ec923206-2a80-46f5-d8de-6b398cbd74c5"
   },
   "outputs": [
    {
     "data": {
      "text/plain": [
       "0.5516249041654944"
      ]
     },
     "execution_count": 21,
     "metadata": {},
     "output_type": "execute_result"
    }
   ],
   "source": [
    "lm = LinearRegression()\n",
    "lm.fit(X, y)\n",
    "lm.score(X, y)"
   ]
  },
  {
   "cell_type": "code",
   "execution_count": 22,
   "id": "a5579bf8-8aef-41b4-8dd6-469d76596c72",
   "metadata": {
    "id": "a5579bf8-8aef-41b4-8dd6-469d76596c72",
    "outputId": "fed8ddd1-693d-4bb6-b5e3-f4ec43d6d785"
   },
   "outputs": [
    {
     "data": {
      "text/plain": [
       "0.0025269158801806135"
      ]
     },
     "execution_count": 22,
     "metadata": {},
     "output_type": "execute_result"
    }
   ],
   "source": [
    "lasso = Lasso(alpha=0.5, random_state=random_state)\n",
    "lasso.fit(X, y)\n",
    "lasso.score(X, y)"
   ]
  },
  {
   "cell_type": "code",
   "execution_count": 23,
   "id": "feb643fa-cf52-46d3-8e3e-6a1f7dc1883b",
   "metadata": {
    "id": "feb643fa-cf52-46d3-8e3e-6a1f7dc1883b",
    "outputId": "7cefbcea-588a-4436-c9dd-c1ec54522374"
   },
   "outputs": [
    {
     "data": {
      "text/plain": [
       "0.5516249041351623"
      ]
     },
     "execution_count": 23,
     "metadata": {},
     "output_type": "execute_result"
    }
   ],
   "source": [
    "ridge = Ridge(alpha=1, random_state=random_state)\n",
    "ridge.fit(X, y)\n",
    "ridge.score(X, y)"
   ]
  },
  {
   "cell_type": "code",
   "execution_count": 24,
   "id": "b968d93e-9376-4da3-9a1b-c89625b4b6a9",
   "metadata": {
    "id": "b968d93e-9376-4da3-9a1b-c89625b4b6a9",
    "outputId": "b3b2a83b-a495-4f00-d2a4-c46006636006"
   },
   "outputs": [
    {
     "data": {
      "text/plain": [
       "0.6022567411502213"
      ]
     },
     "execution_count": 24,
     "metadata": {},
     "output_type": "execute_result"
    }
   ],
   "source": [
    "rfr7 = RandomForestRegressor(n_estimators=100, max_depth=7, n_jobs=n_jobs, random_state=random_state)\n",
    "rfr7.fit(X, y)\n",
    "rfr7.score(X, y)"
   ]
  },
  {
   "cell_type": "code",
   "execution_count": 25,
   "id": "1ba7bda5-4467-48dd-b042-462f182ecb13",
   "metadata": {
    "id": "1ba7bda5-4467-48dd-b042-462f182ecb13",
    "outputId": "1a6bfb7c-3113-4155-dc32-778523285653"
   },
   "outputs": [
    {
     "data": {
      "text/plain": [
       "0.6212151719113779"
      ]
     },
     "execution_count": 25,
     "metadata": {},
     "output_type": "execute_result"
    }
   ],
   "source": [
    "gbr2_1 = GradientBoostingRegressor(learning_rate=1, n_estimators=100, max_depth=2, random_state=random_state)\n",
    "gbr2_1.fit(X, y)\n",
    "gbr2_1.score(X, y)"
   ]
  },
  {
   "cell_type": "code",
   "execution_count": 26,
   "id": "d78ecde9-d90d-47f2-bec9-56e0e9efd3ad",
   "metadata": {
    "id": "d78ecde9-d90d-47f2-bec9-56e0e9efd3ad",
    "outputId": "88f4e8a1-198d-44cb-b513-fd87ccecc495"
   },
   "outputs": [
    {
     "data": {
      "text/plain": [
       "0.628602871091348"
      ]
     },
     "execution_count": 26,
     "metadata": {},
     "output_type": "execute_result"
    }
   ],
   "source": [
    "hgrb1_4 = HistGradientBoostingRegressor(learning_rate=0.1, max_depth=4, random_state=random_state)\n",
    "hgrb1_4.fit(X, y)\n",
    "hgrb1_4.score(X, y)"
   ]
  },
  {
   "cell_type": "code",
   "execution_count": null,
   "id": "e3703e5d-c3ea-4456-8cd4-ae9b1fb19379",
   "metadata": {
    "id": "e3703e5d-c3ea-4456-8cd4-ae9b1fb19379",
    "outputId": "a780142f-e2ee-4de1-fe74-838205316218"
   },
   "outputs": [
    {
     "data": {
      "text/plain": [
       "{0: (0.5211301793049657, {'learning_rate': 0.1, 'max_depth': 4}),\n",
       " 1: (0.5214743455551012, {'learning_rate': 0.1, 'max_depth': 4}),\n",
       " 2: (0.5205631515621361, {'learning_rate': 0.1, 'max_depth': 3}),\n",
       " 3: (0.520965856990057, {'learning_rate': 0.1, 'max_depth': 5}),\n",
       " 4: (0.5212105123252881, {'learning_rate': 0.1, 'max_depth': 3})}"
      ]
     },
     "execution_count": 64,
     "metadata": {},
     "output_type": "execute_result"
    }
   ],
   "source": [
    "p_grid = {'learning_rate': [0.1, 0.5, 1, 1.5, 2], 'max_depth': [1, 2, 3, 4, 5]}\n",
    "hgrb = HistGradientBoostingRegressor()\n",
    "\n",
    "cv_best = {}\n",
    "\n",
    "# Loop for each trial\n",
    "for i in range(5):\n",
    "    clf = GridSearchCV(estimator=hgrb, param_grid=p_grid, scoring='r2', cv=5, n_jobs=n_jobs)\n",
    "    clf.fit(X, y)\n",
    "    cv_best[i] = (clf.best_score_, clf.best_params_)\n",
    "\n",
    "cv_best"
   ]
  },
  {
   "cell_type": "code",
   "execution_count": 27,
   "id": "30c22eef-9b79-4fcc-befe-1e60bcab4bd3",
   "metadata": {
    "id": "30c22eef-9b79-4fcc-befe-1e60bcab4bd3",
    "outputId": "1faad9b7-0839-4ab2-8d7b-a7d7c016f58a"
   },
   "outputs": [
    {
     "data": {
      "text/plain": [
       "0.36637956022262863"
      ]
     },
     "execution_count": 27,
     "metadata": {},
     "output_type": "execute_result"
    }
   ],
   "source": [
    "hgbr_0, hgbr_0_train_score = fit_hgbr(train_2015, 0)\n",
    "hgbr_0_train_score"
   ]
  },
  {
   "cell_type": "code",
   "execution_count": 28,
   "id": "1a57ac48-2656-4f47-afbd-d01b5a17f752",
   "metadata": {
    "id": "1a57ac48-2656-4f47-afbd-d01b5a17f752",
    "outputId": "fb27cec7-e06b-40e1-b60e-66417b0eaf7b"
   },
   "outputs": [
    {
     "data": {
      "text/plain": [
       "0.7637803048526116"
      ]
     },
     "execution_count": 28,
     "metadata": {},
     "output_type": "execute_result"
    }
   ],
   "source": [
    "hgbr_1, hgbr_1_train_score = fit_hgbr(train_2015, 1)\n",
    "hgbr_1_train_score"
   ]
  },
  {
   "cell_type": "code",
   "execution_count": 29,
   "id": "d15de2e7-463e-43b0-b6c2-088946c8c3e7",
   "metadata": {
    "id": "d15de2e7-463e-43b0-b6c2-088946c8c3e7",
    "outputId": "ec8ec64e-8275-46c3-a59e-60e932c462c3"
   },
   "outputs": [
    {
     "data": {
      "text/plain": [
       "0.900445518260216"
      ]
     },
     "execution_count": 29,
     "metadata": {},
     "output_type": "execute_result"
    }
   ],
   "source": [
    "hgbr_2, hgbr_2_train_score = fit_hgbr(train_2015, 2)\n",
    "hgbr_2_train_score"
   ]
  },
  {
   "cell_type": "code",
   "execution_count": 30,
   "id": "929eeb72-ef7d-4aa5-9789-540fd62feba8",
   "metadata": {
    "id": "929eeb72-ef7d-4aa5-9789-540fd62feba8",
    "outputId": "65c2afaf-6b8e-4c9c-99d0-557750d9bdd6"
   },
   "outputs": [
    {
     "data": {
      "text/plain": [
       "0.5170779029092183"
      ]
     },
     "execution_count": 30,
     "metadata": {},
     "output_type": "execute_result"
    }
   ],
   "source": [
    "hgbr_3, hgbr_3_train_score = fit_hgbr(train_2015, 3)\n",
    "hgbr_3_train_score"
   ]
  },
  {
   "cell_type": "code",
   "execution_count": 31,
   "id": "26156575-20b5-4913-a1d9-a2acbd18666c",
   "metadata": {
    "id": "26156575-20b5-4913-a1d9-a2acbd18666c",
    "outputId": "1d0d36a4-7bc5-4793-de60-037571351239"
   },
   "outputs": [
    {
     "data": {
      "text/plain": [
       "0.628602871091348"
      ]
     },
     "execution_count": 31,
     "metadata": {},
     "output_type": "execute_result"
    }
   ],
   "source": [
    "hgbr_all, hgbr_all_train_score = fit_hgbr(train_2015, None)\n",
    "hgbr_all_train_score"
   ]
  },
  {
   "cell_type": "code",
   "execution_count": 32,
   "id": "af092be5-1bcd-4767-b022-9bcf0072ced5",
   "metadata": {
    "id": "af092be5-1bcd-4767-b022-9bcf0072ced5",
    "outputId": "2cd9ea89-99db-41d1-d968-9f5a7ff2673d"
   },
   "outputs": [
    {
     "name": "stderr",
     "output_type": "stream",
     "text": [
      "/sw/pkgs/arc/python3.9-anaconda/2021.11/lib/python3.9/site-packages/pandas/core/indexing.py:1667: SettingWithCopyWarning:\n",
      "\n",
      "\n",
      "A value is trying to be set on a copy of a slice from a DataFrame.\n",
      "Try using .loc[row_indexer,col_indexer] = value instead\n",
      "\n",
      "See the caveats in the documentation: https://pandas.pydata.org/pandas-docs/stable/user_guide/indexing.html#returning-a-view-versus-a-copy\n",
      "\n"
     ]
    }
   ],
   "source": [
    "train_2015_df.loc[:, 'predictions'] = hgbr_all.predict(X)"
   ]
  },
  {
   "cell_type": "code",
   "execution_count": null,
   "id": "1462ce7e-cbe5-42eb-a4a1-6256e1c0a01b",
   "metadata": {
    "collapsed": true,
    "id": "1462ce7e-cbe5-42eb-a4a1-6256e1c0a01b",
    "jupyter": {
     "outputs_hidden": true
    },
    "outputId": "bcd8f9d7-5c15-479c-8b81-4692abd4e1f7",
    "tags": []
   },
   "outputs": [
    {
     "data": {
      "text/plain": [
       "['LEAID',\n",
       " 'NAME_LEA15',\n",
       " 'coi_year',\n",
       " 'pop_child',\n",
       " 'pop_total',\n",
       " 'pop_scaled',\n",
       " 'ED_APENR',\n",
       " 'ED_ATTAIN',\n",
       " 'ED_COLLEGE',\n",
       " 'ED_ECENROL',\n",
       " 'ED_HSGRAD',\n",
       " 'ED_MATH',\n",
       " 'ED_READING',\n",
       " 'ED_SCHPOV',\n",
       " 'ED_TEACHXP',\n",
       " 'ED_PRXECE',\n",
       " 'ED_PRXHQECE',\n",
       " 'HE_FOOD',\n",
       " 'HE_GREEN',\n",
       " 'HE_HEAT',\n",
       " 'HE_HLTHINS',\n",
       " 'HE_OZONE',\n",
       " 'HE_PM25',\n",
       " 'HE_VACANCY',\n",
       " 'HE_WALK',\n",
       " 'HE_SUPRFND',\n",
       " 'HE_RSEI',\n",
       " 'SE_POVRATE',\n",
       " 'SE_PUBLIC',\n",
       " 'SE_HOME',\n",
       " 'SE_OCC',\n",
       " 'SE_MHE',\n",
       " 'SE_EMPRAT',\n",
       " 'SE_JOBPROX',\n",
       " 'SE_SINGLE',\n",
       " 'Component 1',\n",
       " 'Component 2',\n",
       " 'Component 3',\n",
       " 'Component 4',\n",
       " 'Component 4',\n",
       " 'Component 6',\n",
       " 'Component 7',\n",
       " 'Component 8',\n",
       " 'Component 9',\n",
       " 'Component 10',\n",
       " 'Component 11',\n",
       " 'cluster',\n",
       " 'fips',\n",
       " 'stateabb',\n",
       " 'sedalea',\n",
       " 'sedaleaname',\n",
       " 'subject',\n",
       " 'grade',\n",
       " 'seda_year',\n",
       " 'cs_mn_all',\n",
       " 'cs_mnse_all',\n",
       " 'totgyb_all',\n",
       " 'cs_mn_asn',\n",
       " 'cs_mnse_asn',\n",
       " 'totgyb_asn',\n",
       " 'cs_mn_blk',\n",
       " 'cs_mnse_blk',\n",
       " 'totgyb_blk',\n",
       " 'cs_mn_ecd',\n",
       " 'cs_mnse_ecd',\n",
       " 'totgyb_ecd',\n",
       " 'cs_mn_fem',\n",
       " 'cs_mnse_fem',\n",
       " 'totgyb_fem',\n",
       " 'cs_mn_hsp',\n",
       " 'cs_mnse_hsp',\n",
       " 'totgyb_hsp',\n",
       " 'cs_mn_mal',\n",
       " 'cs_mnse_mal',\n",
       " 'totgyb_mal',\n",
       " 'cs_mn_mfg',\n",
       " 'cs_mnse_mfg',\n",
       " 'totgyb_mfg',\n",
       " 'cs_mn_mtr',\n",
       " 'cs_mnse_mtr',\n",
       " 'totgyb_mtr',\n",
       " 'cs_mn_nam',\n",
       " 'cs_mnse_nam',\n",
       " 'totgyb_nam',\n",
       " 'cs_mn_nec',\n",
       " 'cs_mnse_nec',\n",
       " 'totgyb_nec',\n",
       " 'cs_mn_neg',\n",
       " 'cs_mnse_neg',\n",
       " 'totgyb_neg',\n",
       " 'cs_mn_wag',\n",
       " 'cs_mnse_wag',\n",
       " 'totgyb_wag',\n",
       " 'cs_mn_wbg',\n",
       " 'cs_mnse_wbg',\n",
       " 'totgyb_wbg',\n",
       " 'cs_mn_whg',\n",
       " 'cs_mnse_whg',\n",
       " 'totgyb_whg',\n",
       " 'cs_mn_wht',\n",
       " 'cs_mnse_wht',\n",
       " 'totgyb_wht',\n",
       " 'cs_mn_wmg',\n",
       " 'cs_mnse_wmg',\n",
       " 'totgyb_wmg',\n",
       " 'cs_mn_wng',\n",
       " 'cs_mnse_wng',\n",
       " 'totgyb_wng',\n",
       " 'predictions']"
      ]
     },
     "execution_count": 70,
     "metadata": {},
     "output_type": "execute_result"
    }
   ],
   "source": [
    "list(train_2015_df.columns)"
   ]
  },
  {
   "cell_type": "code",
   "execution_count": 33,
   "id": "9af3f564-0335-4660-b021-45687fcc28db",
   "metadata": {
    "id": "9af3f564-0335-4660-b021-45687fcc28db",
    "tags": []
   },
   "outputs": [],
   "source": [
    "exclude_cols = ['Component 3', 'Component 4', 'Component 5', 'Component 6', 'Component 7',\n",
    "                'Component 8', 'Component 9', 'Component 10', 'Component 11', \n",
    "                'cs_mnse_all', 'cs_mnse_asn', 'cs_mnse_blk', 'cs_mnse_ecd', 'cs_mnse_fem',\n",
    "                'cs_mnse_hsp', 'cs_mnse_mal', 'cs_mnse_mfg', 'cs_mnse_mtr', 'cs_mnse_nam',\n",
    "                'cs_mnse_nec', 'cs_mnse_neg', 'cs_mnse_wag', 'cs_mnse_wbg', 'cs_mnse_whg',\n",
    "                'cs_mnse_wht', 'cs_mnse_wmg', 'cs_mnse_wng', 'totgyb_wng',\n",
    "                'ED_APENR', 'ED_COLLEGE', 'ED_ECENROL', 'ED_HSGRAD', 'ED_TEACHXP', 'ED_PRXECE', \n",
    "                'ED_PRXHQECE', 'HE_FOOD', 'HE_GREEN', 'HE_HEAT', 'HE_HLTHINS',\n",
    "                'HE_OZONE', 'HE_VACANCY', 'HE_WALK', 'HE_SUPRFND', 'SE_POVRATE', 'SE_HOME', \n",
    "                'SE_OCC', 'SE_MHE', 'SE_EMPRAT', 'SE_JOBPROX']\n",
    "\n",
    "display_df_train = train_2015_df[train_2015_df['cs_mn_all'].notna()]\n",
    "display_df_train = display_df_train[display_df_train.columns[~display_df_train.columns.isin(exclude_cols)]]"
   ]
  },
  {
   "cell_type": "markdown",
   "id": "152ba367-d11d-45d9-8c4c-6ac530d92b63",
   "metadata": {
    "id": "152ba367-d11d-45d9-8c4c-6ac530d92b63"
   },
   "source": [
    "# Test Set"
   ]
  },
  {
   "cell_type": "code",
   "execution_count": 34,
   "id": "f47aa5d5-7651-464f-bdd5-b645bd8b0b25",
   "metadata": {
    "id": "f47aa5d5-7651-464f-bdd5-b645bd8b0b25"
   },
   "outputs": [],
   "source": [
    "km_cols = ['pop_child', 'pop_total', 'pop_scaled', \n",
    "           'ED_APENR', 'ED_ATTAIN', 'ED_COLLEGE', 'ED_ECENROL', 'ED_HSGRAD',\n",
    "           'ED_MATH', 'ED_READING', 'ED_SCHPOV', 'ED_TEACHXP', 'ED_PRXECE', \n",
    "           'ED_PRXHQECE', 'HE_FOOD', 'HE_GREEN', 'HE_HEAT', 'HE_HLTHINS',\n",
    "           'HE_OZONE', 'HE_PM25', 'HE_VACANCY', 'HE_WALK', 'HE_SUPRFND', 'HE_RSEI',\n",
    "           'SE_POVRATE', 'SE_PUBLIC', 'SE_HOME', 'SE_OCC', 'SE_MHE', 'SE_EMPRAT',\n",
    "           'SE_JOBPROX', 'SE_SINGLE']\n",
    "\n",
    "km_df = coi_test_2015.loc[:, km_cols]\n",
    "\n",
    "km_df.iloc[:, :3] = scaler.transform(km_df.iloc[:, :3])\n",
    "\n",
    "pca_arr = pca.transform(km_df)\n",
    "\n",
    "pca_df = pd.concat([coi_test_2015.reset_index(drop = True), pd.DataFrame(pca_arr)],axis = 1)\n",
    "pca_df.columns.values[-11:] = ['Component 1','Component 2','Component 3','Component 4','Component 5','Component 6',\n",
    "                               'Component 7','Component 8','Component 9','Component 10','Component 11']\n",
    "\n",
    "clusters = kmeans.predict(pca_arr)\n",
    "\n",
    "coi_test_clust_2015 = pd.concat([pca_df, pd.Series(clusters, name='cluster')], axis=1)\n",
    "\n",
    "test_2015 = merge_data(coi_test_clust_2015, seda_test_2015)\n",
    "\n",
    "X_test_df, y_test, desc_test, test_2015_df = select_cols_X_y(test_2015, cluster=True, col='cs_mn_all')\n",
    "\n",
    "X_test = X_test_df.to_numpy()"
   ]
  },
  {
   "cell_type": "code",
   "execution_count": 39,
   "id": "10e59a24-e000-465c-abed-e6a26bb371ba",
   "metadata": {
    "id": "10e59a24-e000-465c-abed-e6a26bb371ba"
   },
   "outputs": [],
   "source": [
    "plot_clust_df = pd.concat([coi_train_clust_2015, coi_test_clust_2015], axis=0)\n",
    "plot_clust_df['Cluster Name'] = ['Cluster ' + str(x+1) for x in plot_clust_df['cluster']]"
   ]
  },
  {
   "cell_type": "code",
   "execution_count": 40,
   "id": "579ab057-8feb-4e67-867f-13e43fa1ac5a",
   "metadata": {
    "id": "579ab057-8feb-4e67-867f-13e43fa1ac5a",
    "outputId": "441cdc42-e320-4b3c-db26-d5209408c648"
   },
   "outputs": [
    {
     "data": {
      "text/plain": [
       "Index(['LEAID', 'NAME_LEA15', 'year', 'pop_child', 'pop_total', 'pop_scaled',\n",
       "       'ED_APENR', 'ED_ATTAIN', 'ED_COLLEGE', 'ED_ECENROL', 'ED_HSGRAD',\n",
       "       'ED_MATH', 'ED_READING', 'ED_SCHPOV', 'ED_TEACHXP', 'ED_PRXECE',\n",
       "       'ED_PRXHQECE', 'HE_FOOD', 'HE_GREEN', 'HE_HEAT', 'HE_HLTHINS',\n",
       "       'HE_OZONE', 'HE_PM25', 'HE_VACANCY', 'HE_WALK', 'HE_SUPRFND', 'HE_RSEI',\n",
       "       'SE_POVRATE', 'SE_PUBLIC', 'SE_HOME', 'SE_OCC', 'SE_MHE', 'SE_EMPRAT',\n",
       "       'SE_JOBPROX', 'SE_SINGLE', 'Component 1', 'Component 2', 'Component 3',\n",
       "       'Component 4', 'Component 5', 'Component 6', 'Component 7',\n",
       "       'Component 8', 'Component 9', 'Component 10', 'Component 11', 'cluster',\n",
       "       'Cluster Name'],\n",
       "      dtype='object')"
      ]
     },
     "execution_count": 40,
     "metadata": {},
     "output_type": "execute_result"
    }
   ],
   "source": [
    "plot_clust_df.columns"
   ]
  },
  {
   "cell_type": "code",
   "execution_count": 41,
   "id": "5334eae1-0e6d-4e7e-99d5-6482273c9858",
   "metadata": {
    "id": "5334eae1-0e6d-4e7e-99d5-6482273c9858",
    "outputId": "40099674-48ea-461a-9901-d2eec9b3e00b"
   },
   "outputs": [
    {
     "name": "stderr",
     "output_type": "stream",
     "text": [
      "/sw/pkgs/arc/python3.9-anaconda/2021.11/lib/python3.9/site-packages/pandas/core/indexing.py:1773: SettingWithCopyWarning:\n",
      "\n",
      "\n",
      "A value is trying to be set on a copy of a slice from a DataFrame.\n",
      "Try using .loc[row_indexer,col_indexer] = value instead\n",
      "\n",
      "See the caveats in the documentation: https://pandas.pydata.org/pandas-docs/stable/user_guide/indexing.html#returning-a-view-versus-a-copy\n",
      "\n"
     ]
    }
   ],
   "source": [
    "test_2015_df.loc[:, 'predictions'] = hgbr_all.predict(X_test)"
   ]
  },
  {
   "cell_type": "code",
   "execution_count": 42,
   "id": "1b6e4580-9e5e-4b01-b551-f59eb105cecb",
   "metadata": {
    "id": "1b6e4580-9e5e-4b01-b551-f59eb105cecb",
    "outputId": "f1b133d1-d70a-49ae-ac74-231298bec511"
   },
   "outputs": [
    {
     "data": {
      "text/plain": [
       "(219872, 61)"
      ]
     },
     "execution_count": 42,
     "metadata": {},
     "output_type": "execute_result"
    }
   ],
   "source": [
    "# Add test rows to display dataframe\n",
    "display_df_test = test_2015_df[test_2015_df['cs_mn_all'].notna()]\n",
    "display_df_test = display_df_test[display_df_test.columns[~display_df_test.columns.isin(exclude_cols)]]\n",
    "\n",
    "display_df_all = pd.concat([display_df_train, display_df_test], axis=0)\n",
    "\n",
    "display_df_all['subject'] = display_df_all['subject'].replace({0: 'Reading', 1: 'Math'})\n",
    "display_df_all['Cluster Name'] = ['Cluster ' + str(x+1) for x in display_df_all['cluster']]\n",
    "display_df_all.shape"
   ]
  },
  {
   "cell_type": "markdown",
   "id": "11277279-9d64-41a0-9fc4-413899d9a23a",
   "metadata": {},
   "source": [
    "# Feature Importance"
   ]
  },
  {
   "cell_type": "code",
   "execution_count": 43,
   "id": "dc6643ee-5e8d-43cc-a4de-424ea051a77c",
   "metadata": {
    "id": "dc6643ee-5e8d-43cc-a4de-424ea051a77c"
   },
   "outputs": [],
   "source": [
    "all_cols = ['coi_year', 'pop_child', 'pop_total', 'pop_scaled',\n",
    "            'ED_APENR', 'ED_ATTAIN', 'ED_COLLEGE', 'ED_ECENROL', 'ED_HSGRAD',\n",
    "            'ED_MATH', 'ED_READING', 'ED_SCHPOV', 'ED_TEACHXP', 'ED_PRXECE',\n",
    "            'ED_PRXHQECE', 'HE_FOOD', 'HE_GREEN', 'HE_HEAT', 'HE_HLTHINS',\n",
    "            'HE_OZONE', 'HE_PM25', 'HE_VACANCY', 'HE_WALK', 'HE_SUPRFND', 'HE_RSEI',\n",
    "            'SE_POVRATE', 'SE_PUBLIC', 'SE_HOME', 'SE_OCC', 'SE_MHE', 'SE_EMPRAT',\n",
    "            'SE_JOBPROX', 'SE_SINGLE', 'subject', 'grade', 'seda_year', 'cluster']\n",
    "\n",
    "labels = ['COI Year', 'Pop - Child', 'Pop - Total', 'Pop - Scaled to District',\n",
    "          'AP Enroll', 'Adult Ed Attainment', 'College Enroll', 'Early Child Ed Enroll', 'High School Grad Rate', \n",
    "          '3rd Grade Math Proficiency', '3rd Grade Reading Proficiency', 'School Poverty', 'Teacher Experience', 'Early Child Ed Centers',\n",
    "          'High-Quality Early Child Ed', 'Healthy Food Access', 'Green Space Access', 'Extreme Heat Exposure', 'Health Insurance Coverage', \n",
    "          'Ozone Concentration', 'Airborne Microparticles', 'Housing Vacancy Rate', 'Walkablity', 'Hazardous Waste', 'Industrial Pollutants',\n",
    "          'Poverty Rate', 'Public Assistance Rate', 'Homeownership Rate', 'High-Skill Employment', 'Median Household Income', 'Employment Rate',\n",
    "          'Commute Duration', 'Single-Headed Households', 'Subject (Read/Math)', 'Grade', 'School Year', 'Cluster ID']"
   ]
  },
  {
   "cell_type": "code",
   "execution_count": 77,
   "id": "cf862ddb-6faa-4281-b3d4-ba5b2d19f802",
   "metadata": {
    "id": "cf862ddb-6faa-4281-b3d4-ba5b2d19f802"
   },
   "outputs": [
    {
     "data": {
      "text/plain": [
       "0.5442006131285942"
      ]
     },
     "execution_count": 77,
     "metadata": {},
     "output_type": "execute_result"
    }
   ],
   "source": [
    "# Feature importance, all clusters together\n",
    "score_all, perm_imp_all, sorted_idx_all, df_melt_all = perm_importance(hgbr_all, test_2015, top_n=5)\n",
    "score_all"
   ]
  },
  {
   "cell_type": "code",
   "execution_count": 78,
   "id": "eb356e04-82f4-4d29-8a19-ecc4a80fa75b",
   "metadata": {
    "id": "eb356e04-82f4-4d29-8a19-ecc4a80fa75b"
   },
   "outputs": [
    {
     "data": {
      "text/plain": [
       "0.1666369848474597"
      ]
     },
     "execution_count": 78,
     "metadata": {},
     "output_type": "execute_result"
    }
   ],
   "source": [
    "# Feature importance, clusters 0\n",
    "score_0, perm_imp_0, sorted_idx_0, df_melt_0 = perm_importance(hgbr_0, test_2015, cluster_num=0, top_n=5)\n",
    "score_0"
   ]
  },
  {
   "cell_type": "code",
   "execution_count": 79,
   "id": "afbccdc6-cc13-48b8-ae1f-ac3f3eb3cf71",
   "metadata": {
    "id": "afbccdc6-cc13-48b8-ae1f-ac3f3eb3cf71"
   },
   "outputs": [
    {
     "data": {
      "text/plain": [
       "0.5989009805862228"
      ]
     },
     "execution_count": 79,
     "metadata": {},
     "output_type": "execute_result"
    }
   ],
   "source": [
    "# Feature importance, clusters 1\n",
    "score_1, perm_imp_1, sorted_idx_1, df_melt_1 = perm_importance(hgbr_1, test_2015, cluster_num=1, top_n=5)\n",
    "score_1"
   ]
  },
  {
   "cell_type": "code",
   "execution_count": 80,
   "id": "bcf6eb6b-f51c-4a16-bc42-1aadae16decd",
   "metadata": {
    "id": "bcf6eb6b-f51c-4a16-bc42-1aadae16decd"
   },
   "outputs": [],
   "source": [
    "# No test samples in cluster 2, so use training feature importance\n",
    "score_2, perm_imp_2, sorted_idx_2, df_melt_2 = perm_importance(hgbr_2, train_2015, cluster_num=2, top_n=5)"
   ]
  },
  {
   "cell_type": "code",
   "execution_count": 81,
   "id": "f2771056-20e1-4974-98b9-b061166f3141",
   "metadata": {
    "id": "f2771056-20e1-4974-98b9-b061166f3141"
   },
   "outputs": [
    {
     "data": {
      "text/plain": [
       "0.362814415562249"
      ]
     },
     "execution_count": 81,
     "metadata": {},
     "output_type": "execute_result"
    }
   ],
   "source": [
    "# Feature importance, clusters 3\n",
    "score_3, perm_imp_3, sorted_idx_3, df_melt_3 = perm_importance(hgbr_3, test_2015, cluster_num=3, top_n=5)\n",
    "score_3"
   ]
  },
  {
   "cell_type": "code",
   "execution_count": 82,
   "id": "75570135-186b-4827-8bd5-6168f9d39c9c",
   "metadata": {
    "id": "75570135-186b-4827-8bd5-6168f9d39c9c"
   },
   "outputs": [
    {
     "data": {
      "text/plain": [
       "Index(['Variable', 'Importance', 'Cluster Name'], dtype='object')"
      ]
     },
     "execution_count": 82,
     "metadata": {},
     "output_type": "execute_result"
    }
   ],
   "source": [
    "# Concatenate feature importance dataframes from each cluster\n",
    "feature_imp_df = pd.concat([df_melt_all, df_melt_0, df_melt_1, df_melt_2, df_melt_3])\n",
    "feature_imp_df.columns"
   ]
  },
  {
   "cell_type": "markdown",
   "id": "7e9b7074-33d9-425b-8176-b4ed80f3e731",
   "metadata": {},
   "source": [
    "# Model Scores on the Test Set"
   ]
  },
  {
   "cell_type": "code",
   "execution_count": 66,
   "id": "297a8980-f2e5-4664-ac55-3cc1251720fd",
   "metadata": {
    "id": "297a8980-f2e5-4664-ac55-3cc1251720fd",
    "outputId": "04e48d31-382b-45c5-ff8c-654cae090113"
   },
   "outputs": [
    {
     "data": {
      "text/plain": [
       "0.5279170599727858"
      ]
     },
     "execution_count": 66,
     "metadata": {},
     "output_type": "execute_result"
    }
   ],
   "source": [
    "lm.score(X_test, y_test)"
   ]
  },
  {
   "cell_type": "code",
   "execution_count": 67,
   "id": "0e51cf4c-153e-42d4-9add-fa050e9c90fe",
   "metadata": {
    "id": "0e51cf4c-153e-42d4-9add-fa050e9c90fe",
    "outputId": "4ebaca53-f72a-4488-c25a-d3732f6c899c"
   },
   "outputs": [
    {
     "data": {
      "text/plain": [
       "-0.004679532512761986"
      ]
     },
     "execution_count": 67,
     "metadata": {},
     "output_type": "execute_result"
    }
   ],
   "source": [
    "lasso.score(X_test, y_test)"
   ]
  },
  {
   "cell_type": "code",
   "execution_count": 68,
   "id": "a159b0cd-aae7-47b8-81cd-c29c6ccbf878",
   "metadata": {
    "id": "a159b0cd-aae7-47b8-81cd-c29c6ccbf878",
    "outputId": "b285d384-1895-4ba8-f6c2-f198f7718e8e"
   },
   "outputs": [
    {
     "data": {
      "text/plain": [
       "0.5279174034397779"
      ]
     },
     "execution_count": 68,
     "metadata": {},
     "output_type": "execute_result"
    }
   ],
   "source": [
    "ridge.score(X_test, y_test)"
   ]
  },
  {
   "cell_type": "code",
   "execution_count": 69,
   "id": "ef9c2be5-3f59-4d85-8bc3-60a2128025cf",
   "metadata": {
    "id": "ef9c2be5-3f59-4d85-8bc3-60a2128025cf",
    "outputId": "b41c9b86-b344-42b3-f531-dd047e67a8f3"
   },
   "outputs": [
    {
     "data": {
      "text/plain": [
       "0.5117465353293285"
      ]
     },
     "execution_count": 69,
     "metadata": {},
     "output_type": "execute_result"
    }
   ],
   "source": [
    "rfr7.score(X_test, y_test)"
   ]
  },
  {
   "cell_type": "code",
   "execution_count": 70,
   "id": "6a60a687-3830-4121-ba76-3031b84777e5",
   "metadata": {
    "id": "6a60a687-3830-4121-ba76-3031b84777e5",
    "outputId": "1cb7fecd-cad0-4d20-9bec-672bbdf07217"
   },
   "outputs": [
    {
     "data": {
      "text/plain": [
       "0.5125269869243877"
      ]
     },
     "execution_count": 70,
     "metadata": {},
     "output_type": "execute_result"
    }
   ],
   "source": [
    "gbr2_1.score(X_test, y_test)"
   ]
  },
  {
   "cell_type": "code",
   "execution_count": 71,
   "id": "9802cba0-e740-4a39-9011-757a5bc8aeb9",
   "metadata": {
    "id": "9802cba0-e740-4a39-9011-757a5bc8aeb9",
    "outputId": "935e4ab0-2a03-431b-effd-f4f2ed63826d"
   },
   "outputs": [
    {
     "data": {
      "text/plain": [
       "0.5442006131285942"
      ]
     },
     "execution_count": 71,
     "metadata": {},
     "output_type": "execute_result"
    }
   ],
   "source": [
    "hgrb1_4.score(X_test, y_test)"
   ]
  },
  {
   "cell_type": "markdown",
   "id": "c1719074-c4d3-42cf-94f7-9ae187620eb1",
   "metadata": {},
   "source": [
    "# Save data for display in Streamlit"
   ]
  },
  {
   "cell_type": "code",
   "execution_count": 72,
   "id": "8748e73d-614f-454d-a406-c55f789cb376",
   "metadata": {
    "id": "8748e73d-614f-454d-a406-c55f789cb376"
   },
   "outputs": [],
   "source": [
    "with open(path+'data_display/feature_imp.pkl', 'wb') as f:\n",
    "    pickle.dump(feature_imp_df, f)"
   ]
  },
  {
   "cell_type": "code",
   "execution_count": 73,
   "id": "0b93174e-f897-420f-99f0-3237274cbf6a",
   "metadata": {
    "id": "0b93174e-f897-420f-99f0-3237274cbf6a"
   },
   "outputs": [],
   "source": [
    "# Save clusters to pickle for display later\n",
    "with open(path+'data_display/clusters.pkl', 'wb') as f:\n",
    "    pickle.dump(plot_clust_df, f)"
   ]
  },
  {
   "cell_type": "code",
   "execution_count": 76,
   "id": "ddf02172-582d-4ad9-bd85-57b87f25076a",
   "metadata": {
    "id": "ddf02172-582d-4ad9-bd85-57b87f25076a"
   },
   "outputs": [],
   "source": [
    "# Choose display columns for viz\n",
    "display_seda_cols = ['LEAID', 'NAME_LEA15', 'fips', 'stateabb', 'sedalea', 'sedaleaname', 'subject', 'grade', \n",
    "                     'seda_year', 'cs_mn_all', 'predictions', 'Cluster Name']\n",
    "\n",
    "# Save just 4th grade data for display\n",
    "disp_seda_limited_df = display_df_all[display_df_all['grade']==4][display_seda_cols]\n",
    "\n",
    "# Join with map data\n",
    "disp_seda_limited_df = disp_seda_limited_df.merge(seda_map, left_on='sedalea', right_on='sedalea')\n",
    "\n",
    "with open(path+'data_display/seda_display.pkl', 'wb') as f:\n",
    "    pickle.dump(disp_seda_limited_df, f)"
   ]
  },
  {
   "cell_type": "code",
   "execution_count": 75,
   "id": "43044b77-ce64-4fe7-be4d-5527102414d2",
   "metadata": {
    "id": "43044b77-ce64-4fe7-be4d-5527102414d2"
   },
   "outputs": [],
   "source": [
    "# Choose display columns for viz\n",
    "display_coi_cols = ['LEAID', 'NAME_LEA15', 'ED_ATTAIN', 'ED_MATH', 'ED_READING', 'ED_SCHPOV', 'HE_PM25', \n",
    "                    'HE_RSEI', 'SE_PUBLIC', 'SE_SINGLE', 'Component 1', 'Component 2', 'Cluster Name']\n",
    "\n",
    "disp_coi = display_df_all[display_coi_cols]\n",
    "disp_coi = disp_coi.groupby('LEAID').first().reset_index()\n",
    "\n",
    "with open(path+'data_display/coi_display.pkl', 'wb') as f:\n",
    "    pickle.dump(disp_coi, f)"
   ]
  },
  {
   "cell_type": "code",
   "execution_count": null,
   "id": "27812767-b7f0-4d31-99e9-92de48e667e7",
   "metadata": {},
   "outputs": [],
   "source": []
  }
 ],
 "metadata": {
  "colab": {
   "collapsed_sections": [
    "8a43b76c-df94-4731-949b-52a842b76df3",
    "ecd5ecc8-e540-422b-b486-218abe177a1f",
    "dceaf2d2-0155-41aa-b1b0-faffd93923ca"
   ],
   "provenance": []
  },
  "kernelspec": {
   "display_name": "Python 3 (ipykernel)",
   "language": "python",
   "name": "python3"
  },
  "language_info": {
   "codemirror_mode": {
    "name": "ipython",
    "version": 3
   },
   "file_extension": ".py",
   "mimetype": "text/x-python",
   "name": "python",
   "nbconvert_exporter": "python",
   "pygments_lexer": "ipython3",
   "version": "3.9.7"
  }
 },
 "nbformat": 4,
 "nbformat_minor": 5
}
